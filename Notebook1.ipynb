{
 "metadata": {
  "name": "",
  "signature": "sha256:52ac960351a90c7b6e5aee28e5caf1d03148fef5c28ce5518c67a9ae7b5b9299"
 },
 "nbformat": 3,
 "nbformat_minor": 0,
 "worksheets": [
  {
   "cells": [
    {
     "cell_type": "code",
     "collapsed": false,
     "input": [
      "import numpy as np\n",
      "import pandas as pd\n",
      "#import pylab as pl\n",
      "import matplotlib.pyplot as plt\n",
      "import matplotlib.image as mpimg\n",
      "\n",
      "#import pydot \n",
      "%matplotlib inline\n",
      "\n",
      "from sklearn import decomposition\n",
      "from sklearn import datasets\n",
      "from sklearn.cross_validation import train_test_split\n",
      "from sklearn.cross_validation import StratifiedShuffleSplit\n",
      "from sklearn import tree\n",
      "from sklearn.externals.six import StringIO \n",
      "\n",
      "\n",
      "from mpl_toolkits.mplot3d import Axes3D\n",
      "\n",
      "from skimage.color import rgb2gray\n",
      "\n",
      "from skimage import filter\n",
      "from skimage import img_as_ubyte\n",
      "from skimage.morphology import disk\n",
      "from skimage.filter import threshold_otsu, rank"
     ],
     "language": "python",
     "metadata": {},
     "outputs": [],
     "prompt_number": 1
    },
    {
     "cell_type": "code",
     "collapsed": false,
     "input": [
      "#myLabels = pd.read_csv(\"/home/vagrant/notebooks/GAP/SmallObjectImages_Labels.csv\")\n",
      "myLabels = pd.read_csv(\"/Users/mrgh/Desktop/GAP/TRAIN/SmallObjectImages_Labels.csv\")\n",
      "myL = myLabels.sort_index(by='label').copy()\n",
      "aP = pd.DataFrame(index=range(5000), columns=[\"image_no\", \"label\"])\n",
      "aP[\"label\"] = \"cat\"\n",
      "aP[\"image_no\"] = myL[myL['label']==\"cat\"][\"id\"].values\n",
      "numberL = len(aP)\n",
      "\n",
      "#aP = myL[myL['label']==\"airplane\"]['label']\n",
      "#print aP['id'][0:1]\n",
      "#print aP['label'][0:1]"
     ],
     "language": "python",
     "metadata": {},
     "outputs": [],
     "prompt_number": 2
    },
    {
     "cell_type": "code",
     "collapsed": false,
     "input": [
      "aP[0:2]"
     ],
     "language": "python",
     "metadata": {},
     "outputs": [
      {
       "html": [
        "<div style=\"max-height:1000px;max-width:1500px;overflow:auto;\">\n",
        "<table border=\"1\" class=\"dataframe\">\n",
        "  <thead>\n",
        "    <tr style=\"text-align: right;\">\n",
        "      <th></th>\n",
        "      <th>image_no</th>\n",
        "      <th>label</th>\n",
        "    </tr>\n",
        "  </thead>\n",
        "  <tbody>\n",
        "    <tr>\n",
        "      <th>0</th>\n",
        "      <td> 7501</td>\n",
        "      <td> cat</td>\n",
        "    </tr>\n",
        "    <tr>\n",
        "      <th>1</th>\n",
        "      <td> 3017</td>\n",
        "      <td> cat</td>\n",
        "    </tr>\n",
        "  </tbody>\n",
        "</table>\n",
        "</div>"
       ],
       "metadata": {},
       "output_type": "pyout",
       "prompt_number": 4,
       "text": [
        "   image_no label\n",
        "0      7501   cat\n",
        "1      3017   cat"
       ]
      }
     ],
     "prompt_number": 4
    },
    {
     "cell_type": "code",
     "collapsed": false,
     "input": [
      "im = []\n",
      "for i in range(0, numberL):\n",
      "    #print aP.ix[i]['image_no']\n",
      "    #im1 = mpimg.imread(\"/home/vagrant/notebooks/GAP/TRAIN/\"+str(aP.ix[i]['image_no'])+\".png\")\n",
      "    im1 = mpimg.imread(\"/Users/mrgh/Desktop/GAP/TRAIN/train/\"+str(aP.ix[i]['image_no'])+\".png\")\n",
      "    im.append(im1)"
     ],
     "language": "python",
     "metadata": {},
     "outputs": [],
     "prompt_number": 6
    },
    {
     "cell_type": "code",
     "collapsed": false,
     "input": [
      "im[0].shape"
     ],
     "language": "python",
     "metadata": {},
     "outputs": [
      {
       "metadata": {},
       "output_type": "pyout",
       "prompt_number": 22,
       "text": [
        "(32, 32, 3)"
       ]
      }
     ],
     "prompt_number": 22
    },
    {
     "cell_type": "code",
     "collapsed": false,
     "input": [
      "test=np.zeros((5,5,3))"
     ],
     "language": "python",
     "metadata": {},
     "outputs": [],
     "prompt_number": 23
    },
    {
     "cell_type": "code",
     "collapsed": false,
     "input": [
      "im[0][0][1]"
     ],
     "language": "python",
     "metadata": {},
     "outputs": [
      {
       "metadata": {},
       "output_type": "pyout",
       "prompt_number": 30,
       "text": [
        "array([ 0.40784314,  0.40392157,  0.42745098], dtype=float32)"
       ]
      }
     ],
     "prompt_number": 30
    },
    {
     "cell_type": "code",
     "collapsed": false,
     "input": [
      "fig, ax = plt.subplots(nrows=1, ncols=1, figsize=(5,5))\n",
      "ax.imshow(im[0])"
     ],
     "language": "python",
     "metadata": {},
     "outputs": [
      {
       "metadata": {},
       "output_type": "pyout",
       "prompt_number": 25,
       "text": [
        "<matplotlib.image.AxesImage at 0x10c1c0790>"
       ]
      },
      {
       "metadata": {},
       "output_type": "display_data",
       "png": "[encoded data removed]",
       "text": [
        "<matplotlib.figure.Figure at 0x10c1c0810>"
       ]
      }
     ],
     "prompt_number": 25
    },
    {
     "cell_type": "code",
     "collapsed": false,
     "input": [
      "#convert to grayscale and normalize the image - meaning zero mean and unit variance\n",
      "\n",
      "imG = []\n",
      "imGc = []\n",
      "for image in im:\n",
      "    temp = rgb2gray(image)\n",
      "    temp1 = temp - np.mean(temp)\n",
      "    temp2 = temp1 / np.std(temp)\n",
      "    imG.append(temp)\n",
      "    temp3 = filter.canny(temp2, sigma=1.25)\n",
      "    imGc.append(temp3)\n",
      "    \n",
      "#im[3000].shape\n",
      "#ax2.imshow(im1G, cmap = plt.get_cmap('gray'))"
     ],
     "language": "python",
     "metadata": {},
     "outputs": [],
     "prompt_number": 8
    },
    {
     "cell_type": "code",
     "collapsed": false,
     "input": [
      "temp2.shape"
     ],
     "language": "python",
     "metadata": {},
     "outputs": [
      {
       "metadata": {},
       "output_type": "pyout",
       "prompt_number": 9,
       "text": [
        "(32, 32)"
       ]
      }
     ],
     "prompt_number": 9
    },
    {
     "cell_type": "code",
     "collapsed": false,
     "input": [
      "temp2 = temp2.reshape(1, 1024)"
     ],
     "language": "python",
     "metadata": {},
     "outputs": [],
     "prompt_number": 10
    },
    {
     "cell_type": "code",
     "collapsed": false,
     "input": [
      "temp2.shape"
     ],
     "language": "python",
     "metadata": {},
     "outputs": [
      {
       "metadata": {},
       "output_type": "pyout",
       "prompt_number": 11,
       "text": [
        "(1, 1024)"
       ]
      }
     ],
     "prompt_number": 11
    },
    {
     "cell_type": "code",
     "collapsed": false,
     "input": [
      "fig, (ax, ax1) = plt.subplots(nrows=1, ncols=2, figsize=(5,5))\n",
      "ax.imshow(imG[66], cmap = plt.get_cmap('gray'))\n",
      "ax1.imshow(imGc[66], cmap = plt.get_cmap('gray'))"
     ],
     "language": "python",
     "metadata": {},
     "outputs": [
      {
       "metadata": {},
       "output_type": "pyout",
       "prompt_number": 12,
       "text": [
        "<matplotlib.image.AxesImage at 0x1180cd410>"
       ]
      },
      {
       "metadata": {},
       "output_type": "display_data",
       "png": "[encoded data removed]",
       "text": [
        "<matplotlib.figure.Figure at 0x10ed517d0>"
       ]
      }
     ],
     "prompt_number": 12
    },
    {
     "cell_type": "code",
     "collapsed": false,
     "input": [
      "origImg = imG[0]\n",
      "theImg = img_as_ubyte(origImg)\n",
      "\n",
      "fig, (ax, ax1) = plt.subplots(nrows=1, ncols=2, figsize=(9,9))\n",
      "ax.imshow(origImg, cmap=plt.cm.gray)\n",
      "ax1.imshow(theImg, cmap=plt.cm.gray)"
     ],
     "language": "python",
     "metadata": {},
     "outputs": [
      {
       "metadata": {},
       "output_type": "pyout",
       "prompt_number": 15,
       "text": [
        "<matplotlib.image.AxesImage at 0x11a908dd0>"
       ]
      },
      {
       "metadata": {},
       "output_type": "display_data",
       "png": "[encoded data removed]",
       "text": [
        "<matplotlib.figure.Figure at 0x1185c89d0>"
       ]
      }
     ],
     "prompt_number": 15
    },
    {
     "cell_type": "code",
     "collapsed": false,
     "input": [
      "radius = 8\n",
      "selem = disk(radius)"
     ],
     "language": "python",
     "metadata": {},
     "outputs": [],
     "prompt_number": 16
    },
    {
     "cell_type": "code",
     "collapsed": false,
     "input": [
      "local_otsu = rank.otsu(theImg, selem)"
     ],
     "language": "python",
     "metadata": {},
     "outputs": [],
     "prompt_number": 17
    },
    {
     "cell_type": "code",
     "collapsed": false,
     "input": [
      "threshold_global_otsu = filter.threshold_otsu(theImg)"
     ],
     "language": "python",
     "metadata": {},
     "outputs": [],
     "prompt_number": 18
    },
    {
     "cell_type": "code",
     "collapsed": false,
     "input": [
      "global_otsu = theImg >= threshold_global_otsu"
     ],
     "language": "python",
     "metadata": {},
     "outputs": [],
     "prompt_number": 19
    },
    {
     "cell_type": "code",
     "collapsed": false,
     "input": [
      "#threshold_global_otsu = threshold_otsu(img)\n",
      "#global_otsu = img >= threshold_global_otsu\n",
      "\n",
      "\n",
      "fig, ax = plt.subplots(2, 2, figsize=(10, 10))\n",
      "ax1, ax2, ax3, ax4 = ax.ravel()\n",
      "\n",
      "fig.colorbar(ax1.imshow(origImg, cmap=plt.cm.gray),\n",
      "           ax=ax1, orientation='horizontal')\n",
      "ax1.set_title('Original')\n",
      "ax1.axis('off')\n",
      "\n",
      "fig.colorbar(ax2.imshow(local_otsu, cmap=plt.cm.gray),\n",
      "           ax=ax2, orientation='horizontal')\n",
      "ax2.set_title('Local Otsu (radius=%d)' % radius)\n",
      "ax2.axis('off')\n",
      "\n",
      "ax3.imshow(theImg >= local_otsu, cmap=plt.cm.gray)\n",
      "ax3.set_title('Original >= Local Otsu' % threshold_global_otsu)\n",
      "ax3.axis('off')\n",
      "\n",
      "ax4.imshow(global_otsu, cmap=plt.cm.gray)\n",
      "ax4.set_title('Global Otsu (threshold = %d)' % threshold_global_otsu)\n",
      "ax4.axis('off')\n",
      "\n",
      "plt.show()"
     ],
     "language": "python",
     "metadata": {},
     "outputs": [
      {
       "metadata": {},
       "output_type": "display_data",
       "png": "[encoded data removed]",
       "text": [
        "<matplotlib.figure.Figure at 0x11aa46a90>"
       ]
      }
     ],
     "prompt_number": 20
    },
    {
     "cell_type": "code",
     "collapsed": false,
     "input": [
      "#fig, ax = plt.subplots(nrows=1, ncols=1, figsize=(9,9))\n",
      "#ax.imshow(mask, cmap=plt.cm.gray)"
     ],
     "language": "python",
     "metadata": {},
     "outputs": [],
     "prompt_number": 21
    },
    {
     "cell_type": "code",
     "collapsed": false,
     "input": [
      "#im1G_N"
     ],
     "language": "python",
     "metadata": {},
     "outputs": [],
     "prompt_number": 22
    },
    {
     "cell_type": "code",
     "collapsed": false,
     "input": [
      "#tt = im1G_N.reshape(32*32,1)"
     ],
     "language": "python",
     "metadata": {},
     "outputs": [],
     "prompt_number": 23
    },
    {
     "cell_type": "code",
     "collapsed": false,
     "input": [
      "#tt"
     ],
     "language": "python",
     "metadata": {},
     "outputs": [],
     "prompt_number": 49
    },
    {
     "cell_type": "code",
     "collapsed": false,
     "input": [
      "def accuracy_report(model, xtrain, ytrain, xtest, ytest):\n",
      "    #Print the accuracy on the test and training dataset\n",
      "    training_accuracy = model.score(xtrain, ytrain)\n",
      "    test_accuracy = model.score(xtest, ytest)\n",
      "\n",
      "    print \"Accuracy on training data: %0.2f\" % (training_accuracy)\n",
      "    print \"Accuracy on test data: %0.2f\" % (test_accuracy)\n",
      "    return test_accuracy"
     ],
     "language": "python",
     "metadata": {},
     "outputs": [],
     "prompt_number": 24
    },
    {
     "cell_type": "markdown",
     "metadata": {},
     "source": [
      "##Read the labels and modify the data frame to accept a new numeric label"
     ]
    },
    {
     "cell_type": "code",
     "collapsed": false,
     "input": [
      "#myLabels = pd.read_csv(\"/home/vagrant/notebooks/GAP/SmallObjectImages_Labels.csv\")\n",
      "myLabels = pd.read_csv(\"/Users/mrgholt/Desktop/GAP/TRAIN/SmallObjectImages_Labels.csv\")\n",
      "print myLabels.ix[49999]\n",
      "print myLabels.shape\n",
      "myLabels[0:5]\n",
      "myLabels['class_label'] = 0\n",
      "print myLabels.shape\n",
      "print type(myLabels)\n",
      "myLabels[0:1]"
     ],
     "language": "python",
     "metadata": {},
     "outputs": [
      {
       "output_type": "stream",
       "stream": "stdout",
       "text": [
        "id            50000\n",
        "label    automobile\n",
        "Name: 49999, dtype: object\n",
        "(50000, 2)\n",
        "(50000, 3)\n",
        "<class 'pandas.core.frame.DataFrame'>\n"
       ]
      },
      {
       "html": [
        "<div style=\"max-height:1000px;max-width:1500px;overflow:auto;\">\n",
        "<table border=\"1\" class=\"dataframe\">\n",
        "  <thead>\n",
        "    <tr style=\"text-align: right;\">\n",
        "      <th></th>\n",
        "      <th>id</th>\n",
        "      <th>label</th>\n",
        "      <th>class_label</th>\n",
        "    </tr>\n",
        "  </thead>\n",
        "  <tbody>\n",
        "    <tr>\n",
        "      <th>0</th>\n",
        "      <td> 1</td>\n",
        "      <td> frog</td>\n",
        "      <td> 0</td>\n",
        "    </tr>\n",
        "  </tbody>\n",
        "</table>\n",
        "</div>"
       ],
       "metadata": {},
       "output_type": "pyout",
       "prompt_number": 25,
       "text": [
        "   id label  class_label\n",
        "0   1  frog            0"
       ]
      }
     ],
     "prompt_number": 25
    },
    {
     "cell_type": "markdown",
     "metadata": {},
     "source": [
      "##This function will read the label for the image an apply a new numeric label"
     ]
    },
    {
     "cell_type": "code",
     "collapsed": false,
     "input": [
      "def addL(x):\n",
      "    if x == \"frog\":\n",
      "        return 0\n",
      "    elif x == \"truck\":\n",
      "        return 1\n",
      "    elif x == \"deer\":\n",
      "        return 2\n",
      "    elif x == \"automobile\":\n",
      "        return 3\n",
      "    elif x == \"bird\":\n",
      "        return 4\n",
      "    elif x == \"cat\":\n",
      "        return 5\n",
      "    elif x == \"dog\":\n",
      "        return 6\n",
      "    elif x == \"horse\":\n",
      "        return 7\n",
      "    elif x == \"ship\":\n",
      "        return 8\n",
      "    elif x == \"airplane\":\n",
      "        return 9"
     ],
     "language": "python",
     "metadata": {},
     "outputs": [],
     "prompt_number": 26
    },
    {
     "cell_type": "markdown",
     "metadata": {},
     "source": [
      "##Get the numeric labels"
     ]
    },
    {
     "cell_type": "code",
     "collapsed": false,
     "input": [
      "myLabels['class_label'] = myLabels['label'].apply(addL)"
     ],
     "language": "python",
     "metadata": {},
     "outputs": [],
     "prompt_number": 27
    },
    {
     "cell_type": "markdown",
     "metadata": {},
     "source": [
      "##Read the images from file. There are 50000 32 by 32 pixel images"
     ]
    },
    {
     "cell_type": "code",
     "collapsed": false,
     "input": [
      "im = []\n",
      "for i in range(1, 50001):\n",
      "    #print aP.ix[i]['image_no']\n",
      "    #im1 = mpimg.imread(\"/home/vagrant/notebooks/GAP/TRAIN/\"+str(aP.ix[i]['image_no'])+\".png\")\n",
      "    fileName = \"/Users/mrgholt/Desktop/GAP/TRAIN/train/\"+str(i)+\".png\"\n",
      "    #print fileName\n",
      "    im1 = mpimg.imread(fileName)\n",
      "    im.append(im1)"
     ],
     "language": "python",
     "metadata": {},
     "outputs": [],
     "prompt_number": 28
    },
    {
     "cell_type": "markdown",
     "metadata": {},
     "source": [
      "#Experiment 1. A"
     ]
    },
    {
     "cell_type": "markdown",
     "metadata": {},
     "source": [
      "###Do nothing \"fancy\". Simply input the raw pixel values from the color images into a decision tree classifier"
     ]
    },
    {
     "cell_type": "code",
     "collapsed": false,
     "input": [
      "imageLabels = myLabels['class_label'].values"
     ],
     "language": "python",
     "metadata": {},
     "outputs": [],
     "prompt_number": 30
    },
    {
     "cell_type": "code",
     "collapsed": false,
     "input": [
      "imG = []\n",
      "for image in im:\n",
      "    im2 = rgb2gray(image)\n",
      "    imG.append(im2)"
     ],
     "language": "python",
     "metadata": {},
     "outputs": [],
     "prompt_number": 31
    },
    {
     "cell_type": "markdown",
     "metadata": {},
     "source": [
      "###Also make a separate list of the images as grayscale"
     ]
    },
    {
     "cell_type": "code",
     "collapsed": false,
     "input": [
      "fig, ax = plt.subplots(nrows=1, ncols=1, figsize=(2,2))\n",
      "ax.imshow(imG[1], cmap=plt.cm.gray)"
     ],
     "language": "python",
     "metadata": {},
     "outputs": [
      {
       "metadata": {},
       "output_type": "pyout",
       "prompt_number": 32,
       "text": [
        "<matplotlib.image.AxesImage at 0x11a9f6990>"
       ]
      },
      {
       "metadata": {},
       "output_type": "display_data",
       "png": "[encoded data removed]",
       "text": [
        "<matplotlib.figure.Figure at 0x11a9f6c90>"
       ]
      }
     ],
     "prompt_number": 32
    },
    {
     "cell_type": "code",
     "collapsed": false,
     "input": [
      "im = np.array(im)\n",
      "imG = np.array(imG)\n",
      "imData = im.reshape(50000, 3072)\n",
      "imGData = imG.reshape(50000, 1024)\n",
      "print \"The shape of the color images as an array is \", imData.shape\n",
      "print \"The shape of the grayscale images as an array is \", imGData.shape"
     ],
     "language": "python",
     "metadata": {},
     "outputs": [
      {
       "output_type": "stream",
       "stream": "stdout",
       "text": [
        "The shape of the color images as an array is  (50000, 3072)\n",
        "The shape of the grayscale images as an array is  (50000, 1024)\n"
       ]
      }
     ],
     "prompt_number": 33
    },
    {
     "cell_type": "code",
     "collapsed": false,
     "input": [
      "clf = tree.DecisionTreeClassifier()"
     ],
     "language": "python",
     "metadata": {},
     "outputs": [],
     "prompt_number": 59
    },
    {
     "cell_type": "code",
     "collapsed": false,
     "input": [
      "def acc_report(model, xtrain, ytrain, xtest, ytest):\n",
      "    #Print the accuracy on the test and training dataset\n",
      "    training_accuracy = model.score(xtrain, ytrain)\n",
      "    test_accuracy = model.score(xtest, ytest)\n",
      "\n",
      "    print \"Accuracy on training data: %0.2f\" % (training_accuracy)\n",
      "    print \"Accuracy on test data: %0.2f\" % (test_accuracy)\n",
      "    return test_accuracy"
     ],
     "language": "python",
     "metadata": {},
     "outputs": [],
     "prompt_number": 83
    },
    {
     "cell_type": "code",
     "collapsed": false,
     "input": [
      "def runTreeClassifier(imageData, imageLabels) :\n",
      "    i=1\n",
      "    models = {}\n",
      "    sss = StratifiedShuffleSplit(imageLabels, 1, test_size = 0.5, random_state = 35)\n",
      "    for train_index, test_index in sss:\n",
      "        indexName = \"model_\" + str(i)\n",
      "        i = i + 1\n",
      "        X_train, X_test = imageData[train_index], imageData[test_index]\n",
      "        y_train, y_test = imageLabels[train_index], imageLabels[test_index]\n",
      "        myTreeClassifier = clf.fit(X_train, y_train)\n",
      "        models[indexName] = myTreeClassifier\n",
      "        models[indexName+\"Acc\"] = acc_report(myTreeClassifier, X_train, y_train, X_test, y_test)\n",
      "        models[indexName+\"xtrain\"] = X_train.copy()\n",
      "        models[indexName+\"xtest\"] = X_test.copy()\n",
      "        models[indexName+\"ytrain\"] = y_train.copy()\n",
      "        models[indexName+\"ytest\"] = y_test.copy()\n",
      "    return models"
     ],
     "language": "python",
     "metadata": {},
     "outputs": [],
     "prompt_number": 84
    },
    {
     "cell_type": "markdown",
     "metadata": {},
     "source": [
      "###Color"
     ]
    },
    {
     "cell_type": "code",
     "collapsed": false,
     "input": [
      "rgb_models = runTreeClassifier(imData, imageLabels)"
     ],
     "language": "python",
     "metadata": {},
     "outputs": [
      {
       "output_type": "stream",
       "stream": "stdout",
       "text": [
        "Accuracy on training data: 1.00\n",
        "Accuracy on test data: 0.25\n"
       ]
      }
     ],
     "prompt_number": 82
    },
    {
     "cell_type": "code",
     "collapsed": false,
     "input": [
      "rgb_models[\"model_1xtrain\"].shape"
     ],
     "language": "python",
     "metadata": {},
     "outputs": [
      {
       "metadata": {},
       "output_type": "pyout",
       "prompt_number": 73,
       "text": [
        "(25000, 3072)"
       ]
      }
     ],
     "prompt_number": 73
    },
    {
     "cell_type": "code",
     "collapsed": false,
     "input": [
      "rgb_models[\"model_1xtest\"].shape"
     ],
     "language": "python",
     "metadata": {},
     "outputs": [
      {
       "metadata": {},
       "output_type": "pyout",
       "prompt_number": 79,
       "text": [
        "(25000, 3072)"
       ]
      }
     ],
     "prompt_number": 79
    },
    {
     "cell_type": "code",
     "collapsed": false,
     "input": [
      "rgb_models[\"model_1ytrain\"].shape"
     ],
     "language": "python",
     "metadata": {},
     "outputs": [
      {
       "metadata": {},
       "output_type": "pyout",
       "prompt_number": 77,
       "text": [
        "(25000,)"
       ]
      }
     ],
     "prompt_number": 77
    },
    {
     "cell_type": "code",
     "collapsed": false,
     "input": [
      "rgb_models[\"model_1ytest\"].shape"
     ],
     "language": "python",
     "metadata": {},
     "outputs": [
      {
       "metadata": {},
       "output_type": "pyout",
       "prompt_number": 78,
       "text": [
        "(25000,)"
       ]
      }
     ],
     "prompt_number": 78
    },
    {
     "cell_type": "code",
     "collapsed": false,
     "input": [
      "acc_report(rgb_models[\"model_1\"], rgb_models[\"model_1xtrain\"], rgb_models[\"model_1ytrain\"], rgb_models[\"model_1xtest\"], rgb_models[\"model_1ytest\"])"
     ],
     "language": "python",
     "metadata": {},
     "outputs": [
      {
       "output_type": "stream",
       "stream": "stdout",
       "text": [
        "Accuracy on training data: 1.00\n",
        "Accuracy on test data: 0.25\n"
       ]
      },
      {
       "metadata": {},
       "output_type": "pyout",
       "prompt_number": 88,
       "text": [
        "0.25391999999999998"
       ]
      }
     ],
     "prompt_number": 88
    },
    {
     "cell_type": "markdown",
     "metadata": {},
     "source": [
      "##50% train - test split. So the test set is 2500 images of each class"
     ]
    },
    {
     "cell_type": "code",
     "collapsed": false,
     "input": [
      "pd.crosstab(rgb_models[\"model_1ytest\"], rgb_models[\"model_1\"].predict(rgb_models[\"model_1xtest\"]), rownames = [\"Actual\"], colnames = [\"Predicted\"])"
     ],
     "language": "python",
     "metadata": {},
     "outputs": [
      {
       "html": [
        "<div style=\"max-height:1000px;max-width:1500px;overflow:auto;\">\n",
        "<table border=\"1\" class=\"dataframe\">\n",
        "  <thead>\n",
        "    <tr style=\"text-align: right;\">\n",
        "      <th>Predicted</th>\n",
        "      <th>0</th>\n",
        "      <th>1</th>\n",
        "      <th>2</th>\n",
        "      <th>3</th>\n",
        "      <th>4</th>\n",
        "      <th>5</th>\n",
        "      <th>6</th>\n",
        "      <th>7</th>\n",
        "      <th>8</th>\n",
        "      <th>9</th>\n",
        "    </tr>\n",
        "    <tr>\n",
        "      <th>Actual</th>\n",
        "      <th></th>\n",
        "      <th></th>\n",
        "      <th></th>\n",
        "      <th></th>\n",
        "      <th></th>\n",
        "      <th></th>\n",
        "      <th></th>\n",
        "      <th></th>\n",
        "      <th></th>\n",
        "      <th></th>\n",
        "    </tr>\n",
        "  </thead>\n",
        "  <tbody>\n",
        "    <tr>\n",
        "      <th>0</th>\n",
        "      <td> 662</td>\n",
        "      <td>  92</td>\n",
        "      <td> 398</td>\n",
        "      <td> 132</td>\n",
        "      <td> 296</td>\n",
        "      <td> 277</td>\n",
        "      <td> 241</td>\n",
        "      <td> 220</td>\n",
        "      <td>  91</td>\n",
        "      <td>  91</td>\n",
        "    </tr>\n",
        "    <tr>\n",
        "      <th>1</th>\n",
        "      <td> 124</td>\n",
        "      <td> 637</td>\n",
        "      <td> 143</td>\n",
        "      <td> 377</td>\n",
        "      <td> 165</td>\n",
        "      <td> 189</td>\n",
        "      <td> 137</td>\n",
        "      <td> 237</td>\n",
        "      <td> 283</td>\n",
        "      <td> 208</td>\n",
        "    </tr>\n",
        "    <tr>\n",
        "      <th>2</th>\n",
        "      <td> 343</td>\n",
        "      <td> 114</td>\n",
        "      <td> 585</td>\n",
        "      <td> 112</td>\n",
        "      <td> 347</td>\n",
        "      <td> 278</td>\n",
        "      <td> 208</td>\n",
        "      <td> 269</td>\n",
        "      <td>  96</td>\n",
        "      <td> 148</td>\n",
        "    </tr>\n",
        "    <tr>\n",
        "      <th>3</th>\n",
        "      <td> 144</td>\n",
        "      <td> 402</td>\n",
        "      <td> 130</td>\n",
        "      <td> 632</td>\n",
        "      <td> 193</td>\n",
        "      <td> 182</td>\n",
        "      <td> 163</td>\n",
        "      <td> 193</td>\n",
        "      <td> 266</td>\n",
        "      <td> 195</td>\n",
        "    </tr>\n",
        "    <tr>\n",
        "      <th>4</th>\n",
        "      <td> 253</td>\n",
        "      <td> 108</td>\n",
        "      <td> 427</td>\n",
        "      <td> 131</td>\n",
        "      <td> 500</td>\n",
        "      <td> 253</td>\n",
        "      <td> 237</td>\n",
        "      <td> 225</td>\n",
        "      <td> 132</td>\n",
        "      <td> 234</td>\n",
        "    </tr>\n",
        "    <tr>\n",
        "      <th>5</th>\n",
        "      <td> 290</td>\n",
        "      <td> 138</td>\n",
        "      <td> 274</td>\n",
        "      <td> 139</td>\n",
        "      <td> 300</td>\n",
        "      <td> 448</td>\n",
        "      <td> 364</td>\n",
        "      <td> 244</td>\n",
        "      <td> 138</td>\n",
        "      <td> 165</td>\n",
        "    </tr>\n",
        "    <tr>\n",
        "      <th>6</th>\n",
        "      <td> 239</td>\n",
        "      <td> 128</td>\n",
        "      <td> 297</td>\n",
        "      <td> 139</td>\n",
        "      <td> 298</td>\n",
        "      <td> 351</td>\n",
        "      <td> 557</td>\n",
        "      <td> 239</td>\n",
        "      <td> 127</td>\n",
        "      <td> 125</td>\n",
        "    </tr>\n",
        "    <tr>\n",
        "      <th>7</th>\n",
        "      <td> 180</td>\n",
        "      <td> 221</td>\n",
        "      <td> 317</td>\n",
        "      <td> 135</td>\n",
        "      <td> 262</td>\n",
        "      <td> 237</td>\n",
        "      <td> 252</td>\n",
        "      <td> 586</td>\n",
        "      <td> 131</td>\n",
        "      <td> 179</td>\n",
        "    </tr>\n",
        "    <tr>\n",
        "      <th>8</th>\n",
        "      <td>  83</td>\n",
        "      <td> 220</td>\n",
        "      <td> 138</td>\n",
        "      <td> 261</td>\n",
        "      <td> 147</td>\n",
        "      <td> 154</td>\n",
        "      <td> 129</td>\n",
        "      <td> 127</td>\n",
        "      <td> 877</td>\n",
        "      <td> 364</td>\n",
        "    </tr>\n",
        "    <tr>\n",
        "      <th>9</th>\n",
        "      <td>  92</td>\n",
        "      <td> 175</td>\n",
        "      <td> 150</td>\n",
        "      <td> 168</td>\n",
        "      <td> 259</td>\n",
        "      <td> 161</td>\n",
        "      <td> 117</td>\n",
        "      <td> 169</td>\n",
        "      <td> 345</td>\n",
        "      <td> 864</td>\n",
        "    </tr>\n",
        "  </tbody>\n",
        "</table>\n",
        "</div>"
       ],
       "metadata": {},
       "output_type": "pyout",
       "prompt_number": 86,
       "text": [
        "Predicted    0    1    2    3    4    5    6    7    8    9\n",
        "Actual                                                     \n",
        "0          662   92  398  132  296  277  241  220   91   91\n",
        "1          124  637  143  377  165  189  137  237  283  208\n",
        "2          343  114  585  112  347  278  208  269   96  148\n",
        "3          144  402  130  632  193  182  163  193  266  195\n",
        "4          253  108  427  131  500  253  237  225  132  234\n",
        "5          290  138  274  139  300  448  364  244  138  165\n",
        "6          239  128  297  139  298  351  557  239  127  125\n",
        "7          180  221  317  135  262  237  252  586  131  179\n",
        "8           83  220  138  261  147  154  129  127  877  364\n",
        "9           92  175  150  168  259  161  117  169  345  864"
       ]
      }
     ],
     "prompt_number": 86
    },
    {
     "cell_type": "markdown",
     "metadata": {},
     "source": [
      "###Grayscale"
     ]
    },
    {
     "cell_type": "code",
     "collapsed": false,
     "input": [
      "g_models = runTreeClassifier(imGData, imageLabels)"
     ],
     "language": "python",
     "metadata": {},
     "outputs": []
    },
    {
     "cell_type": "code",
     "collapsed": false,
     "input": [
      "acc_report(g_models[\"model_1\"], g_models[\"model_1xtrain\"], g_models[\"model_1ytrain\"], g_models[\"model_1xtest\"], g_models[\"model_1ytest\"])"
     ],
     "language": "python",
     "metadata": {},
     "outputs": [
      {
       "output_type": "stream",
       "stream": "stdout",
       "text": [
        "Accuracy on training data: 1.00\n",
        "Accuracy on test data: 0.21\n"
       ]
      },
      {
       "metadata": {},
       "output_type": "pyout",
       "prompt_number": 90,
       "text": [
        "0.21440000000000001"
       ]
      }
     ],
     "prompt_number": 90
    },
    {
     "cell_type": "code",
     "collapsed": false,
     "input": [
      "pd.crosstab(g_models[\"model_1ytest\"], g_models[\"model_1\"].predict(g_models[\"model_1xtest\"]), rownames = [\"Actual\"], colnames = [\"Predicted\"])"
     ],
     "language": "python",
     "metadata": {},
     "outputs": [
      {
       "html": [
        "<div style=\"max-height:1000px;max-width:1500px;overflow:auto;\">\n",
        "<table border=\"1\" class=\"dataframe\">\n",
        "  <thead>\n",
        "    <tr style=\"text-align: right;\">\n",
        "      <th>Predicted</th>\n",
        "      <th>0</th>\n",
        "      <th>1</th>\n",
        "      <th>2</th>\n",
        "      <th>3</th>\n",
        "      <th>4</th>\n",
        "      <th>5</th>\n",
        "      <th>6</th>\n",
        "      <th>7</th>\n",
        "      <th>8</th>\n",
        "      <th>9</th>\n",
        "    </tr>\n",
        "    <tr>\n",
        "      <th>Actual</th>\n",
        "      <th></th>\n",
        "      <th></th>\n",
        "      <th></th>\n",
        "      <th></th>\n",
        "      <th></th>\n",
        "      <th></th>\n",
        "      <th></th>\n",
        "      <th></th>\n",
        "      <th></th>\n",
        "      <th></th>\n",
        "    </tr>\n",
        "  </thead>\n",
        "  <tbody>\n",
        "    <tr>\n",
        "      <th>0</th>\n",
        "      <td> 473</td>\n",
        "      <td> 176</td>\n",
        "      <td> 299</td>\n",
        "      <td> 171</td>\n",
        "      <td> 286</td>\n",
        "      <td> 285</td>\n",
        "      <td> 265</td>\n",
        "      <td> 196</td>\n",
        "      <td> 147</td>\n",
        "      <td> 202</td>\n",
        "    </tr>\n",
        "    <tr>\n",
        "      <th>1</th>\n",
        "      <td> 172</td>\n",
        "      <td> 626</td>\n",
        "      <td> 153</td>\n",
        "      <td> 410</td>\n",
        "      <td> 147</td>\n",
        "      <td> 188</td>\n",
        "      <td> 128</td>\n",
        "      <td> 193</td>\n",
        "      <td> 290</td>\n",
        "      <td> 193</td>\n",
        "    </tr>\n",
        "    <tr>\n",
        "      <th>2</th>\n",
        "      <td> 314</td>\n",
        "      <td> 131</td>\n",
        "      <td> 488</td>\n",
        "      <td> 131</td>\n",
        "      <td> 301</td>\n",
        "      <td> 246</td>\n",
        "      <td> 247</td>\n",
        "      <td> 240</td>\n",
        "      <td> 171</td>\n",
        "      <td> 231</td>\n",
        "    </tr>\n",
        "    <tr>\n",
        "      <th>3</th>\n",
        "      <td> 192</td>\n",
        "      <td> 424</td>\n",
        "      <td> 182</td>\n",
        "      <td> 573</td>\n",
        "      <td> 153</td>\n",
        "      <td> 161</td>\n",
        "      <td> 192</td>\n",
        "      <td> 191</td>\n",
        "      <td> 253</td>\n",
        "      <td> 179</td>\n",
        "    </tr>\n",
        "    <tr>\n",
        "      <th>4</th>\n",
        "      <td> 307</td>\n",
        "      <td> 116</td>\n",
        "      <td> 329</td>\n",
        "      <td> 135</td>\n",
        "      <td> 480</td>\n",
        "      <td> 236</td>\n",
        "      <td> 241</td>\n",
        "      <td> 192</td>\n",
        "      <td> 162</td>\n",
        "      <td> 302</td>\n",
        "    </tr>\n",
        "    <tr>\n",
        "      <th>5</th>\n",
        "      <td> 284</td>\n",
        "      <td> 187</td>\n",
        "      <td> 258</td>\n",
        "      <td> 201</td>\n",
        "      <td> 247</td>\n",
        "      <td> 406</td>\n",
        "      <td> 314</td>\n",
        "      <td> 232</td>\n",
        "      <td> 181</td>\n",
        "      <td> 190</td>\n",
        "    </tr>\n",
        "    <tr>\n",
        "      <th>6</th>\n",
        "      <td> 263</td>\n",
        "      <td> 165</td>\n",
        "      <td> 266</td>\n",
        "      <td> 166</td>\n",
        "      <td> 248</td>\n",
        "      <td> 338</td>\n",
        "      <td> 502</td>\n",
        "      <td> 227</td>\n",
        "      <td> 155</td>\n",
        "      <td> 170</td>\n",
        "    </tr>\n",
        "    <tr>\n",
        "      <th>7</th>\n",
        "      <td> 190</td>\n",
        "      <td> 203</td>\n",
        "      <td> 262</td>\n",
        "      <td> 165</td>\n",
        "      <td> 228</td>\n",
        "      <td> 262</td>\n",
        "      <td> 270</td>\n",
        "      <td> 542</td>\n",
        "      <td> 176</td>\n",
        "      <td> 202</td>\n",
        "    </tr>\n",
        "    <tr>\n",
        "      <th>8</th>\n",
        "      <td> 186</td>\n",
        "      <td> 234</td>\n",
        "      <td> 181</td>\n",
        "      <td> 222</td>\n",
        "      <td> 181</td>\n",
        "      <td> 176</td>\n",
        "      <td> 151</td>\n",
        "      <td> 145</td>\n",
        "      <td> 656</td>\n",
        "      <td> 368</td>\n",
        "    </tr>\n",
        "    <tr>\n",
        "      <th>9</th>\n",
        "      <td> 189</td>\n",
        "      <td> 162</td>\n",
        "      <td> 246</td>\n",
        "      <td> 147</td>\n",
        "      <td> 314</td>\n",
        "      <td> 184</td>\n",
        "      <td> 179</td>\n",
        "      <td> 148</td>\n",
        "      <td> 317</td>\n",
        "      <td> 614</td>\n",
        "    </tr>\n",
        "  </tbody>\n",
        "</table>\n",
        "</div>"
       ],
       "metadata": {},
       "output_type": "pyout",
       "prompt_number": 91,
       "text": [
        "Predicted    0    1    2    3    4    5    6    7    8    9\n",
        "Actual                                                     \n",
        "0          473  176  299  171  286  285  265  196  147  202\n",
        "1          172  626  153  410  147  188  128  193  290  193\n",
        "2          314  131  488  131  301  246  247  240  171  231\n",
        "3          192  424  182  573  153  161  192  191  253  179\n",
        "4          307  116  329  135  480  236  241  192  162  302\n",
        "5          284  187  258  201  247  406  314  232  181  190\n",
        "6          263  165  266  166  248  338  502  227  155  170\n",
        "7          190  203  262  165  228  262  270  542  176  202\n",
        "8          186  234  181  222  181  176  151  145  656  368\n",
        "9          189  162  246  147  314  184  179  148  317  614"
       ]
      }
     ],
     "prompt_number": 91
    },
    {
     "cell_type": "markdown",
     "metadata": {},
     "source": [
      "#Experiment 1. B"
     ]
    },
    {
     "cell_type": "markdown",
     "metadata": {},
     "source": [
      "##Repeat this with PCA using only the first 10 principal components!"
     ]
    },
    {
     "cell_type": "code",
     "collapsed": false,
     "input": [
      "pca = decomposition.PCA(n_components=10)\n",
      "imDataZM = imData - np.mean(imData)\n",
      "pca.fit(imDataZM)\n",
      "imData_pca = pca.transform(imDataZM)\n",
      "pca.get_params()"
     ],
     "language": "python",
     "metadata": {},
     "outputs": [
      {
       "metadata": {},
       "output_type": "pyout",
       "prompt_number": 92,
       "text": [
        "{'copy': True, 'n_components': 10, 'whiten': False}"
       ]
      }
     ],
     "prompt_number": 92
    },
    {
     "cell_type": "code",
     "collapsed": false,
     "input": [
      "pl.plot(pca.explained_variance_ratio_)"
     ],
     "language": "python",
     "metadata": {},
     "outputs": [
      {
       "metadata": {},
       "output_type": "pyout",
       "prompt_number": 40,
       "text": [
        "[<matplotlib.lines.Line2D at 0x1105121d0>]"
       ]
      },
      {
       "metadata": {},
       "output_type": "display_data",
       "png": "[encoded data removed]",
       "text": [
        "<matplotlib.figure.Figure at 0x1103cc490>"
       ]
      }
     ],
     "prompt_number": 40
    },
    {
     "cell_type": "code",
     "collapsed": false,
     "input": [
      "rgb_pca_models = runTreeClassifier(imData_pca, imageLabels)"
     ],
     "language": "python",
     "metadata": {},
     "outputs": [
      {
       "output_type": "stream",
       "stream": "stdout",
       "text": [
        "Accuracy on training data: 1.00\n",
        "Accuracy on test data: 0.25\n"
       ]
      }
     ],
     "prompt_number": 226
    },
    {
     "cell_type": "code",
     "collapsed": false,
     "input": [
      "pd.crosstab(rgb_pca_models[\"model_1ytest\"], rgb_pca_models[\"model_1\"].predict(rgb_pca_models[\"model_1xtest\"]), rownames = [\"Actual\"], colnames = [\"Predicted\"])"
     ],
     "language": "python",
     "metadata": {},
     "outputs": [
      {
       "html": [
        "<div style=\"max-height:1000px;max-width:1500px;overflow:auto;\">\n",
        "<table border=\"1\" class=\"dataframe\">\n",
        "  <thead>\n",
        "    <tr style=\"text-align: right;\">\n",
        "      <th>Predicted</th>\n",
        "      <th>0</th>\n",
        "      <th>1</th>\n",
        "      <th>2</th>\n",
        "      <th>3</th>\n",
        "      <th>4</th>\n",
        "      <th>5</th>\n",
        "      <th>6</th>\n",
        "      <th>7</th>\n",
        "      <th>8</th>\n",
        "      <th>9</th>\n",
        "    </tr>\n",
        "    <tr>\n",
        "      <th>Actual</th>\n",
        "      <th></th>\n",
        "      <th></th>\n",
        "      <th></th>\n",
        "      <th></th>\n",
        "      <th></th>\n",
        "      <th></th>\n",
        "      <th></th>\n",
        "      <th></th>\n",
        "      <th></th>\n",
        "      <th></th>\n",
        "    </tr>\n",
        "  </thead>\n",
        "  <tbody>\n",
        "    <tr>\n",
        "      <th>0</th>\n",
        "      <td> 647</td>\n",
        "      <td> 138</td>\n",
        "      <td> 326</td>\n",
        "      <td> 168</td>\n",
        "      <td> 322</td>\n",
        "      <td> 262</td>\n",
        "      <td> 253</td>\n",
        "      <td> 223</td>\n",
        "      <td>  54</td>\n",
        "      <td> 107</td>\n",
        "    </tr>\n",
        "    <tr>\n",
        "      <th>1</th>\n",
        "      <td> 144</td>\n",
        "      <td> 660</td>\n",
        "      <td> 124</td>\n",
        "      <td> 416</td>\n",
        "      <td> 132</td>\n",
        "      <td> 208</td>\n",
        "      <td> 128</td>\n",
        "      <td> 205</td>\n",
        "      <td> 284</td>\n",
        "      <td> 199</td>\n",
        "    </tr>\n",
        "    <tr>\n",
        "      <th>2</th>\n",
        "      <td> 326</td>\n",
        "      <td> 121</td>\n",
        "      <td> 491</td>\n",
        "      <td> 143</td>\n",
        "      <td> 385</td>\n",
        "      <td> 245</td>\n",
        "      <td> 243</td>\n",
        "      <td> 297</td>\n",
        "      <td> 123</td>\n",
        "      <td> 126</td>\n",
        "    </tr>\n",
        "    <tr>\n",
        "      <th>3</th>\n",
        "      <td> 170</td>\n",
        "      <td> 434</td>\n",
        "      <td> 151</td>\n",
        "      <td> 651</td>\n",
        "      <td> 128</td>\n",
        "      <td> 180</td>\n",
        "      <td> 133</td>\n",
        "      <td> 198</td>\n",
        "      <td> 252</td>\n",
        "      <td> 203</td>\n",
        "    </tr>\n",
        "    <tr>\n",
        "      <th>4</th>\n",
        "      <td> 308</td>\n",
        "      <td> 123</td>\n",
        "      <td> 357</td>\n",
        "      <td> 133</td>\n",
        "      <td> 496</td>\n",
        "      <td> 241</td>\n",
        "      <td> 249</td>\n",
        "      <td> 221</td>\n",
        "      <td> 127</td>\n",
        "      <td> 245</td>\n",
        "    </tr>\n",
        "    <tr>\n",
        "      <th>5</th>\n",
        "      <td> 274</td>\n",
        "      <td> 170</td>\n",
        "      <td> 262</td>\n",
        "      <td> 164</td>\n",
        "      <td> 276</td>\n",
        "      <td> 427</td>\n",
        "      <td> 380</td>\n",
        "      <td> 267</td>\n",
        "      <td> 128</td>\n",
        "      <td> 152</td>\n",
        "    </tr>\n",
        "    <tr>\n",
        "      <th>6</th>\n",
        "      <td> 268</td>\n",
        "      <td> 124</td>\n",
        "      <td> 263</td>\n",
        "      <td> 147</td>\n",
        "      <td> 258</td>\n",
        "      <td> 345</td>\n",
        "      <td> 584</td>\n",
        "      <td> 270</td>\n",
        "      <td> 113</td>\n",
        "      <td> 128</td>\n",
        "    </tr>\n",
        "    <tr>\n",
        "      <th>7</th>\n",
        "      <td> 211</td>\n",
        "      <td> 186</td>\n",
        "      <td> 301</td>\n",
        "      <td> 173</td>\n",
        "      <td> 290</td>\n",
        "      <td> 243</td>\n",
        "      <td> 259</td>\n",
        "      <td> 576</td>\n",
        "      <td> 120</td>\n",
        "      <td> 141</td>\n",
        "    </tr>\n",
        "    <tr>\n",
        "      <th>8</th>\n",
        "      <td>  72</td>\n",
        "      <td> 321</td>\n",
        "      <td> 123</td>\n",
        "      <td> 258</td>\n",
        "      <td> 136</td>\n",
        "      <td> 143</td>\n",
        "      <td> 113</td>\n",
        "      <td> 139</td>\n",
        "      <td> 800</td>\n",
        "      <td> 395</td>\n",
        "    </tr>\n",
        "    <tr>\n",
        "      <th>9</th>\n",
        "      <td> 106</td>\n",
        "      <td> 200</td>\n",
        "      <td> 147</td>\n",
        "      <td> 171</td>\n",
        "      <td> 275</td>\n",
        "      <td> 141</td>\n",
        "      <td> 112</td>\n",
        "      <td> 152</td>\n",
        "      <td> 402</td>\n",
        "      <td> 794</td>\n",
        "    </tr>\n",
        "  </tbody>\n",
        "</table>\n",
        "</div>"
       ],
       "metadata": {},
       "output_type": "pyout",
       "prompt_number": 230,
       "text": [
        "Predicted    0    1    2    3    4    5    6    7    8    9\n",
        "Actual                                                     \n",
        "0          647  138  326  168  322  262  253  223   54  107\n",
        "1          144  660  124  416  132  208  128  205  284  199\n",
        "2          326  121  491  143  385  245  243  297  123  126\n",
        "3          170  434  151  651  128  180  133  198  252  203\n",
        "4          308  123  357  133  496  241  249  221  127  245\n",
        "5          274  170  262  164  276  427  380  267  128  152\n",
        "6          268  124  263  147  258  345  584  270  113  128\n",
        "7          211  186  301  173  290  243  259  576  120  141\n",
        "8           72  321  123  258  136  143  113  139  800  395\n",
        "9          106  200  147  171  275  141  112  152  402  794"
       ]
      }
     ],
     "prompt_number": 230
    },
    {
     "cell_type": "markdown",
     "metadata": {},
     "source": [
      "\n",
      "##Canny Filtering"
     ]
    },
    {
     "cell_type": "code",
     "collapsed": false,
     "input": [
      "imCanny = []\n",
      "imG[0].shape\n",
      "\n",
      "for i in range(0, 50000):\n",
      "    imCanny.append(filter.canny(imG[i], sigma=2.5))"
     ],
     "language": "python",
     "metadata": {},
     "outputs": [],
     "prompt_number": 38
    },
    {
     "cell_type": "code",
     "collapsed": false,
     "input": [
      "fig, (ax, ax1) = plt.subplots(nrows=1, ncols=2, figsize=(5,5))\n",
      "\n",
      "\n",
      "ax1.imshow(imG[1], cmap = plt.get_cmap('gray'))\n",
      "ax.imshow(imCanny[1], cmap = plt.get_cmap('gray'))"
     ],
     "language": "python",
     "metadata": {},
     "outputs": [
      {
       "metadata": {},
       "output_type": "pyout",
       "prompt_number": 37,
       "text": [
        "<matplotlib.image.AxesImage at 0x11ca359d0>"
       ]
      },
      {
       "metadata": {},
       "output_type": "display_data",
       "png": "[encoded data removed]",
       "text": [
        "<matplotlib.figure.Figure at 0x11ca87510>"
       ]
      }
     ],
     "prompt_number": 37
    },
    {
     "cell_type": "code",
     "collapsed": false,
     "input": [
      "imGCanny = np.array(imCanny)\n",
      "print imGCanny.shape"
     ],
     "language": "python",
     "metadata": {},
     "outputs": [
      {
       "output_type": "stream",
       "stream": "stdout",
       "text": [
        "(50000, 32, 32)\n"
       ]
      }
     ],
     "prompt_number": 128
    },
    {
     "cell_type": "code",
     "collapsed": false,
     "input": [
      "c_models = runTreeClassifier(imGCannyData, imageLabels)"
     ],
     "language": "python",
     "metadata": {},
     "outputs": [
      {
       "output_type": "stream",
       "stream": "stdout",
       "text": [
        "Accuracy on training data: 1.00\n",
        "Accuracy on test data: 0.14\n"
       ]
      }
     ],
     "prompt_number": 129
    },
    {
     "cell_type": "code",
     "collapsed": false,
     "input": [
      "pd.crosstab(c_models[\"model_1ytest\"], c_models[\"model_1\"].predict(c_models[\"model_1xtest\"]), rownames = [\"Actual\"], colnames = [\"Predicted\"])"
     ],
     "language": "python",
     "metadata": {},
     "outputs": [
      {
       "html": [
        "<div style=\"max-height:1000px;max-width:1500px;overflow:auto;\">\n",
        "<table border=\"1\" class=\"dataframe\">\n",
        "  <thead>\n",
        "    <tr style=\"text-align: right;\">\n",
        "      <th>Predicted</th>\n",
        "      <th>0</th>\n",
        "      <th>1</th>\n",
        "      <th>2</th>\n",
        "      <th>3</th>\n",
        "      <th>4</th>\n",
        "      <th>5</th>\n",
        "      <th>6</th>\n",
        "      <th>7</th>\n",
        "      <th>8</th>\n",
        "      <th>9</th>\n",
        "    </tr>\n",
        "    <tr>\n",
        "      <th>Actual</th>\n",
        "      <th></th>\n",
        "      <th></th>\n",
        "      <th></th>\n",
        "      <th></th>\n",
        "      <th></th>\n",
        "      <th></th>\n",
        "      <th></th>\n",
        "      <th></th>\n",
        "      <th></th>\n",
        "      <th></th>\n",
        "    </tr>\n",
        "  </thead>\n",
        "  <tbody>\n",
        "    <tr>\n",
        "      <th>0</th>\n",
        "      <td> 281</td>\n",
        "      <td> 242</td>\n",
        "      <td> 251</td>\n",
        "      <td> 248</td>\n",
        "      <td> 276</td>\n",
        "      <td> 258</td>\n",
        "      <td> 269</td>\n",
        "      <td> 251</td>\n",
        "      <td> 209</td>\n",
        "      <td> 215</td>\n",
        "    </tr>\n",
        "    <tr>\n",
        "      <th>1</th>\n",
        "      <td> 274</td>\n",
        "      <td> 352</td>\n",
        "      <td> 213</td>\n",
        "      <td> 294</td>\n",
        "      <td> 194</td>\n",
        "      <td> 286</td>\n",
        "      <td> 253</td>\n",
        "      <td> 244</td>\n",
        "      <td> 202</td>\n",
        "      <td> 188</td>\n",
        "    </tr>\n",
        "    <tr>\n",
        "      <th>2</th>\n",
        "      <td> 222</td>\n",
        "      <td> 203</td>\n",
        "      <td> 306</td>\n",
        "      <td> 195</td>\n",
        "      <td> 289</td>\n",
        "      <td> 245</td>\n",
        "      <td> 217</td>\n",
        "      <td> 231</td>\n",
        "      <td> 281</td>\n",
        "      <td> 311</td>\n",
        "    </tr>\n",
        "    <tr>\n",
        "      <th>3</th>\n",
        "      <td> 272</td>\n",
        "      <td> 350</td>\n",
        "      <td> 215</td>\n",
        "      <td> 323</td>\n",
        "      <td> 166</td>\n",
        "      <td> 259</td>\n",
        "      <td> 248</td>\n",
        "      <td> 225</td>\n",
        "      <td> 235</td>\n",
        "      <td> 207</td>\n",
        "    </tr>\n",
        "    <tr>\n",
        "      <th>4</th>\n",
        "      <td> 262</td>\n",
        "      <td> 171</td>\n",
        "      <td> 303</td>\n",
        "      <td> 165</td>\n",
        "      <td> 364</td>\n",
        "      <td> 233</td>\n",
        "      <td> 258</td>\n",
        "      <td> 226</td>\n",
        "      <td> 218</td>\n",
        "      <td> 300</td>\n",
        "    </tr>\n",
        "    <tr>\n",
        "      <th>5</th>\n",
        "      <td> 275</td>\n",
        "      <td> 256</td>\n",
        "      <td> 270</td>\n",
        "      <td> 229</td>\n",
        "      <td> 228</td>\n",
        "      <td> 310</td>\n",
        "      <td> 306</td>\n",
        "      <td> 251</td>\n",
        "      <td> 196</td>\n",
        "      <td> 179</td>\n",
        "    </tr>\n",
        "    <tr>\n",
        "      <th>6</th>\n",
        "      <td> 273</td>\n",
        "      <td> 241</td>\n",
        "      <td> 253</td>\n",
        "      <td> 250</td>\n",
        "      <td> 250</td>\n",
        "      <td> 277</td>\n",
        "      <td> 308</td>\n",
        "      <td> 290</td>\n",
        "      <td> 163</td>\n",
        "      <td> 195</td>\n",
        "    </tr>\n",
        "    <tr>\n",
        "      <th>7</th>\n",
        "      <td> 248</td>\n",
        "      <td> 244</td>\n",
        "      <td> 262</td>\n",
        "      <td> 258</td>\n",
        "      <td> 203</td>\n",
        "      <td> 299</td>\n",
        "      <td> 281</td>\n",
        "      <td> 317</td>\n",
        "      <td> 187</td>\n",
        "      <td> 201</td>\n",
        "    </tr>\n",
        "    <tr>\n",
        "      <th>8</th>\n",
        "      <td> 218</td>\n",
        "      <td> 242</td>\n",
        "      <td> 292</td>\n",
        "      <td> 183</td>\n",
        "      <td> 206</td>\n",
        "      <td> 168</td>\n",
        "      <td> 185</td>\n",
        "      <td> 189</td>\n",
        "      <td> 461</td>\n",
        "      <td> 356</td>\n",
        "    </tr>\n",
        "    <tr>\n",
        "      <th>9</th>\n",
        "      <td> 218</td>\n",
        "      <td> 173</td>\n",
        "      <td> 261</td>\n",
        "      <td> 170</td>\n",
        "      <td> 290</td>\n",
        "      <td> 194</td>\n",
        "      <td> 159</td>\n",
        "      <td> 174</td>\n",
        "      <td> 375</td>\n",
        "      <td> 486</td>\n",
        "    </tr>\n",
        "  </tbody>\n",
        "</table>\n",
        "</div>"
       ],
       "metadata": {},
       "output_type": "pyout",
       "prompt_number": 130,
       "text": [
        "Predicted    0    1    2    3    4    5    6    7    8    9\n",
        "Actual                                                     \n",
        "0          281  242  251  248  276  258  269  251  209  215\n",
        "1          274  352  213  294  194  286  253  244  202  188\n",
        "2          222  203  306  195  289  245  217  231  281  311\n",
        "3          272  350  215  323  166  259  248  225  235  207\n",
        "4          262  171  303  165  364  233  258  226  218  300\n",
        "5          275  256  270  229  228  310  306  251  196  179\n",
        "6          273  241  253  250  250  277  308  290  163  195\n",
        "7          248  244  262  258  203  299  281  317  187  201\n",
        "8          218  242  292  183  206  168  185  189  461  356\n",
        "9          218  173  261  170  290  194  159  174  375  486"
       ]
      }
     ],
     "prompt_number": 130
    }
   ],
   "metadata": {}
  }
 ]
}