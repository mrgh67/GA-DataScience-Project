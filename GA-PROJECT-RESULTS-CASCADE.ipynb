{
 "metadata": {
  "name": "",
  "signature": "sha256:0d84c6e3c36f8bacdffd8ba6341a65453ac27b43404852728d32fcf321dd6b92"
 },
 "nbformat": 3,
 "nbformat_minor": 0,
 "worksheets": [
  {
   "cells": [
    {
     "cell_type": "code",
     "collapsed": false,
     "input": [
      "import numpy as np\n",
      "import pandas as pd\n",
      "import matplotlib.pyplot as plt\n",
      "import matplotlib.image as mpimg\n",
      "\n",
      "from skimage.color import rgb2gray\n",
      "%matplotlib inline\n",
      "from skimage.filter import gabor_kernel\n",
      "from skimage import exposure\n",
      "from scipy import ndimage as nd\n",
      "\n",
      "from sklearn import decomposition\n",
      "from sklearn.ensemble import AdaBoostClassifier\n",
      "from sklearn.ensemble import RandomForestClassifier\n",
      "from sklearn.ensemble import ExtraTreesClassifier\n",
      "from sklearn import tree\n",
      "from sklearn.cross_validation import StratifiedShuffleSplit\n",
      "from sklearn.linear_model import LogisticRegression\n",
      "from sklearn.linear_model import SGDClassifier\n",
      "\n",
      "from IPython.display import Image\n",
      "from IPython.display import display\n",
      "from IPython.display import clear_output\n",
      "\n",
      "import datetime\n",
      "import time\n",
      "import collections\n",
      "import cv2\n",
      "import pickle"
     ],
     "language": "python",
     "metadata": {},
     "outputs": [],
     "prompt_number": 324
    },
    {
     "cell_type": "code",
     "collapsed": false,
     "input": [
      "class getData(object):\n",
      "    \"handles all the input required, and initial data munging\"\n",
      "    \n",
      "    def __init__(self, machine=\"desktop\"):\n",
      "        self.machine = machine\n",
      "        print \"You are working on\", self.machine\n",
      "        if(self.machine == \"laptop\"):\n",
      "            self.labelPath = \"/home/vagrant/project/TRAIN/\"\n",
      "            self.filePath = \"/home/vagrant/project/training_set/\"\n",
      "        elif(self.machine == \"desktop\"):\n",
      "            self.labelPath = \"/Users/mrgh/Desktop/GAP/TRAIN/\"\n",
      "            self.filePath = \"/Users/mrgh/Desktop/GAP/TRAIN/train/\"\n",
      "            self.testFilePath = \"/Users/mrgh/Desktop/GAP/TEST/\"\n",
      "            self.resultsCPath = \"/Users/mrgh/Desktop/GAP/RESULTS/CASCADE/\"\n",
      "            self.resultsTPath = \"/Users/mrgh/Desktop/GAP/RESULTS/TENCLASS/\"\n",
      "            self.picklePath = \"/Users/mrgh/GA_PYTHON_2/\"\n",
      "        elif(self.machine == \"wdesktop\"):\n",
      "            self.labelPath = \"/Users/markholt/Desktop/TRAIN/\"\n",
      "            self.filePath = \"/Users/markholt/Desktop/TRAIN/train/\"\n",
      "            self.testFilePath = \"/Users/markholt/Desktop/TEST/\"\n",
      "            self.resultsPath = \"/Users/markholt/Desktop/RESULTS/\"\n",
      "            \n",
      "    def getPath(self, p):\n",
      "        if p == \"test\":\n",
      "            return self.testFilePath\n",
      "        elif p == \"label\":\n",
      "            return self.labelPath\n",
      "        elif p == \"train\":\n",
      "            return self.filePath\n",
      "        elif p == \"resultsC\":\n",
      "            return self.resultsCPath\n",
      "        elif p == \"resultsT\":\n",
      "            return self.resultsTPath\n",
      "        elif p == \"pickle\":\n",
      "            return self.picklePath\n",
      "    \n",
      "    def readLabels(self):\n",
      "        myLabels = pd.read_csv(self.labelPath + \"SmallObjectImages_Labels.csv\")\n",
      "        return myLabels\n",
      "    \n",
      "    def readTestLabels(self):\n",
      "        myLabels = pd.read_csv(self.testFilePath + \"test_labels.csv\")\n",
      "        return myLabels\n",
      "    \n",
      "    def readImages(self, tNumber):\n",
      "        imageList = []\n",
      "        for i in range(1, tNumber + 1):\n",
      "            fileName = self.filePath + str(i) + \".png\"\n",
      "            im1 = mpimg.imread(fileName)\n",
      "            imageList.append(im1)   \n",
      "        return imageList\n",
      "    \n",
      "    def readTestImages(self, tNumber):\n",
      "        imageList = []\n",
      "        for i in range(1, tNumber + 1):\n",
      "            fileName = self.testFilePath + str(i) + \".png\"\n",
      "            im1 = mpimg.imread(fileName)\n",
      "            imageList.append(im1)   \n",
      "        return imageList\n",
      "    \n",
      "    def readListOfImages(self, imList):\n",
      "        imageList = []\n",
      "        for i in imList:\n",
      "            fileName = self.filePath + str(i) + \".png\"\n",
      "            im1 = mpimg.imread(fileName)\n",
      "            imageList.append(im1)   \n",
      "        return imageList\n",
      "                   \n",
      "    def readOneImage(self, imageNumber):\n",
      "        fileName = self.filePath + str(imageNumber) + \".png\"\n",
      "        im1 = mpimg.imread(fileName)\n",
      "        return im1\n",
      "    \n",
      "    def readOneTestImage(self, imageNumber):\n",
      "        fileName = self.testFilePath + str(imageNumber) + \".png\"\n",
      "        im1 = mpimg.imread(fileName)\n",
      "        return im1\n",
      "    \n",
      "    def readImagesOfType(self, tType):\n",
      "        myLabels = self.readLabels()\n",
      "        myLabels = myLabels.sort_index(by='label').copy()\n",
      "        imagesOfTypeDf = pd.DataFrame(index=range(5000), columns=[\"image_no\", \"label\"])\n",
      "        imagesOfTypeDf[\"label\"] = tType\n",
      "        imagesOfTypeDf[\"image_no\"] = myLabels[myLabels['label']==tType][\"id\"].values\n",
      "        return imagesOfTypeDf.sort_index(by=\"image_no\")\n",
      "    \n",
      "    def pickRandomSet(self, req, numClasses, classifier):\n",
      "        imLabList = []\n",
      "        imList = []\n",
      "        \n",
      "        for klas in req:\n",
      "            reqIm = self.readImagesOfType(klas)\n",
      "            #mask is a list of image file name numbers e.g. 1.png\n",
      "            mask = reqIm['image_no'].values\n",
      "            ranIm = np.random.choice(mask,req[klas])\n",
      "            for i in ranIm:\n",
      "                im = self.readOneImage(i)\n",
      "                imList.append(im)\n",
      "\n",
      "                imLab = np.zeros(req[klas])\n",
      "            for i in range(len(imLab)):\n",
      "                if numClasses == 2:\n",
      "                    if classifier == \"A1\":\n",
      "                        imLab = self.transformLabelsForTwoClassesA1(klas)\n",
      "                    else:\n",
      "                        imLab = self.transformLabelsForTwoClasses(klas)\n",
      "                elif numClasses == 3:\n",
      "                    if classifier == \"A1b\":\n",
      "                        imLab = self.transformLabelsForThreeClassesA1b(klas)\n",
      "                    elif classifier == \"A1a\":\n",
      "                        imLab = self.transformLabelsForThreeClassesA1a(klas)\n",
      "                elif numClasses == 4:\n",
      "                    if classifier == \"A12\":\n",
      "                        imLab = self.transformLabelsForFourClassesA2(klas)\n",
      "                else:\n",
      "                    imLab = self.transformLabels(klas)\n",
      "                imLabList.append(imLab)\n",
      "        retList = []\n",
      "        retList.append(imLabList)\n",
      "        retList.append(imList)\n",
      "        \n",
      "        return retList\n",
      "    \n",
      "    \n",
      "    def transformLabels(self, x):\n",
      "        if x == \"frog\":\n",
      "            return 0\n",
      "        elif x == \"truck\":\n",
      "            return 1\n",
      "        elif x == \"deer\":\n",
      "            return 2\n",
      "        elif x == \"automobile\":\n",
      "            return 3\n",
      "        elif x == \"bird\":\n",
      "            return 4\n",
      "        elif x == \"cat\":\n",
      "            return 5\n",
      "        elif x == \"dog\":\n",
      "            return 6\n",
      "        elif x == \"horse\":\n",
      "            return 7\n",
      "        elif x == \"ship\":\n",
      "            return 8\n",
      "        elif x == \"airplane\":\n",
      "            return 9\n",
      "        \n",
      "    def transformLabelsForTwoClasses(self, x):\n",
      "        if x == \"frog\" or x == \"deer\" or x == \"bird\" or x == \"cat\" or x == \"dog\" or x == \"horse\":\n",
      "            return 0\n",
      "        else:\n",
      "            return 1\n",
      "        \n",
      "    def transformLabelsForTwoClassesA1(self, x):\n",
      "        if x == \"frog\" or x == \"deer\" or x == \"horse\":\n",
      "            return 0\n",
      "        elif x == \"bird\" or x == \"cat\" or x == \"dog\":\n",
      "            return 1\n",
      "        \n",
      "    def transformLabelsForThreeClassesA1b(self, x):\n",
      "        if x == \"frog\":\n",
      "            return 0\n",
      "        elif x == \"deer\":\n",
      "            return 1\n",
      "        elif x == \"horse\":\n",
      "            return 2\n",
      "        \n",
      "    def transformLabelsForThreeClassesA1a(self, x):\n",
      "        if x == \"cat\":\n",
      "            return 0\n",
      "        elif x == \"dog\":\n",
      "            return 1\n",
      "        elif x == \"bird\":\n",
      "            return 2\n",
      "        \n",
      "    def transformLabelsForFourClassesA2(self, x):\n",
      "        if x == \"truck\":\n",
      "            return 0\n",
      "        elif x == \"automobile\":\n",
      "            return 1\n",
      "        elif x == \"ship\":\n",
      "            return 2\n",
      "        elif x == \"airplane\":\n",
      "            return 3\n",
      "                \n",
      "    def saveData(self, data, fileName, path):\n",
      "        if path == \"results\":\n",
      "            thePath = self.resultsPath\n",
      "        else:\n",
      "            thePath = path\n",
      "        with open(thePath + fileName + \".pik\", \"wb\") as f:\n",
      "            pickle.dump(data, f, -1)\n",
      "                        \n",
      "    def retrieveData(self, fileName, path):\n",
      "        if path == \"results\":\n",
      "            thePath = self.resultsPath\n",
      "        else: \n",
      "            thePath = path\n",
      "        with open(thePath + fileName, \"rb\") as f:\n",
      "            data = pickle.load(f)\n",
      "        return data\n",
      "    \n",
      "    \n",
      "class preProcess(object):\n",
      "    \n",
      "    def convertToGray(self, imageList):\n",
      "        imageGrayList = []\n",
      "        for image in imageList:\n",
      "            imG = rgb2gray(image)\n",
      "            imageGrayList.append(imG)\n",
      "        return imageGrayList\n",
      "    \n",
      "    def whitenGrayImage(self, imageList):\n",
      "        imageWList = []\n",
      "        for image in imageList:\n",
      "            imageN = (image - image.mean()) / image.std()\n",
      "            imageWList.append(imageN)\n",
      "        return imageWList\n",
      "    \n",
      "    def globalHistEq(self, imageList):\n",
      "        gHEList = []\n",
      "        for image in imageList:\n",
      "            imageE = exposure.equalize_hist(image)\n",
      "            gHEList.append(imageE)\n",
      "        return gHEList\n",
      "    \n",
      "    def colorSplit(self, imageList, numChannels=3):\n",
      "        rList = []\n",
      "        gList = []\n",
      "        bList = []\n",
      "        colorList = collections.OrderedDict()\n",
      "        for image in imageList:\n",
      "            if numChannels == 3:\n",
      "                b, g, r = cv2.split(image)\n",
      "            elif numChannels == 4:\n",
      "                b, g, r, a = cv2.split(image)\n",
      "            bList.append(b)\n",
      "            gList.append(g)\n",
      "            rList.append(r)\n",
      "        colorList[\"red\"] = rList\n",
      "        colorList[\"green\"] = gList\n",
      "        colorList[\"blue\"] = bList\n",
      "        return(colorList)\n",
      "    \n",
      "class featureExtraction(object):\n",
      "    def cannyFilter(self, imageList, tSigma = 2.5):\n",
      "        imageCannyList = []\n",
      "        for image in imageList:\n",
      "            imageC = filter.canny(image, sigma=tSigma)\n",
      "            imageCannyList.append(imagec)\n",
      "        return imageCannyList    \n",
      "\n",
      "class gaborFeatureExtraction(object):\n",
      "    def __init__(self):\n",
      "        self.imageDim = 32\n",
      "        self.numberOfBands = 7\n",
      "        self.numberOfBandsByTwo = 4\n",
      "        self.numberOfAngles = 8\n",
      "        \n",
      "    def power(self, image, kernel):\n",
      "        # Normalize images for better comparison.\n",
      "        image = (image - image.mean()) / image.std()\n",
      "        return np.sqrt(nd.convolve(image, np.real(kernel), mode='wrap')**2 +\n",
      "                       nd.convolve(image, np.imag(kernel), mode='wrap')**2)\n",
      "    \n",
      "        \n",
      "    def buildGaborFilterBanks(self, useOpenCV=1):\n",
      "        filters = collections.OrderedDict()\n",
      "        gamma = 0.3\n",
      "        \n",
      "        #each row constitutes a \"BAND\"\n",
      "        for (ksi, ksize, lam) in ((3, 5, 0.8), (5, 5, 1.6), \n",
      "                                 (7, 5, 2.4), (9, 5, 3.2), \n",
      "                                 (11, 7, 1.6), (13, 7, 2.4), \n",
      "                                 (15, 7, 3.2), (17, 7, 4.0), \n",
      "                                 (19, 11, 2.4), (21, 11, 3.2), \n",
      "                                 (23, 11, 4.0), (25, 11, 4.8), \n",
      "                                 (27, 15, 3.2), (29, 15, 4.0)):\n",
      "            sigma = 0.8 * lam\n",
      "            #print ksize, sigma, lam\n",
      "            i=0\n",
      "            for theta_degrees in (0., 22.5, 45., 67.5, 90., 112.5, 135., 157.5):\n",
      "                theta = theta_degrees * np.pi / 180.\n",
      "                i=i+1\n",
      "                indexName = \"A\" + str(i) + \"S\" + str(ksi)\n",
      "                if(useOpenCV == 1):\n",
      "                    kernel = cv2.getGaborKernel((ksize, ksize), sigma, theta, lam, gamma, 0, ktype=cv2.CV_32F)\n",
      "                    kernel /= 1.5*kernel.sum()\n",
      "                else:\n",
      "                    #print \"using skimage gabor kernel\"\n",
      "                    kernel = gabor_kernel(lam, theta=theta, sigma_x=sigma, sigma_y=sigma)\n",
      "                \n",
      "                filters[indexName] = kernel\n",
      "        return filters\n",
      "        \n",
      "    def process(self, img, filters, conv=0):\n",
      "        fimgL = collections.OrderedDict()\n",
      "        #accum = np.zeros_like(img)\n",
      "        for idx, kernel in filters.items():\n",
      "            #filter2D is a true correlation - NOT a convolution\n",
      "            if(conv == 1):\n",
      "                #print \"corr\"\n",
      "                fimg = cv2.filter2D(img, -1, kernel)\n",
      "            else:\n",
      "                #print \"using nd convolve\"\n",
      "                #fimg = nd.convolve(img, kernel, mode='wrap')\n",
      "                fimg = self.power(img, kernel)\n",
      "            fimgL[idx] = fimg\n",
      "            #np.maximum(accum, fimg, accum)\n",
      "        return fimgL\n",
      "    \n",
      "    def getC1(self, neighborhoodSize, overlap, indx, fimgL):\n",
      "        grid = []\n",
      "        \n",
      "        for zx in range(0, self.imageDim - 1, overlap):\n",
      "            for zy in range(0,self.imageDim - 1, overlap):\n",
      "                max = -np.inf\n",
      "                for x in range(neighborhoodSize):\n",
      "                    for y in range(neighborhoodSize):\n",
      "                        #print x+zx, y+zy\n",
      "                        if (x+zx)<self.imageDim and (y+zy)<self.imageDim:\n",
      "                            if fimgL[indx][x+zx][y+zy] > max:\n",
      "                                max = fimgL[indx][x+zx][y+zy]\n",
      "                #print \"A and B\", a, \n",
      "                grid.append(max);\n",
      "                \n",
      "        return grid\n",
      "    \n",
      "    def getBandGrid(self, a, b, neighborhoodSize, overlap, fimgL):\n",
      "        bandGrid = collections.OrderedDict()\n",
      "        \n",
      "        for i in range(a, b):\n",
      "            indx = fimgL.keys()[i]\n",
      "            #print \"the index is \", indx\n",
      "            bandGrid[indx] = self.getC1(neighborhoodSize, overlap, indx, fimgL)\n",
      "        return bandGrid   \n",
      "\n",
      "    def maxOfGrids(self, grida, gridb):\n",
      "        dim = len(grida)\n",
      "        gridF = np.zeros(dim)\n",
      "        for x in range(dim):\n",
      "            if grida[x] > gridb[x]:\n",
      "                gridF[x] = grida[x]\n",
      "            else:\n",
      "                gridF[x] = gridb[x]\n",
      "        return gridF\n",
      "    \n",
      "    def processC1(self, b, bandNumber):\n",
      "        clayer = collections.OrderedDict()\n",
      "        for i in range(self.numberOfAngles):\n",
      "            idxName = b.keys()[i][0:2] + \"Band\" + str(bandNumber)\n",
      "            #print idxName, b.keys()[i], b.keys()[i+self.numberOfAngles]\n",
      "            clayer[idxName] = self.maxOfGrids(b[b.keys()[i]], b[b.keys()[i+self.numberOfAngles]])\n",
      "    \n",
      "        return clayer\n",
      "        \n",
      "    def processAllBands(self, fimgL):\n",
      "        \n",
      "        iL = []\n",
      "        for i in range(self.numberOfAngles):\n",
      "            nL = i * self.numberOfAngles * 2\n",
      "            iL.append(nL)\n",
      "        #print iL\n",
      "        #print len(iL)\n",
      "        \n",
      "            \n",
      "        b1=self.getBandGrid(iL[0], iL[1], 8, 4, fimgL)\n",
      "        b2=self.getBandGrid(iL[1], iL[2], 10, 5, fimgL)\n",
      "        b3=self.getBandGrid(iL[2], iL[3], 12, 6, fimgL)\n",
      "        b4=self.getBandGrid(iL[3], iL[4], 14, 7, fimgL)\n",
      "        b5=self.getBandGrid(iL[4], iL[5], 16, 8, fimgL)\n",
      "        b6=self.getBandGrid(iL[5], iL[6], 18, 9, fimgL)\n",
      "        b7=self.getBandGrid(iL[6], iL[7], 20, 10, fimgL)\n",
      "        \n",
      "        clayerB1 = self.processC1(b1, 1)\n",
      "        clayerB2 = self.processC1(b2, 2)\n",
      "        clayerB3 = self.processC1(b3, 3)\n",
      "        clayerB4 = self.processC1(b4, 4)\n",
      "        clayerB5 = self.processC1(b5, 5)\n",
      "        clayerB6 = self.processC1(b6, 6)\n",
      "        clayerB7 = self.processC1(b7, 7)\n",
      "        \n",
      "        allClayers=[clayerB1, clayerB2, clayerB3, clayerB4, clayerB5, clayerB6, clayerB7]\n",
      "        return allClayers\n",
      "    \n",
      "    def prepareForClassification(self, globalN, imGData):\n",
      "        gfb = self.buildGaborFilterBanks()\n",
      "        \n",
      "        j=0\n",
      "        testImage = imGData[j]\n",
      "        fimgL = self.process(testImage, gfb, conv=1)\n",
      "        cl = self.processAllBands(fimgL)\n",
      "        first = 1\n",
      "        for i in range(self.numberOfBands):\n",
      "            for indexKey in cl[i].keys():\n",
      "                if first == 1:\n",
      "                    pcd = cl[i][indexKey]\n",
      "                    first = 0\n",
      "                else:\n",
      "                    cd = cl[i][indexKey]\n",
      "                    pcd = np.concatenate((pcd, cd))\n",
      "    \n",
      "        theDim = len(pcd)\n",
      "        print theDim\n",
      "        imageDataMatrix = np.zeros((globalN, theDim), dtype=np.float32)\n",
      "\n",
      "        for j in range(globalN):\n",
      "            if (j + 1) % 500 == 0:\n",
      "                print j + 1\n",
      "            testImage = imGData[j]\n",
      "            fimgL = self.process(testImage, gfb, conv=1)\n",
      "            cl = self.processAllBands(fimgL)\n",
      "            first = 1\n",
      "            for i in range(self.numberOfBands):\n",
      "                for indexKey in cl[i].keys():\n",
      "                    #print indexKey\n",
      "                    if first == 1:\n",
      "                        pcd = cl[i][indexKey]\n",
      "                        first = 0\n",
      "                    else:\n",
      "                        cd = cl[i][indexKey]\n",
      "                        pcd = np.concatenate((pcd, cd))\n",
      "    \n",
      "            temp = pcd.reshape(pcd.shape[0])\n",
      "            imageDataMatrix[j] = temp.copy()\n",
      "            \n",
      "        return imageDataMatrix\n",
      "    \n",
      "    def prepareOneForClassification(self, iM):\n",
      "        gfb = self.buildGaborFilterBanks()\n",
      "        fimgL = self.process(iM, gfb, conv=1)\n",
      "        cl = self.processAllBands(fimgL)\n",
      "        first = 1\n",
      "        for i in range(self.numberOfBands):\n",
      "            for indexKey in cl[i].keys():\n",
      "                if first == 1:\n",
      "                    pcd = cl[i][indexKey]\n",
      "                    first = 0\n",
      "                else:\n",
      "                    cd = cl[i][indexKey]\n",
      "                    pcd = np.concatenate((pcd, cd))\n",
      "    \n",
      "        theDim = len(pcd)\n",
      "        imageDataMatrix = np.zeros((1, theDim), dtype=np.float32)\n",
      "        temp = pcd.reshape(pcd.shape[0])\n",
      "        imageDataMatrix[0] = temp.copy()\n",
      "    \n",
      "        return imageDataMatrix\n",
      "    \n",
      "class dimReduction(object):\n",
      "    \n",
      "    def getPC(self, dataMatrix, numComponents = 25):\n",
      "        pca = decomposition.PCA(n_components=numComponents)\n",
      "        dataMatrixZM = dataMatrix - dataMatrix.mean()\n",
      "        pca.fit(dataMatrixZM)\n",
      "        dataMatrixPCA = pca.transform(dataMatrixZM)\n",
      "        return dataMatrixPCA\n",
      "    \n",
      "class vizFeatures(object):\n",
      "    def __init__(self):\n",
      "        self.numberOfAngles = 8\n",
      "    \n",
      "    def plotBands(self, fimgL):\n",
      "        rows = len(fimgL)/self.numberOfAngles + 1\n",
      "        fig, axes = plt.subplots(nrows=rows, ncols=self.numberOfAngles, figsize=(20,20))\n",
      "        ax=axes[0][0]\n",
      "        ax.imshow(testImage, cmap = plt.get_cmap('gray'))\n",
      "\n",
      "        count = 0\n",
      "        for r in range(0, rows):\n",
      "            for ax in axes[r][:]:\n",
      "                ax.axis(\"off\")\n",
      "                if r > 0:\n",
      "                    if count <= len(fimgL):\n",
      "                        ax.set_title(fimgL.keys()[count], fontsize=12)\n",
      "                        ax.imshow(fimgL[fimgL.keys()[count]], cmap = plt.get_cmap('gray'))\n",
      "                    count = count + 1\n",
      "                    \n",
      "    def plotC1Features(self, allClayers):\n",
      "        rows=len(allClayers)+1\n",
      "        fig, axes = plt.subplots(nrows=rows, ncols=self.numberOfAngles, figsize=(20,20))\n",
      "        ax=axes[0][0]\n",
      "        ax.imshow(testImage, cmap = plt.get_cmap('gray'))\n",
      "\n",
      "        for ax in axes[0][1:]:\n",
      "            ax.axis(\"off\")\n",
      "\n",
      "        for r in range(1, rows):\n",
      "            for count, ax in zip(range(self.numberOfAngles), axes[r][:]):\n",
      "                #print count\n",
      "                #ax.axis(\"off\")\n",
      "                cl = allClayers[r-1]\n",
      "                ax.set_title(cl.keys()[count], fontsize=12)\n",
      "                reshapeDim = np.sqrt(len(cl[cl.keys()[count]]))\n",
      "                ax.imshow(cl[cl.keys()[count]].reshape(reshapeDim, reshapeDim), cmap = plt.get_cmap('gray'))\n",
      "                \n",
      "    def plotImageAndHistogram(self, img, axes, bins=256):\n",
      "    \n",
      "        #img = img_as_float(img)\n",
      "        ax_img, ax_hist = axes\n",
      "        #ax_cdf = ax_hist.twinx()\n",
      "\n",
      "        # Display image\n",
      "        ax_img.imshow(img, cmap=plt.cm.gray)\n",
      "        ax_img.set_axis_off()\n",
      "\n",
      "        # Display histogram\n",
      "        #ax_hist.hist(img.ravel(), bins=bins, histtype='step', color='black')\n",
      "        #ax_hist.ticklabel_format(axis='y', style='scientific', scilimits=(0, 0))\n",
      "        #ax_hist.set_xlabel('Pixel intensity')\n",
      "        #ax_hist.set_xlim(0, 1)\n",
      "        #ax_hist.set_yticks([])\n",
      "\n",
      "        # Display cumulative distribution\n",
      "        #img_cdf, bins = exposure.cumulative_distribution(img, bins)\n",
      "        #ax_cdf.plot(bins, img_cdf, 'r')\n",
      "        #ax_cdf.set_yticks([])\n",
      "        \n",
      "    def displayOneImage(self, imageNo, bw=1):\n",
      "        fig, ax = plt.subplots(nrows=1, ncols=1, figsize=(5,5))\n",
      "        \n",
      "        if type(imageNo) is int:\n",
      "            gD = getData()\n",
      "            iM = gD.readOneImage(imageNo) \n",
      "            if bw == 1:\n",
      "                ax.set_title(str(imageNo)+\".png grayscale\")\n",
      "                iMG = rgb2gray(iM)\n",
      "            else:\n",
      "                ax.set_title(str(imageNo)+\".png\")\n",
      "        else:\n",
      "            if bw == 1:\n",
      "                iMG = imageNo\n",
      "            else:\n",
      "                iM = imageNo\n",
      "        \n",
      "        if bw == 1:\n",
      "            ax.imshow(iMG, cmap = plt.get_cmap('gray'))\n",
      "        else:\n",
      "            ax.imshow(iM)\n",
      "\n",
      "            \n",
      "    def displayOneTestImage(self, imageNo, bw=1):\n",
      "        fig, ax = plt.subplots(nrows=1, ncols=1, figsize=(5,5))\n",
      "        \n",
      "        if type(imageNo) is int:\n",
      "            gD = getData()\n",
      "            iM = gD.readOneTestImage(imageNo) \n",
      "            if bw == 1:\n",
      "                ax.set_title(str(imageNo)+\".png grayscale\")\n",
      "                iMG = rgb2gray(iM)\n",
      "            else:\n",
      "                ax.set_title(str(imageNo)+\".png\")\n",
      "        else:\n",
      "            if bw == 1:\n",
      "                iMG = imageNo\n",
      "            else:\n",
      "                iM = imageNo\n",
      "        \n",
      "        if bw == 1:\n",
      "            ax.imshow(iMG, cmap = plt.get_cmap('gray'))\n",
      "        else:\n",
      "            ax.imshow(iM)\n",
      "\n",
      "\n",
      "class objectClassification(object):\n",
      "    \n",
      "    def __init__(self):\n",
      "        self.C = 0.01\n",
      "        self.minSamplesPerLeaf = 1\n",
      "        self.maxDepth = 9\n",
      "        self.numEstimators = 100\n",
      "        self.learningRate = 1.5\n",
      "    \n",
      "    def accReport(self, indexName, model, xtrain, ytrain, xtest, ytest, doPrint=0):\n",
      "        #Print the accuracy on the test and training dataset\n",
      "        training_accuracy = model.score(xtrain, ytrain)\n",
      "        testing_accuracy = model.score(xtest, ytest)\n",
      "        \n",
      "        if(doPrint == 1):\n",
      "            print \"Accuracy of %s  on training data: %0.2f\" % (indexName, training_accuracy)\n",
      "            print \"Accuracy of %s on test data: %0.2f\" % (indexName, testing_accuracy)\n",
      "        \n",
      "        results = (training_accuracy, testing_accuracy)\n",
      "        return results\n",
      "    \n",
      "    def trainFullClassifier(self, imageData, imageLabels) :\n",
      "        tree_clf = tree.DecisionTreeClassifier(min_samples_leaf = 4)\n",
      "        lr_clf = LogisticRegression(C = 0.1)\n",
      "        ab_clf = AdaBoostClassifier(base_estimator=tree.DecisionTreeClassifier(min_samples_leaf = 4), \n",
      "                                    n_estimators = self.numEstimators, learning_rate = self.learningRate)\n",
      "        sgd_svm_clf = SGDClassifier(loss='log', n_iter=100, shuffle=True)\n",
      "        rf_clf = RandomForestClassifier()\n",
      "        et_clf = ExtraTreesClassifier()\n",
      "        \n",
      "        #classifiers = {'T':tree_clf, 'LR': lr_clf, 'AB' : ab_clf}\n",
      "        classifiers = {'AB' : ab_clf}\n",
      "\n",
      "        m = collections.OrderedDict()\n",
      "                \n",
      "        for  clfKey in classifiers.keys():\n",
      "            clf = classifiers[clfKey]\n",
      "            indexName = \"mdl_\" + clfKey\n",
      "            tC = clf.fit(imageData, imageLabels)\n",
      "            m[indexName]  = tC \n",
      "        return m\n",
      "    \n",
      "    def trainWithClassifier(self, theName, description, clf, trainData, trainLabels, testData, testLabels):\n",
      "        data = getData()\n",
      "        ts = time.time()\n",
      "        st = datetime.datetime.fromtimestamp(ts).strftime('%Y-%m-%d_%H-%M-%S')\n",
      "        m = collections.OrderedDict()\n",
      "        m[theName + \"description\"]=description\n",
      "        m[theName + \"clf\"]=clf.fit(trainData, trainLabels)\n",
      "        m[theName + \"trainData\"]=trainData.copy()\n",
      "        m[theName + \"trainLabels\"]=trainLabels.copy()\n",
      "        m[theName + \"testData\"]=testData.copy()\n",
      "        m[theName + \"testLabels\"]=testLabels.copy()\n",
      "        m[theName + \"acc\"]=self.accReport(theName, m[theName+\"clf\"], trainData, trainLabels, testData, testLabels, 1)\n",
      "        m[theName + \"ctab\"]=pd.crosstab(testLabels, m[theName+\"clf\"].predict(testData),rownames = [\"Actual\"], colnames = [\"Predicted\"])\n",
      "        data.saveData(m, theName+st, \"results\")\n",
      "        print m[theName+\"ctab\"]\n",
      "        return m\n",
      "    \n",
      "    def trainClassifiers(self, imageData, imageLabels) :\n",
      "        \n",
      "        tree_clf = tree.DecisionTreeClassifier(max_depth = self.maxDepth, min_samples_leaf = self.minSamplesPerLeaf)      \n",
      "        lr_clf = LogisticRegression(C = self.C)        \n",
      "        ab_clf = AdaBoostClassifier(base_estimator=tree.DecisionTreeClassifier(), \n",
      "                                    n_estimators = self.numEstimators, learning_rate = self.learningRate)\n",
      "                \n",
      "        classifiers = {'T':tree_clf, 'LR': lr_clf, 'AB' : ab_clf}\n",
      "        m = collections.OrderedDict()       \n",
      "        sss = StratifiedShuffleSplit(imageLabels, 10, test_size = 0.1, random_state = 5)\n",
      "        \n",
      "        for  clfKey in classifiers.keys():\n",
      "            i=1\n",
      "            clf = classifiers[clfKey]\n",
      "            for train_index, test_index in sss:\n",
      "                indexName = \"mdl_\" + clfKey + str(i)\n",
      "                i = i + 1\n",
      "                X_train, X_test = imageData[train_index], imageData[test_index]\n",
      "                y_train, y_test = imageLabels[train_index], imageLabels[test_index]\n",
      "                \n",
      "                tC = clf.fit(X_train, y_train)\n",
      "                m[indexName]  = tC\n",
      "            \n",
      "                m[indexName+\"Acc\"] = self.acc_report(indexName, tC, X_train, y_train, X_test, y_test, 1)\n",
      "            \n",
      "                m[indexName+\"xtrain\"] = X_train.copy()\n",
      "                m[indexName+\"xtest\"] = X_test.copy()\n",
      "                m[indexName+\"ytrain\"] = y_train.copy()\n",
      "                m[indexName+\"ytest\"] = y_test.copy()\n",
      "        \n",
      "        k=0\n",
      "        for j in range(len(m.keys())):\n",
      "            ctab = pd.crosstab(m[m.keys()[k+5]], m[m.keys()[k]].predict(m[m.keys()[k+3]]), \n",
      "                        rownames = [\"Actual\"], colnames = [\"Predicted\"])\n",
      "            print \"\\n-----------------------------------------------------------------------\"\n",
      "            print m.keys()[k], \"n\"\n",
      "            print ctab\n",
      "            k = k + 6    \n",
      "        return m\n",
      "    \n",
      "    def trainTreeClassifiers(self, imageData, imageLabels) :\n",
      "        \n",
      "        classifiers = collections.OrderedDict()\n",
      "        #for mD in (3, 4, 5, 6, 7, 8, 9, 10):\n",
      "        for mSL in (1, 2, 3, 4, 5):\n",
      "            indN = \"treeAny\" + \":\" + str(mSL)\n",
      "            classifiers[indN] = tree.DecisionTreeClassifier( min_samples_leaf = mSL)\n",
      "                \n",
      "        #classifiers = {'T':tree_clf, 'LR': lr_clf, 'AB' : ab_clf}\n",
      "        \n",
      "        m = collections.OrderedDict()       \n",
      "        sss = StratifiedShuffleSplit(imageLabels, 1, test_size = 0.5, random_state = 5)\n",
      "        \n",
      "        for  clfKey in classifiers.keys():\n",
      "            i=1\n",
      "            clf = classifiers[clfKey]\n",
      "            for train_index, test_index in sss:\n",
      "                indexName = \"mdl_\" + str(i) + clfKey \n",
      "                i = i + 1\n",
      "                X_train, X_test = imageData[train_index], imageData[test_index]\n",
      "                y_train, y_test = imageLabels[train_index], imageLabels[test_index]\n",
      "                \n",
      "                tC = clf.fit(X_train, y_train)\n",
      "                m[indexName]  = tC\n",
      "            \n",
      "                m[indexName+\"Acc\"] = self.acc_report(indexName, tC, X_train, y_train, X_test, y_test, 1)\n",
      "            \n",
      "                m[indexName+\"xtrain\"] = X_train.copy()\n",
      "                m[indexName+\"xtest\"] = X_test.copy()\n",
      "                m[indexName+\"ytrain\"] = y_train.copy()\n",
      "                m[indexName+\"ytest\"] = y_test.copy()\n",
      "        \n",
      "        k=0\n",
      "        for j in range(len(m.keys())):\n",
      "            ctab = pd.crosstab(m[m.keys()[k+5]], m[m.keys()[k]].predict(m[m.keys()[k+3]]), \n",
      "                        rownames = [\"Actual\"], colnames = [\"Predicted\"])\n",
      "            print \"\\n-----------------------------------------------------------------------\"\n",
      "            print m.keys()[k], \"n\"\n",
      "            print ctab\n",
      "            k = k + 6    \n",
      "        return m\n",
      "    \n",
      "    def runBinaryClassifierNoLabel(self, imageNo, model):\n",
      "        gD = getData()\n",
      "        gfe = gaborFeatureExtraction()\n",
      "        iM = gD.readOneTestImage(imageNo)\n",
      "        iMG = rgb2gray(iM)\n",
      "        iMGE = exposure.equalize_hist(iMG)\n",
      "        imageDataMatrix = gfe.prepareOneForClassification(iMGE)\n",
      "        return imageDataMatrix\n",
      "    \n",
      "    def runBinaryClassifier(self, imageNo, model):\n",
      "        gD = getData()\n",
      "        gfe = gaborFeatureExtraction()\n",
      "        myLabels = data.readTestLabels()\n",
      "        imLabel = myLabels[myLabels['id']==imageNo]['class']\n",
      "        iM = gD.readOneTestImage(imageNo)\n",
      "        iMG = rgb2gray(iM)\n",
      "        iMGE = exposure.equalize_hist(iMG)\n",
      "        imageDataMatrix = gfe.prepareOneForClassification(iMGE)\n",
      "        return [imageDataMatrix, imLabel]\n",
      "             \n",
      "    def ensureInt(self, n):\n",
      "        temp = np.array(n).astype(int)\n",
      "        return(temp)\n",
      "        \n",
      "    def runAnimalOrMechanical(self, imageNo, model, suppressPrint):\n",
      "        cInfo = self.runBinaryClassifier(imageNo, model)\n",
      "        imageDataMatrix = cInfo[0]\n",
      "        imLabel = cInfo[1]\n",
      "        if not suppressPrint:\n",
      "            print \"Known label for this image is : \" , imLabel.values\n",
      "            print \"\\n---------------PREDICTIONS--------------------\" \n",
      "            print \"This image is class: \", self.ensureInt(model.predict(imageDataMatrix[0]))\n",
      "        if model.predict(imageDataMatrix[0]) == 0:\n",
      "            if not suppressPrint:\n",
      "                print \"Animal\"\n",
      "            res = \"Animal\"\n",
      "        elif model.predict(imageDataMatrix[0]) == 1:\n",
      "            if not suppressPrint:\n",
      "                print \"Mechanical\"\n",
      "            res = \"Mechanical\"\n",
      "        else:\n",
      "            print \"unkown class position F\"\n",
      "        if not suppressPrint:\n",
      "            print \"Probabilities: %0.3f, %0.3f\" % (model.predict_proba(imageDataMatrix[0])[0][0], \n",
      "                                               model.predict_proba(imageDataMatrix[0])[0][1])\n",
      "        return [imageDataMatrix, res]\n",
      "    \n",
      "    def runSplitAnimals(self, imageNo, models, mA1, suppressPrint):\n",
      "        classInfoA = self.runAnimalOrMechanical(imageNo, models, suppressPrint)\n",
      "        imageDataMatrix = classInfoA[0]\n",
      "        mOrA = classInfoA[1]\n",
      "        if mOrA == \"Animal\":\n",
      "            if not suppressPrint:\n",
      "                print \"\\n----------SECOND LEVEL PREDICTION----------------\"\n",
      "                print \"This image is class: \", self.ensureInt(mA1.predict(imageDataMatrix[0]))\n",
      "            if mA1.predict(imageDataMatrix[0]) == 0:\n",
      "                if not suppressPrint:\n",
      "                    print \"Bird or a Cat or a Dog\"\n",
      "                res = \"BirdCatDog\"\n",
      "            elif mA1.predict(imageDataMatrix[0]) == 1: \n",
      "                if not suppressPrint:\n",
      "                    print \"Horse or a Deer or a Frog\"\n",
      "                res = \"HorseDeerFrog\"\n",
      "            else:\n",
      "                print \"unkown class position E\"\n",
      "            if not suppressPrint:\n",
      "                print \"Probabilities: %0.3f, %0.3f\" % (mA1.predict_proba(imageDataMatrix[0])[0][0], \n",
      "                                                   mA1.predict_proba(imageDataMatrix[0])[0][1])\n",
      "        elif mOrA == \"Mechanical\":\n",
      "            res = \"TruckorAutoorShiporPlane\"\n",
      "        return([mOrA, imageDataMatrix, res])\n",
      "\n",
      "    def classifyHDF(self, imageNo, models, mA1, mA1b, mA1a, mA12, suppressPrint = 1):\n",
      "        classInfoA1b = self.runSplitAnimals(imageNo, models, mA1, suppressPrint)\n",
      "        mOrA = classInfoA1b[0]\n",
      "        imageDataMatrix = classInfoA1b[1]\n",
      "        hdfOrCDB = classInfoA1b[2]\n",
      "        if mOrA == \"Animal\":\n",
      "            if hdfOrCDB == \"BirdCatDog\":\n",
      "                if not suppressPrint:\n",
      "                    print \"\\n----------FINAL CLASS PREDICTION----------------\"\n",
      "                    print \"This image is class: \", self.ensureInt(mA1b.predict(imageDataMatrix[0]))\n",
      "                if mA1b.predict(imageDataMatrix[0]) == 5:\n",
      "                    if not suppressPrint:\n",
      "                        print \"Cat\"\n",
      "                    prediction =\"cat\"\n",
      "                elif mA1b.predict(imageDataMatrix[0]) == 6:\n",
      "                    if not suppressPrint:\n",
      "                       print \"Dog\"\n",
      "                    prediction = \"dog\"\n",
      "                elif mA1b.predict(imageDataMatrix[0]) == 4:\n",
      "                    if not suppressPrint:\n",
      "                        print \"Bird\"\n",
      "                    prediction = \"bird\"\n",
      "                else:\n",
      "                    print \"unkown class position D\"\n",
      "                if not suppressPrint:\n",
      "                    print \"Probabilities: %0.3f, %0.3f %0.3f\"% (mA1b.predict_proba(imageDataMatrix[0])[0][0], \n",
      "                                                        mA1b.predict_proba(imageDataMatrix[0])[0][1],\n",
      "                                                        mA1b.predict_proba(imageDataMatrix[0])[0][2])\n",
      "                return prediction\n",
      "                \n",
      "            elif hdfOrCDB == \"HorseDeerFrog\":\n",
      "                if not suppressPrint:\n",
      "                    print \"\\n----------FINAL CLASS PREDICTION----------------\"\n",
      "                    print \"This image is class: \", self.ensureInt(mA1a.predict(imageDataMatrix[0]))\n",
      "                if mA1a.predict(imageDataMatrix[0]) == 0:\n",
      "                    if not suppressPrint:\n",
      "                        print \"Frog\"\n",
      "                    prediction = \"frog\"\n",
      "                elif mA1a.predict(imageDataMatrix[0]) == 2:\n",
      "                    if not suppressPrint:\n",
      "                       print \"Deer\"\n",
      "                    prediction = \"deer\"\n",
      "                elif mA1a.predict(imageDataMatrix[0]) == 7:\n",
      "                    if not suppressPrint:\n",
      "                       print \"Horse\"\n",
      "                    prediction = \"horse\"\n",
      "                else:\n",
      "                    print \"unkown class position B\"\n",
      "                if not suppressPrint:\n",
      "                    print \"Probabilities: %0.3f %0.3f %0.3f\"% (mA1a.predict_proba(imageDataMatrix[0])[0][0], \n",
      "                                                        mA1a.predict_proba(imageDataMatrix[0])[0][1],\n",
      "                                                        mA1a.predict_proba(imageDataMatrix[0])[0][2])\n",
      "                return prediction\n",
      "        else:\n",
      "            if not suppressPrint:\n",
      "                print \"\\n----------FINAL CLASS PREDICTION----------------\"\n",
      "                print \"This image is class: \", self.ensureInt(mA1b.predict(imageDataMatrix[0]))\n",
      "            if mA12.predict(imageDataMatrix[0]) == 1:\n",
      "                if not suppressPrint:\n",
      "                    print \"Truck\"\n",
      "                prediction =\"truck\"\n",
      "            elif mA12.predict(imageDataMatrix[0]) == 3:\n",
      "                if not suppressPrint:\n",
      "                    print \"Automobile\"\n",
      "                prediction = \"automobile\"\n",
      "            elif mA12.predict(imageDataMatrix[0]) == 8:\n",
      "                if not suppressPrint:\n",
      "                    print \"Ship\"\n",
      "                prediction = \"ship\"\n",
      "            elif mA12.predict(imageDataMatrix[0]) == 9:\n",
      "                if not suppressPrint:\n",
      "                    print \"Airplane\"\n",
      "                prediction = \"airplane\"\n",
      "            else:\n",
      "                print \"unkown class position A\"\n",
      "            if not suppressPrint:\n",
      "                print \"Probabilities: %0.3f %0.3f %0.3f %0.3f\"% (mA12.predict_proba(imageDataMatrix[0])[0][0], \n",
      "                                                            mA12.predict_proba(imageDataMatrix[0])[0][1],\n",
      "                                                            mA12.predict_proba(imageDataMatrix[0])[0][2],\n",
      "                                                            mA12.predict_proba(imageDataMatrix[0])[0][3])\n",
      "            return prediction\n",
      "\n",
      "                \n",
      "    def runTenClass(self, imageNo, model):\n",
      "        cInfo = self.runBinaryClassifier(imageNo, model)\n",
      "        imageDataMatrix = cInfo[0]\n",
      "        imLabel = cInfo[1]\n",
      "        category = [\"frog\", \"truck\", \"deer\", \"automobile\", \"bird\", \"cat\", \"dog\", \"horse\", \"ship\", \"airplane\"]\n",
      "        print \"Known label for this image is :\", imLabel.values\n",
      "        \n",
      "        print \"\\n---------------PREDICTIONS--------------------\"\n",
      "        print \"This image is class: \", self.ensureInt(model.predict(imageDataMatrix[0]))\n",
      "        for i in range(10):\n",
      "            print category[i],\"%0.3f\" % (model.predict_proba(imageDataMatrix[0])[0][i]), \n",
      "        print \"\\n\"\n",
      "        theClass = model.predict(imageDataMatrix[0])\n",
      "        if theClass == 0:\n",
      "            print \"frog\"\n",
      "        elif theClass == 1:\n",
      "            print \"truck\"\n",
      "        elif theClass == 2:\n",
      "            print \"deer\"\n",
      "        elif theClass == 3:\n",
      "            print \"automobile\"\n",
      "        elif theClass == 4:\n",
      "            print \"bird\"\n",
      "        elif theClass == 5:\n",
      "            print \"cat\"\n",
      "        elif theClass == 6:\n",
      "            print \"dog\"\n",
      "        elif theClass == 7:\n",
      "            print \"horse\"\n",
      "        elif theClass == 8:\n",
      "            print \"ship\"\n",
      "        elif theClass == 9:\n",
      "            print \"airplane\"\n",
      "            \n",
      "    def runTenClassWithCutoff(self, imageNo, model, cutOff):\n",
      "        cInfo = self.runBinaryClassifier(imageNo, model)\n",
      "        imageDataMatrix = cInfo[0]\n",
      "        imLabel = cInfo[1]\n",
      "        category = [\"frog\", \"truck\", \"deer\", \"automobile\", \"bird\", \"cat\", \"dog\", \"horse\", \"ship\", \"airplane\"]\n",
      "        print \"Known label for this image is :\", imLabel.values\n",
      "        \n",
      "        print \"\\n---------------PREDICTIONS--------------------\"\n",
      "        max = -np.Inf\n",
      "        for i in range(10):\n",
      "            if model.predict_proba(imageDataMatrix[0])[0][i] > max:\n",
      "                max = model.predict_proba(imageDataMatrix[0])[0][i]\n",
      "        if max > cutOff:\n",
      "            print \"This image is class: \", self.ensureInt(model.predict(imageDataMatrix[0]))\n",
      "            for i in range(10):\n",
      "                print category[i],\"%0.3f\" % (model.predict_proba(imageDataMatrix[0])[0][i]),\n",
      "            print \"\\n\"\n",
      "        \n",
      "            theClass = model.predict(imageDataMatrix[0])\n",
      "            if theClass == 0:\n",
      "                print \"frog\"\n",
      "            elif theClass == 1:\n",
      "                print \"truck\"\n",
      "            elif theClass == 2:\n",
      "                print \"deer\"\n",
      "            elif theClass == 3:\n",
      "                print \"automobile\"\n",
      "            elif theClass == 4:\n",
      "                print \"bird\"\n",
      "            elif theClass == 5:\n",
      "                print \"cat\"\n",
      "            elif theClass == 6:\n",
      "                print \"dog\"\n",
      "            elif theClass == 7:\n",
      "                print \"horse\"\n",
      "            elif theClass == 8:\n",
      "                print \"ship\"\n",
      "            elif theClass == 9:\n",
      "                print \"airplane\"\n",
      "        else:\n",
      "            print \"No dominant probability ( >\", cutOff, \"). No classification undertaken\""
     ],
     "language": "python",
     "metadata": {},
     "outputs": [],
     "prompt_number": 576
    },
    {
     "cell_type": "code",
     "collapsed": false,
     "input": [
      "data = getData(machine=\"desktop\")\n",
      "pp = preProcess()\n",
      "gfe = gaborFeatureExtraction()\n",
      "viz = vizFeatures()\n",
      "clas = objectClassification()\n",
      "dR = dimReduction()"
     ],
     "language": "python",
     "metadata": {},
     "outputs": [
      {
       "output_type": "stream",
       "stream": "stdout",
       "text": [
        "You are working on desktop\n"
       ]
      }
     ],
     "prompt_number": 574
    },
    {
     "cell_type": "code",
     "collapsed": false,
     "input": [
      "data.getPath(\"test\")"
     ],
     "language": "python",
     "metadata": {},
     "outputs": [
      {
       "metadata": {},
       "output_type": "pyout",
       "prompt_number": 402,
       "text": [
        "'/Users/mrgh/Desktop/GAP/TEST/'"
       ]
      }
     ],
     "prompt_number": 402
    },
    {
     "cell_type": "code",
     "collapsed": false,
     "input": [
      "testLabeldf = data.retrieveData(\"labels.pik\", data.getPath(\"test\"))"
     ],
     "language": "python",
     "metadata": {},
     "outputs": [],
     "prompt_number": 403
    },
    {
     "cell_type": "code",
     "collapsed": false,
     "input": [
      "len(testLabeldf)"
     ],
     "language": "python",
     "metadata": {},
     "outputs": [
      {
       "metadata": {},
       "output_type": "pyout",
       "prompt_number": 404,
       "text": [
        "10000"
       ]
      }
     ],
     "prompt_number": 404
    },
    {
     "cell_type": "code",
     "collapsed": false,
     "input": [
      "i = np.arange(1,10001)\n",
      "i"
     ],
     "language": "python",
     "metadata": {},
     "outputs": [
      {
       "metadata": {},
       "output_type": "pyout",
       "prompt_number": 405,
       "text": [
        "array([    1,     2,     3, ...,  9998,  9999, 10000])"
       ]
      }
     ],
     "prompt_number": 405
    },
    {
     "cell_type": "code",
     "collapsed": false,
     "input": [
      "testLabeldf[\"id\"] = i"
     ],
     "language": "python",
     "metadata": {},
     "outputs": [],
     "prompt_number": 406
    },
    {
     "cell_type": "code",
     "collapsed": false,
     "input": [
      "testLabeldf[0:5]"
     ],
     "language": "python",
     "metadata": {},
     "outputs": [
      {
       "html": [
        "<div style=\"max-height:1000px;max-width:1500px;overflow:auto;\">\n",
        "<table border=\"1\" class=\"dataframe\">\n",
        "  <thead>\n",
        "    <tr style=\"text-align: right;\">\n",
        "      <th></th>\n",
        "      <th>old_label</th>\n",
        "      <th>class</th>\n",
        "      <th>filename</th>\n",
        "      <th>labels</th>\n",
        "      <th>id</th>\n",
        "    </tr>\n",
        "  </thead>\n",
        "  <tbody>\n",
        "    <tr>\n",
        "      <th>0</th>\n",
        "      <td> 3</td>\n",
        "      <td>      cat</td>\n",
        "      <td> domestic_cat_s_000907.png</td>\n",
        "      <td> 5</td>\n",
        "      <td> 1</td>\n",
        "    </tr>\n",
        "    <tr>\n",
        "      <th>1</th>\n",
        "      <td> 8</td>\n",
        "      <td>     ship</td>\n",
        "      <td>    hydrofoil_s_000078.png</td>\n",
        "      <td> 8</td>\n",
        "      <td> 2</td>\n",
        "    </tr>\n",
        "    <tr>\n",
        "      <th>2</th>\n",
        "      <td> 8</td>\n",
        "      <td>     ship</td>\n",
        "      <td>     sea_boat_s_001456.png</td>\n",
        "      <td> 8</td>\n",
        "      <td> 3</td>\n",
        "    </tr>\n",
        "    <tr>\n",
        "      <th>3</th>\n",
        "      <td> 0</td>\n",
        "      <td> airplane</td>\n",
        "      <td>     jetliner_s_001705.png</td>\n",
        "      <td> 9</td>\n",
        "      <td> 4</td>\n",
        "    </tr>\n",
        "    <tr>\n",
        "      <th>4</th>\n",
        "      <td> 6</td>\n",
        "      <td>     frog</td>\n",
        "      <td>   green_frog_s_001658.png</td>\n",
        "      <td> 0</td>\n",
        "      <td> 5</td>\n",
        "    </tr>\n",
        "  </tbody>\n",
        "</table>\n",
        "</div>"
       ],
       "metadata": {},
       "output_type": "pyout",
       "prompt_number": 407,
       "text": [
        "   old_label     class                   filename  labels  id\n",
        "0          3       cat  domestic_cat_s_000907.png       5   1\n",
        "1          8      ship     hydrofoil_s_000078.png       8   2\n",
        "2          8      ship      sea_boat_s_001456.png       8   3\n",
        "3          0  airplane      jetliner_s_001705.png       9   4\n",
        "4          6      frog    green_frog_s_001658.png       0   5"
       ]
      }
     ],
     "prompt_number": 407
    },
    {
     "cell_type": "code",
     "collapsed": false,
     "input": [
      "testLabeldf.to_csv(\"/Users/mrgh/Desktop/GAP/TEST/test_labels.csv\", sep = \",\")"
     ],
     "language": "python",
     "metadata": {},
     "outputs": [],
     "prompt_number": 380
    },
    {
     "cell_type": "markdown",
     "metadata": {},
     "source": [
      "#CLASSIFIER A - ANIMAL OR MECHANICAL"
     ]
    },
    {
     "cell_type": "code",
     "collapsed": false,
     "input": [
      "grayDataMatrix =  data.retrieveData(\"tenclassdataV2.pik\", data.getPath(\"pickle\"))"
     ],
     "language": "python",
     "metadata": {},
     "outputs": [],
     "prompt_number": 412
    },
    {
     "cell_type": "code",
     "collapsed": false,
     "input": [
      "grayDataMatrix.shape"
     ],
     "language": "python",
     "metadata": {},
     "outputs": [
      {
       "metadata": {},
       "output_type": "pyout",
       "prompt_number": 11,
       "text": [
        "(50000, 1776)"
       ]
      }
     ],
     "prompt_number": 11
    },
    {
     "cell_type": "code",
     "collapsed": false,
     "input": [
      "grayLabels = data.retrieveData(\"tenclassdatalabels.pik\", data.getPath(\"pickle\"))"
     ],
     "language": "python",
     "metadata": {},
     "outputs": [],
     "prompt_number": 12
    },
    {
     "cell_type": "code",
     "collapsed": false,
     "input": [
      "print grayLabels.shape\n",
      "grayLabels[0:5]"
     ],
     "language": "python",
     "metadata": {},
     "outputs": [
      {
       "output_type": "stream",
       "stream": "stdout",
       "text": [
        "(50000,)\n"
       ]
      },
      {
       "metadata": {},
       "output_type": "pyout",
       "prompt_number": 13,
       "text": [
        "array([7, 7, 7, 7, 7])"
       ]
      }
     ],
     "prompt_number": 13
    },
    {
     "cell_type": "code",
     "collapsed": false,
     "input": [
      "grayTestDataMatrix = data.retrieveData(\"testDataMatrix.pik\", data.getPath(\"pickle\"))"
     ],
     "language": "python",
     "metadata": {},
     "outputs": [],
     "prompt_number": 14
    },
    {
     "cell_type": "code",
     "collapsed": false,
     "input": [
      "grayTestDataMatrix.shape"
     ],
     "language": "python",
     "metadata": {},
     "outputs": [
      {
       "metadata": {},
       "output_type": "pyout",
       "prompt_number": 15,
       "text": [
        "(10000, 1776)"
       ]
      }
     ],
     "prompt_number": 15
    },
    {
     "cell_type": "code",
     "collapsed": false,
     "input": [
      "testLabeldf = data.retrieveData(\"labels.pik\", data.getPath(\"pickle\"))"
     ],
     "language": "python",
     "metadata": {},
     "outputs": [],
     "prompt_number": 123
    },
    {
     "cell_type": "code",
     "collapsed": false,
     "input": [
      "grayTestLabels = testLabeldf[\"labels\"].values.copy()"
     ],
     "language": "python",
     "metadata": {},
     "outputs": [],
     "prompt_number": 124
    },
    {
     "cell_type": "code",
     "collapsed": false,
     "input": [
      "print grayTestLabels.shape\n",
      "grayTestLabels[0:5]"
     ],
     "language": "python",
     "metadata": {},
     "outputs": [
      {
       "output_type": "stream",
       "stream": "stdout",
       "text": [
        "(10000,)\n"
       ]
      },
      {
       "metadata": {},
       "output_type": "pyout",
       "prompt_number": 99,
       "text": [
        "array([5, 8, 8, 9, 0])"
       ]
      }
     ],
     "prompt_number": 99
    },
    {
     "cell_type": "code",
     "collapsed": false,
     "input": [
      "mask0 = grayLabels == 0\n",
      "mask2 = grayLabels == 2\n",
      "mask4 = grayLabels == 4\n",
      "mask5 = grayLabels == 5\n",
      "mask6 = grayLabels == 6\n",
      "mask7 = grayLabels == 7"
     ],
     "language": "python",
     "metadata": {},
     "outputs": [],
     "prompt_number": 19
    },
    {
     "cell_type": "code",
     "collapsed": false,
     "input": [
      "mask1 = grayLabels == 1\n",
      "mask3 = grayLabels == 3\n",
      "mask8 = grayLabels == 8\n",
      "mask9 = grayLabels == 9"
     ],
     "language": "python",
     "metadata": {},
     "outputs": [],
     "prompt_number": 20
    },
    {
     "cell_type": "code",
     "collapsed": false,
     "input": [
      "animalIDataMatrix = grayDataMatrix[mask0 | mask2 | mask4 | mask5 | mask6 | mask7].copy()"
     ],
     "language": "python",
     "metadata": {},
     "outputs": [],
     "prompt_number": 21
    },
    {
     "cell_type": "code",
     "collapsed": false,
     "input": [
      "ch1 = choice_mask = np.random.choice(30000, 20000)\n",
      "len(ch1)\n",
      "ch1"
     ],
     "language": "python",
     "metadata": {},
     "outputs": [
      {
       "metadata": {},
       "output_type": "pyout",
       "prompt_number": 22,
       "text": [
        "array([23270, 11644, 19670, ...,  9051,  5519,   566])"
       ]
      }
     ],
     "prompt_number": 22
    },
    {
     "cell_type": "code",
     "collapsed": false,
     "input": [
      "animalDataMatrix = animalIDataMatrix[ch1]"
     ],
     "language": "python",
     "metadata": {},
     "outputs": [],
     "prompt_number": 23
    },
    {
     "cell_type": "code",
     "collapsed": false,
     "input": [
      "animalDataMatrix.shape"
     ],
     "language": "python",
     "metadata": {},
     "outputs": [
      {
       "metadata": {},
       "output_type": "pyout",
       "prompt_number": 24,
       "text": [
        "(20000, 1776)"
       ]
      }
     ],
     "prompt_number": 24
    },
    {
     "cell_type": "code",
     "collapsed": false,
     "input": [
      "mechanicalDataMatrix = grayDataMatrix[mask1 | mask3 | mask8 | mask9].copy()"
     ],
     "language": "python",
     "metadata": {},
     "outputs": [],
     "prompt_number": 25
    },
    {
     "cell_type": "code",
     "collapsed": false,
     "input": [
      "mechanicalDataMatrix.shape"
     ],
     "language": "python",
     "metadata": {},
     "outputs": [
      {
       "metadata": {},
       "output_type": "pyout",
       "prompt_number": 26,
       "text": [
        "(20000, 1776)"
       ]
      }
     ],
     "prompt_number": 26
    },
    {
     "cell_type": "code",
     "collapsed": false,
     "input": [
      "animalLabels = np.zeros((20000))"
     ],
     "language": "python",
     "metadata": {},
     "outputs": [],
     "prompt_number": 27
    },
    {
     "cell_type": "code",
     "collapsed": false,
     "input": [
      "animalLabels.shape"
     ],
     "language": "python",
     "metadata": {},
     "outputs": [
      {
       "metadata": {},
       "output_type": "pyout",
       "prompt_number": 28,
       "text": [
        "(20000,)"
       ]
      }
     ],
     "prompt_number": 28
    },
    {
     "cell_type": "code",
     "collapsed": false,
     "input": [
      "mechanicalLabels = np.ones((20000))"
     ],
     "language": "python",
     "metadata": {},
     "outputs": [],
     "prompt_number": 29
    },
    {
     "cell_type": "code",
     "collapsed": false,
     "input": [
      "mechanicalLabels.shape"
     ],
     "language": "python",
     "metadata": {},
     "outputs": [
      {
       "metadata": {},
       "output_type": "pyout",
       "prompt_number": 30,
       "text": [
        "(20000,)"
       ]
      }
     ],
     "prompt_number": 30
    },
    {
     "cell_type": "code",
     "collapsed": false,
     "input": [
      "anmechDataMatrix = np.ma.row_stack([animalDataMatrix, mechanicalDataMatrix])"
     ],
     "language": "python",
     "metadata": {},
     "outputs": [],
     "prompt_number": 31
    },
    {
     "cell_type": "code",
     "collapsed": false,
     "input": [
      "anmechDataMatrix.shape"
     ],
     "language": "python",
     "metadata": {},
     "outputs": [
      {
       "metadata": {},
       "output_type": "pyout",
       "prompt_number": 32,
       "text": [
        "(40000, 1776)"
       ]
      }
     ],
     "prompt_number": 32
    },
    {
     "cell_type": "code",
     "collapsed": false,
     "input": [
      "anmechLabels = np.concatenate([animalLabels, mechanicalLabels])"
     ],
     "language": "python",
     "metadata": {},
     "outputs": [],
     "prompt_number": 33
    },
    {
     "cell_type": "code",
     "collapsed": false,
     "input": [
      "anmechLabels.shape"
     ],
     "language": "python",
     "metadata": {},
     "outputs": [
      {
       "metadata": {},
       "output_type": "pyout",
       "prompt_number": 34,
       "text": [
        "(40000,)"
       ]
      }
     ],
     "prompt_number": 34
    },
    {
     "cell_type": "code",
     "collapsed": false,
     "input": [
      "print anmechDataMatrix.shape\n",
      "print anmechLabels.shape\n",
      "print grayTestDataMatrix.shape\n",
      "print grayTestLabels.shape"
     ],
     "language": "python",
     "metadata": {},
     "outputs": [
      {
       "output_type": "stream",
       "stream": "stdout",
       "text": [
        "(40000, 1776)\n",
        "(40000,)\n",
        "(10000, 1776)\n",
        "(10000,)\n"
       ]
      }
     ],
     "prompt_number": 35
    },
    {
     "cell_type": "code",
     "collapsed": false,
     "input": [
      "grayTestLabelsdf = pd.DataFrame(grayTestLabels)"
     ],
     "language": "python",
     "metadata": {},
     "outputs": [],
     "prompt_number": 36
    },
    {
     "cell_type": "code",
     "collapsed": false,
     "input": [
      "grayTestLabelsdf.columns=[\"labels\"]"
     ],
     "language": "python",
     "metadata": {},
     "outputs": [],
     "prompt_number": 37
    },
    {
     "cell_type": "code",
     "collapsed": false,
     "input": [
      "grayTestLabelsdf[0:5]"
     ],
     "language": "python",
     "metadata": {},
     "outputs": [
      {
       "html": [
        "<div style=\"max-height:1000px;max-width:1500px;overflow:auto;\">\n",
        "<table border=\"1\" class=\"dataframe\">\n",
        "  <thead>\n",
        "    <tr style=\"text-align: right;\">\n",
        "      <th></th>\n",
        "      <th>labels</th>\n",
        "    </tr>\n",
        "  </thead>\n",
        "  <tbody>\n",
        "    <tr>\n",
        "      <th>0</th>\n",
        "      <td> 5</td>\n",
        "    </tr>\n",
        "    <tr>\n",
        "      <th>1</th>\n",
        "      <td> 8</td>\n",
        "    </tr>\n",
        "    <tr>\n",
        "      <th>2</th>\n",
        "      <td> 8</td>\n",
        "    </tr>\n",
        "    <tr>\n",
        "      <th>3</th>\n",
        "      <td> 9</td>\n",
        "    </tr>\n",
        "    <tr>\n",
        "      <th>4</th>\n",
        "      <td> 0</td>\n",
        "    </tr>\n",
        "  </tbody>\n",
        "</table>\n",
        "</div>"
       ],
       "metadata": {},
       "output_type": "pyout",
       "prompt_number": 38,
       "text": [
        "   labels\n",
        "0       5\n",
        "1       8\n",
        "2       8\n",
        "3       9\n",
        "4       0"
       ]
      }
     ],
     "prompt_number": 38
    },
    {
     "cell_type": "code",
     "collapsed": false,
     "input": [
      "grayTestLabelsdf[grayTestLabelsdf[\"labels\"]==0] = 0\n",
      "grayTestLabelsdf[grayTestLabelsdf[\"labels\"]==2] = 0\n",
      "grayTestLabelsdf[grayTestLabelsdf[\"labels\"]==4] = 0\n",
      "grayTestLabelsdf[grayTestLabelsdf[\"labels\"]==5] = 0\n",
      "grayTestLabelsdf[grayTestLabelsdf[\"labels\"]==6] = 0\n",
      "grayTestLabelsdf[grayTestLabelsdf[\"labels\"]==7] = 0\n",
      "grayTestLabelsdf[grayTestLabelsdf[\"labels\"]==1] = 1\n",
      "grayTestLabelsdf[grayTestLabelsdf[\"labels\"]==3] = 1\n",
      "grayTestLabelsdf[grayTestLabelsdf[\"labels\"]==8] = 1\n",
      "grayTestLabelsdf[grayTestLabelsdf[\"labels\"]==9] = 1"
     ],
     "language": "python",
     "metadata": {},
     "outputs": [],
     "prompt_number": 39
    },
    {
     "cell_type": "code",
     "collapsed": false,
     "input": [
      "print len(grayTestLabelsdf[grayTestLabelsdf[\"labels\"]==0])\n",
      "print len(grayTestLabelsdf[grayTestLabelsdf[\"labels\"]==1])"
     ],
     "language": "python",
     "metadata": {},
     "outputs": [
      {
       "output_type": "stream",
       "stream": "stdout",
       "text": [
        "6000\n",
        "4000\n"
       ]
      }
     ],
     "prompt_number": 40
    },
    {
     "cell_type": "code",
     "collapsed": false,
     "input": [
      "grayTestFLabels = grayTestLabelsdf[\"labels\"].values"
     ],
     "language": "python",
     "metadata": {},
     "outputs": [],
     "prompt_number": 44
    },
    {
     "cell_type": "code",
     "collapsed": false,
     "input": [
      "amDMdf = pd.DataFrame(anmechDataMatrix)\n",
      "amDMdf.to_csv(data.getPath(\"pickle\") + \"anmechDataMatrix.csv\", sep=\" \")"
     ],
     "language": "python",
     "metadata": {},
     "outputs": [],
     "prompt_number": 54
    },
    {
     "cell_type": "code",
     "collapsed": false,
     "input": [
      "gtestDMdf = pd.DataFrame(grayTestDataMatrix)\n",
      "gtestDMdf.to_csv(data.getPath(\"pickle\") + \"grayTestDataMatrix.csv\", sep=\" \")"
     ],
     "language": "python",
     "metadata": {},
     "outputs": [],
     "prompt_number": 55
    },
    {
     "cell_type": "code",
     "collapsed": false,
     "input": [
      "anmechLabels[30000:30010]"
     ],
     "language": "python",
     "metadata": {},
     "outputs": [
      {
       "metadata": {},
       "output_type": "pyout",
       "prompt_number": 66,
       "text": [
        "array([ 1.,  1.,  1.,  1.,  1.,  1.,  1.,  1.,  1.,  1.])"
       ]
      }
     ],
     "prompt_number": 66
    },
    {
     "cell_type": "code",
     "collapsed": false,
     "input": [
      "amLabelsdf = pd.DataFrame(anmechLabels)\n",
      "amLabelsdf=amLabelsdf.astype(int)\n",
      "amLabelsdf.to_csv(data.getPath(\"pickle\") + \"anmechLabels.csv\", sep=\" \")"
     ],
     "language": "python",
     "metadata": {},
     "outputs": [],
     "prompt_number": 67
    },
    {
     "cell_type": "code",
     "collapsed": false,
     "input": [
      "grayTestFLabels[0:10]"
     ],
     "language": "python",
     "metadata": {},
     "outputs": [
      {
       "metadata": {},
       "output_type": "pyout",
       "prompt_number": 61,
       "text": [
        "array([0, 1, 1, 1, 0, 0, 1, 0, 0, 1])"
       ]
      }
     ],
     "prompt_number": 61
    },
    {
     "cell_type": "code",
     "collapsed": false,
     "input": [
      "grayTestLabelsdf = pd.DataFrame(grayTestFLabels)\n",
      "grayTestLabelsdf.to_csv(data.getPath(\"pickle\") + \"grayTestLabels.csv\", sep=\" \")"
     ],
     "language": "python",
     "metadata": {},
     "outputs": [],
     "prompt_number": 62
    },
    {
     "cell_type": "code",
     "collapsed": false,
     "input": [
      "rf_clf = RandomForestClassifier(n_estimators=500, min_samples_split=50, max_features = 42, n_jobs=-1)\n",
      "m=clas.trainWithClassifier(\"RForest_\", \"mech vs animal gray\", rf_clf, anmechDataMatrix, anmechLabels, grayTestDataMatrix, grayTestFLabels)"
     ],
     "language": "python",
     "metadata": {},
     "outputs": [
      {
       "output_type": "stream",
       "stream": "stdout",
       "text": [
        "You are working on desktop\n",
        "Accuracy of RForest_  on training data: 0.99"
       ]
      },
      {
       "output_type": "stream",
       "stream": "stdout",
       "text": [
        "\n",
        "Accuracy of RForest_ on test data: 0.84\n",
        "Predicted     0     1\n",
        "Actual               \n",
        "0          4976  1024\n",
        "1           612  3388"
       ]
      },
      {
       "output_type": "stream",
       "stream": "stdout",
       "text": [
        "\n"
       ]
      }
     ],
     "prompt_number": 68
    },
    {
     "cell_type": "code",
     "collapsed": false,
     "input": [
      "clas.runAnimalOrMechanical(2,m['RForest_clf'])"
     ],
     "language": "python",
     "metadata": {},
     "outputs": [
      {
       "output_type": "stream",
       "stream": "stdout",
       "text": [
        "You are working on desktop\n",
        "Known label for this image is :"
       ]
      },
      {
       "output_type": "stream",
       "stream": "stdout",
       "text": [
        " 1    truck\n",
        "Name: label, dtype: object\n",
        "\n",
        "---------------PREDICTIONS--------------------\n",
        "This image is class: "
       ]
      },
      {
       "output_type": "stream",
       "stream": "stdout",
       "text": [
        " 1\n",
        "Mechanical"
       ]
      },
      {
       "output_type": "stream",
       "stream": "stdout",
       "text": [
        "\n",
        "Probabilities: 0.196, 0.804"
       ]
      },
      {
       "output_type": "stream",
       "stream": "stdout",
       "text": [
        "\n"
       ]
      },
      {
       "metadata": {},
       "output_type": "pyout",
       "prompt_number": 181,
       "text": [
        "[array([[  2.22530246,   1.43614686,   3.78075528, ...,  13.83656502,\n",
        "           7.79282808,   4.99801493]], dtype=float32), 'Mechanical']"
       ]
      }
     ],
     "prompt_number": 181
    },
    {
     "cell_type": "markdown",
     "metadata": {},
     "source": [
      "#CLASSIFIER A LEFT (A1) - CAT, DOG, BIRD  OR  DEER, HORSE, FROG"
     ]
    },
    {
     "cell_type": "code",
     "collapsed": false,
     "input": [
      "grayDataMatrix.shape"
     ],
     "language": "python",
     "metadata": {},
     "outputs": [
      {
       "metadata": {},
       "output_type": "pyout",
       "prompt_number": 76,
       "text": [
        "(50000, 1776)"
       ]
      }
     ],
     "prompt_number": 76
    },
    {
     "cell_type": "code",
     "collapsed": false,
     "input": [
      "grayLabels.shape"
     ],
     "language": "python",
     "metadata": {},
     "outputs": [
      {
       "metadata": {},
       "output_type": "pyout",
       "prompt_number": 77,
       "text": [
        "(50000,)"
       ]
      }
     ],
     "prompt_number": 77
    },
    {
     "cell_type": "code",
     "collapsed": false,
     "input": [
      "catdogbirdDataMatrix = grayDataMatrix[mask4 | mask5 | mask6].copy()"
     ],
     "language": "python",
     "metadata": {},
     "outputs": [],
     "prompt_number": 78
    },
    {
     "cell_type": "code",
     "collapsed": false,
     "input": [
      "deerhorsefrogDataMatrix = grayDataMatrix[mask0 | mask2 | mask7].copy()"
     ],
     "language": "python",
     "metadata": {},
     "outputs": [],
     "prompt_number": 79
    },
    {
     "cell_type": "code",
     "collapsed": false,
     "input": [
      "print catdogbirdDataMatrix.shape\n",
      "print deerhorsefrogDataMatrix.shape"
     ],
     "language": "python",
     "metadata": {},
     "outputs": [
      {
       "output_type": "stream",
       "stream": "stdout",
       "text": [
        "(15000, 1776)\n",
        "(15000, 1776)\n"
       ]
      }
     ],
     "prompt_number": 80
    },
    {
     "cell_type": "code",
     "collapsed": false,
     "input": [
      "cattofrogDataMatrix = np.ma.row_stack([catdogbirdDataMatrix, deerhorsefrogDataMatrix])"
     ],
     "language": "python",
     "metadata": {},
     "outputs": [],
     "prompt_number": 81
    },
    {
     "cell_type": "code",
     "collapsed": false,
     "input": [
      "print cattofrogDataMatrix.shape"
     ],
     "language": "python",
     "metadata": {},
     "outputs": [
      {
       "output_type": "stream",
       "stream": "stdout",
       "text": [
        " (30000, 1776)\n"
       ]
      }
     ],
     "prompt_number": 84
    },
    {
     "cell_type": "code",
     "collapsed": false,
     "input": [
      "catdogbirdLabels = np.zeros((15000))\n",
      "deerhorsefrogLabels = np.ones((15000))"
     ],
     "language": "python",
     "metadata": {},
     "outputs": [],
     "prompt_number": 85
    },
    {
     "cell_type": "code",
     "collapsed": false,
     "input": [
      "cattofrogLabels = np.concatenate([catdogbirdLabels, deerhorsefrogLabels])"
     ],
     "language": "python",
     "metadata": {},
     "outputs": [],
     "prompt_number": 87
    },
    {
     "cell_type": "code",
     "collapsed": false,
     "input": [
      "cattofrogLabels.shape"
     ],
     "language": "python",
     "metadata": {},
     "outputs": [
      {
       "metadata": {},
       "output_type": "pyout",
       "prompt_number": 88,
       "text": [
        "(30000,)"
       ]
      }
     ],
     "prompt_number": 88
    },
    {
     "cell_type": "markdown",
     "metadata": {},
     "source": [
      "##Need to adjust the test set too"
     ]
    },
    {
     "cell_type": "code",
     "collapsed": false,
     "input": [
      "testLabeldf[0:5]"
     ],
     "language": "python",
     "metadata": {},
     "outputs": [
      {
       "html": [
        "<div style=\"max-height:1000px;max-width:1500px;overflow:auto;\">\n",
        "<table border=\"1\" class=\"dataframe\">\n",
        "  <thead>\n",
        "    <tr style=\"text-align: right;\">\n",
        "      <th></th>\n",
        "      <th>old_label</th>\n",
        "      <th>class</th>\n",
        "      <th>filename</th>\n",
        "      <th>labels</th>\n",
        "    </tr>\n",
        "  </thead>\n",
        "  <tbody>\n",
        "    <tr>\n",
        "      <th>0</th>\n",
        "      <td> 3</td>\n",
        "      <td>      cat</td>\n",
        "      <td> domestic_cat_s_000907.png</td>\n",
        "      <td> 5</td>\n",
        "    </tr>\n",
        "    <tr>\n",
        "      <th>1</th>\n",
        "      <td> 8</td>\n",
        "      <td>     ship</td>\n",
        "      <td>    hydrofoil_s_000078.png</td>\n",
        "      <td> 8</td>\n",
        "    </tr>\n",
        "    <tr>\n",
        "      <th>2</th>\n",
        "      <td> 8</td>\n",
        "      <td>     ship</td>\n",
        "      <td>     sea_boat_s_001456.png</td>\n",
        "      <td> 8</td>\n",
        "    </tr>\n",
        "    <tr>\n",
        "      <th>3</th>\n",
        "      <td> 0</td>\n",
        "      <td> airplane</td>\n",
        "      <td>     jetliner_s_001705.png</td>\n",
        "      <td> 9</td>\n",
        "    </tr>\n",
        "    <tr>\n",
        "      <th>4</th>\n",
        "      <td> 6</td>\n",
        "      <td>     frog</td>\n",
        "      <td>   green_frog_s_001658.png</td>\n",
        "      <td> 0</td>\n",
        "    </tr>\n",
        "  </tbody>\n",
        "</table>\n",
        "</div>"
       ],
       "metadata": {},
       "output_type": "pyout",
       "prompt_number": 126,
       "text": [
        "   old_label     class                   filename  labels\n",
        "0          3       cat  domestic_cat_s_000907.png       5\n",
        "1          8      ship     hydrofoil_s_000078.png       8\n",
        "2          8      ship      sea_boat_s_001456.png       8\n",
        "3          0  airplane      jetliner_s_001705.png       9\n",
        "4          6      frog    green_frog_s_001658.png       0"
       ]
      }
     ],
     "prompt_number": 126
    },
    {
     "cell_type": "code",
     "collapsed": false,
     "input": [
      "grayTestLabelsV2 = testLabeldf[\"labels\"].values.copy()"
     ],
     "language": "python",
     "metadata": {},
     "outputs": [],
     "prompt_number": 127
    },
    {
     "cell_type": "code",
     "collapsed": false,
     "input": [
      "maskt0 = grayTestLabelsV2 == 0\n",
      "maskt2 = grayTestLabelsV2 == 2\n",
      "maskt4 = grayTestLabelsV2 == 4\n",
      "maskt5 = grayTestLabelsV2 == 5\n",
      "maskt6 = grayTestLabelsV2 == 6\n",
      "maskt7 = grayTestLabelsV2 == 7"
     ],
     "language": "python",
     "metadata": {},
     "outputs": [],
     "prompt_number": 128
    },
    {
     "cell_type": "code",
     "collapsed": false,
     "input": [
      "cattofrogTestDataMatrix = grayTestDataMatrix[maskt0 | maskt2 | maskt4 | maskt5 | maskt6 | maskt7].copy()"
     ],
     "language": "python",
     "metadata": {},
     "outputs": [],
     "prompt_number": 129
    },
    {
     "cell_type": "code",
     "collapsed": false,
     "input": [
      "print cattofrogTestDataMatrix.shape"
     ],
     "language": "python",
     "metadata": {},
     "outputs": [
      {
       "output_type": "stream",
       "stream": "stdout",
       "text": [
        "(6000, 1776)\n"
       ]
      }
     ],
     "prompt_number": 130
    },
    {
     "cell_type": "code",
     "collapsed": false,
     "input": [
      "testLabeldf[0:5]"
     ],
     "language": "python",
     "metadata": {},
     "outputs": [
      {
       "html": [
        "<div style=\"max-height:1000px;max-width:1500px;overflow:auto;\">\n",
        "<table border=\"1\" class=\"dataframe\">\n",
        "  <thead>\n",
        "    <tr style=\"text-align: right;\">\n",
        "      <th></th>\n",
        "      <th>old_label</th>\n",
        "      <th>class</th>\n",
        "      <th>filename</th>\n",
        "      <th>labels</th>\n",
        "    </tr>\n",
        "  </thead>\n",
        "  <tbody>\n",
        "    <tr>\n",
        "      <th>0</th>\n",
        "      <td> 3</td>\n",
        "      <td>      cat</td>\n",
        "      <td> domestic_cat_s_000907.png</td>\n",
        "      <td> 5</td>\n",
        "    </tr>\n",
        "    <tr>\n",
        "      <th>1</th>\n",
        "      <td> 8</td>\n",
        "      <td>     ship</td>\n",
        "      <td>    hydrofoil_s_000078.png</td>\n",
        "      <td> 8</td>\n",
        "    </tr>\n",
        "    <tr>\n",
        "      <th>2</th>\n",
        "      <td> 8</td>\n",
        "      <td>     ship</td>\n",
        "      <td>     sea_boat_s_001456.png</td>\n",
        "      <td> 8</td>\n",
        "    </tr>\n",
        "    <tr>\n",
        "      <th>3</th>\n",
        "      <td> 0</td>\n",
        "      <td> airplane</td>\n",
        "      <td>     jetliner_s_001705.png</td>\n",
        "      <td> 9</td>\n",
        "    </tr>\n",
        "    <tr>\n",
        "      <th>4</th>\n",
        "      <td> 6</td>\n",
        "      <td>     frog</td>\n",
        "      <td>   green_frog_s_001658.png</td>\n",
        "      <td> 0</td>\n",
        "    </tr>\n",
        "  </tbody>\n",
        "</table>\n",
        "</div>"
       ],
       "metadata": {},
       "output_type": "pyout",
       "prompt_number": 136,
       "text": [
        "   old_label     class                   filename  labels\n",
        "0          3       cat  domestic_cat_s_000907.png       5\n",
        "1          8      ship     hydrofoil_s_000078.png       8\n",
        "2          8      ship      sea_boat_s_001456.png       8\n",
        "3          0  airplane      jetliner_s_001705.png       9\n",
        "4          6      frog    green_frog_s_001658.png       0"
       ]
      }
     ],
     "prompt_number": 136
    },
    {
     "cell_type": "code",
     "collapsed": false,
     "input": [
      "grayTestLabelsV2[maskt0 | maskt2 | maskt4 | maskt5 | maskt6 | maskt7]"
     ],
     "language": "python",
     "metadata": {},
     "outputs": [
      {
       "metadata": {},
       "output_type": "pyout",
       "prompt_number": 137,
       "text": [
        "array([5, 0, 0, ..., 5, 6, 7])"
       ]
      }
     ],
     "prompt_number": 137
    },
    {
     "cell_type": "code",
     "collapsed": false,
     "input": [
      "cattofrogTestLabelsdf = pd.DataFrame(grayTestLabelsV2[maskt0 | maskt2 | maskt4 | maskt5 | maskt6 | maskt7].copy())"
     ],
     "language": "python",
     "metadata": {},
     "outputs": [],
     "prompt_number": 138
    },
    {
     "cell_type": "code",
     "collapsed": false,
     "input": [
      "cattofrogTestLabelsdf.columns=[\"labels\"]"
     ],
     "language": "python",
     "metadata": {},
     "outputs": [],
     "prompt_number": 140
    },
    {
     "cell_type": "code",
     "collapsed": false,
     "input": [
      "cattofrogTestLabelsdf[0:5]"
     ],
     "language": "python",
     "metadata": {},
     "outputs": [
      {
       "html": [
        "<div style=\"max-height:1000px;max-width:1500px;overflow:auto;\">\n",
        "<table border=\"1\" class=\"dataframe\">\n",
        "  <thead>\n",
        "    <tr style=\"text-align: right;\">\n",
        "      <th></th>\n",
        "      <th>labels</th>\n",
        "    </tr>\n",
        "  </thead>\n",
        "  <tbody>\n",
        "    <tr>\n",
        "      <th>0</th>\n",
        "      <td> 5</td>\n",
        "    </tr>\n",
        "    <tr>\n",
        "      <th>1</th>\n",
        "      <td> 0</td>\n",
        "    </tr>\n",
        "    <tr>\n",
        "      <th>2</th>\n",
        "      <td> 0</td>\n",
        "    </tr>\n",
        "    <tr>\n",
        "      <th>3</th>\n",
        "      <td> 0</td>\n",
        "    </tr>\n",
        "    <tr>\n",
        "      <th>4</th>\n",
        "      <td> 5</td>\n",
        "    </tr>\n",
        "  </tbody>\n",
        "</table>\n",
        "</div>"
       ],
       "metadata": {},
       "output_type": "pyout",
       "prompt_number": 141,
       "text": [
        "   labels\n",
        "0       5\n",
        "1       0\n",
        "2       0\n",
        "3       0\n",
        "4       5"
       ]
      }
     ],
     "prompt_number": 141
    },
    {
     "cell_type": "code",
     "collapsed": false,
     "input": [
      "cattofrogTestLabelsdf[cattofrogTestLabelsdf[\"labels\"]==0] = 1\n",
      "cattofrogTestLabelsdf[cattofrogTestLabelsdf[\"labels\"]==2] = 1\n",
      "cattofrogTestLabelsdf[cattofrogTestLabelsdf[\"labels\"]==4] = 0\n",
      "cattofrogTestLabelsdf[cattofrogTestLabelsdf[\"labels\"]==5] = 0\n",
      "cattofrogTestLabelsdf[cattofrogTestLabelsdf[\"labels\"]==6] = 0\n",
      "cattofrogTestLabelsdf[cattofrogTestLabelsdf[\"labels\"]==7] = 1"
     ],
     "language": "python",
     "metadata": {},
     "outputs": [],
     "prompt_number": 142
    },
    {
     "cell_type": "code",
     "collapsed": false,
     "input": [
      "print cattofrogFTestLabels.shape\n",
      "cattofrogFTestLabels[0:5]"
     ],
     "language": "python",
     "metadata": {},
     "outputs": [
      {
       "output_type": "stream",
       "stream": "stdout",
       "text": [
        "(6000, 1)\n"
       ]
      },
      {
       "html": [
        "<div style=\"max-height:1000px;max-width:1500px;overflow:auto;\">\n",
        "<table border=\"1\" class=\"dataframe\">\n",
        "  <thead>\n",
        "    <tr style=\"text-align: right;\">\n",
        "      <th></th>\n",
        "      <th>labels</th>\n",
        "    </tr>\n",
        "  </thead>\n",
        "  <tbody>\n",
        "    <tr>\n",
        "      <th>0</th>\n",
        "      <td> 0</td>\n",
        "    </tr>\n",
        "    <tr>\n",
        "      <th>4</th>\n",
        "      <td> 1</td>\n",
        "    </tr>\n",
        "    <tr>\n",
        "      <th>5</th>\n",
        "      <td> 1</td>\n",
        "    </tr>\n",
        "    <tr>\n",
        "      <th>7</th>\n",
        "      <td> 1</td>\n",
        "    </tr>\n",
        "    <tr>\n",
        "      <th>8</th>\n",
        "      <td> 0</td>\n",
        "    </tr>\n",
        "  </tbody>\n",
        "</table>\n",
        "</div>"
       ],
       "metadata": {},
       "output_type": "pyout",
       "prompt_number": 145,
       "text": [
        "   labels\n",
        "0       0\n",
        "4       1\n",
        "5       1\n",
        "7       1\n",
        "8       0"
       ]
      }
     ],
     "prompt_number": 145
    },
    {
     "cell_type": "code",
     "collapsed": false,
     "input": [
      "rf1_clf = RandomForestClassifier(n_estimators=500, min_samples_split=50, max_features = 42, n_jobs=-1)\n",
      "m1=clas.trainWithClassifier(\"RForest_\", \"6 animal split\", rf1_clf, cattofrogDataMatrix, cattofrogLabels, cattofrogTestDataMatrix, cattofrogFTestLabels['labels'])"
     ],
     "language": "python",
     "metadata": {},
     "outputs": [
      {
       "output_type": "stream",
       "stream": "stdout",
       "text": [
        "You are working on desktop\n",
        "Accuracy of RForest_  on training data: 0.99"
       ]
      },
      {
       "output_type": "stream",
       "stream": "stdout",
       "text": [
        "\n",
        "Accuracy of RForest_ on test data: 0.72\n",
        "Predicted     0     1\n",
        "Actual               \n",
        "0          2222   778\n",
        "1           888  2112"
       ]
      },
      {
       "output_type": "stream",
       "stream": "stdout",
       "text": [
        "\n"
       ]
      }
     ],
     "prompt_number": 146
    },
    {
     "cell_type": "code",
     "collapsed": false,
     "input": [
      "clas.runSplitAnimals(20, m['RForest_clf'], m1['RForest_clf'])"
     ],
     "language": "python",
     "metadata": {},
     "outputs": [
      {
       "output_type": "stream",
       "stream": "stdout",
       "text": [
        "You are working on desktop\n",
        "Known label for this image is :"
       ]
      },
      {
       "output_type": "stream",
       "stream": "stdout",
       "text": [
        " 19    frog\n",
        "Name: label, dtype: object\n",
        "\n",
        "---------------PREDICTIONS--------------------\n",
        "This image is class: "
       ]
      },
      {
       "output_type": "stream",
       "stream": "stdout",
       "text": [
        " 0\n",
        "Animal"
       ]
      },
      {
       "output_type": "stream",
       "stream": "stdout",
       "text": [
        "\n",
        "Probabilities: 0.662, 0.338"
       ]
      },
      {
       "output_type": "stream",
       "stream": "stdout",
       "text": [
        "\n",
        "\n",
        "----------SECOND LEVEL PREDICTION----------------\n",
        "This image is class: "
       ]
      },
      {
       "output_type": "stream",
       "stream": "stdout",
       "text": [
        " 1\n",
        "Horse or a Deer or a Frog"
       ]
      },
      {
       "output_type": "stream",
       "stream": "stdout",
       "text": [
        "\n",
        "Probabilities: 0.302, 0.698"
       ]
      },
      {
       "output_type": "stream",
       "stream": "stdout",
       "text": [
        "\n"
       ]
      },
      {
       "metadata": {},
       "output_type": "pyout",
       "prompt_number": 192,
       "text": [
        "['Animal', array([[  3.72493505,   3.72493505,   2.09098911, ...,  10.41590023,\n",
        "          10.41590023,   6.99649143]], dtype=float32), 'HorseDeerFrog']"
       ]
      }
     ],
     "prompt_number": 192
    },
    {
     "cell_type": "markdown",
     "metadata": {},
     "source": [
      "#CLASSIFIER A LEFT LEFT (A1A) - CAT, DOG OR A BIRD"
     ]
    },
    {
     "cell_type": "code",
     "collapsed": false,
     "input": [
      "print grayDataMatrix.shape\n",
      "print grayLabels.shape"
     ],
     "language": "python",
     "metadata": {},
     "outputs": [
      {
       "output_type": "stream",
       "stream": "stdout",
       "text": [
        "(50000, 1776)\n",
        "(50000,)\n"
       ]
      }
     ],
     "prompt_number": 222
    },
    {
     "cell_type": "code",
     "collapsed": false,
     "input": [
      "cattobirdDataMatrix = grayDataMatrix[mask4 | mask5 | mask6].copy()\n",
      "print cattobirdDataMatrix.shape"
     ],
     "language": "python",
     "metadata": {},
     "outputs": [
      {
       "output_type": "stream",
       "stream": "stdout",
       "text": [
        "(15000, 1776)\n"
       ]
      }
     ],
     "prompt_number": 224
    },
    {
     "cell_type": "code",
     "collapsed": false,
     "input": [
      "cattobirdLabels = grayLabels[mask4 | mask5 | mask6].copy()\n",
      "print cattobirdLabels.shape"
     ],
     "language": "python",
     "metadata": {},
     "outputs": [
      {
       "output_type": "stream",
       "stream": "stdout",
       "text": [
        "(15000,)\n"
       ]
      }
     ],
     "prompt_number": 226
    },
    {
     "cell_type": "markdown",
     "metadata": {},
     "source": [
      "##Adjust the test set too"
     ]
    },
    {
     "cell_type": "code",
     "collapsed": false,
     "input": [
      "print testLabeldf.shape\n",
      "testLabeldf[0:5]"
     ],
     "language": "python",
     "metadata": {},
     "outputs": [
      {
       "output_type": "stream",
       "stream": "stdout",
       "text": [
        "(10000, 4)\n"
       ]
      },
      {
       "html": [
        "<div style=\"max-height:1000px;max-width:1500px;overflow:auto;\">\n",
        "<table border=\"1\" class=\"dataframe\">\n",
        "  <thead>\n",
        "    <tr style=\"text-align: right;\">\n",
        "      <th></th>\n",
        "      <th>old_label</th>\n",
        "      <th>class</th>\n",
        "      <th>filename</th>\n",
        "      <th>labels</th>\n",
        "    </tr>\n",
        "  </thead>\n",
        "  <tbody>\n",
        "    <tr>\n",
        "      <th>0</th>\n",
        "      <td> 3</td>\n",
        "      <td>      cat</td>\n",
        "      <td> domestic_cat_s_000907.png</td>\n",
        "      <td> 5</td>\n",
        "    </tr>\n",
        "    <tr>\n",
        "      <th>1</th>\n",
        "      <td> 8</td>\n",
        "      <td>     ship</td>\n",
        "      <td>    hydrofoil_s_000078.png</td>\n",
        "      <td> 8</td>\n",
        "    </tr>\n",
        "    <tr>\n",
        "      <th>2</th>\n",
        "      <td> 8</td>\n",
        "      <td>     ship</td>\n",
        "      <td>     sea_boat_s_001456.png</td>\n",
        "      <td> 8</td>\n",
        "    </tr>\n",
        "    <tr>\n",
        "      <th>3</th>\n",
        "      <td> 0</td>\n",
        "      <td> airplane</td>\n",
        "      <td>     jetliner_s_001705.png</td>\n",
        "      <td> 9</td>\n",
        "    </tr>\n",
        "    <tr>\n",
        "      <th>4</th>\n",
        "      <td> 6</td>\n",
        "      <td>     frog</td>\n",
        "      <td>   green_frog_s_001658.png</td>\n",
        "      <td> 0</td>\n",
        "    </tr>\n",
        "  </tbody>\n",
        "</table>\n",
        "</div>"
       ],
       "metadata": {},
       "output_type": "pyout",
       "prompt_number": 227,
       "text": [
        "   old_label     class                   filename  labels\n",
        "0          3       cat  domestic_cat_s_000907.png       5\n",
        "1          8      ship     hydrofoil_s_000078.png       8\n",
        "2          8      ship      sea_boat_s_001456.png       8\n",
        "3          0  airplane      jetliner_s_001705.png       9\n",
        "4          6      frog    green_frog_s_001658.png       0"
       ]
      }
     ],
     "prompt_number": 227
    },
    {
     "cell_type": "code",
     "collapsed": false,
     "input": [
      "grayTestLabelsV2A = testLabeldf[\"labels\"].values.copy()\n",
      "print grayTestLabelsV2A.shape"
     ],
     "language": "python",
     "metadata": {},
     "outputs": [
      {
       "output_type": "stream",
       "stream": "stdout",
       "text": [
        "(10000,)\n"
       ]
      }
     ],
     "prompt_number": 230
    },
    {
     "cell_type": "code",
     "collapsed": false,
     "input": [
      "masktt4 = grayTestLabelsV2A == 4\n",
      "masktt5 = grayTestLabelsV2A == 5\n",
      "masktt6 = grayTestLabelsV2A == 6"
     ],
     "language": "python",
     "metadata": {},
     "outputs": [],
     "prompt_number": 231
    },
    {
     "cell_type": "code",
     "collapsed": false,
     "input": [
      "cattobirdTestDataMatrix = grayTestDataMatrix[masktt4 | masktt5 | masktt6].copy()\n",
      "print cattobirdTestDataMatrix.shape"
     ],
     "language": "python",
     "metadata": {},
     "outputs": [
      {
       "output_type": "stream",
       "stream": "stdout",
       "text": [
        "(3000, 1776)\n"
       ]
      }
     ],
     "prompt_number": 233
    },
    {
     "cell_type": "code",
     "collapsed": false,
     "input": [
      "cattobirdTestLabels = grayTestLabelsV2A[masktt4 | masktt5 | masktt6].copy()\n",
      "print cattobirdTestLabels.shape\n",
      "cattobirdTestLabels[0:5]"
     ],
     "language": "python",
     "metadata": {},
     "outputs": [
      {
       "output_type": "stream",
       "stream": "stdout",
       "text": [
        "(3000,)\n"
       ]
      },
      {
       "metadata": {},
       "output_type": "pyout",
       "prompt_number": 237,
       "text": [
        "array([5, 5, 6, 6, 6])"
       ]
      }
     ],
     "prompt_number": 237
    },
    {
     "cell_type": "code",
     "collapsed": false,
     "input": [
      "rf3_clf = RandomForestClassifier(n_estimators=500, min_samples_split=50, max_features = 42, n_jobs=-1)\n",
      "m3=clas.trainWithClassifier(\"RForest_\", \"cat dog bird 3 class\", rf3_clf, cattobirdDataMatrix, cattobirdLabels, cattobirdTestDataMatrix, cattobirdTestLabels)"
     ],
     "language": "python",
     "metadata": {},
     "outputs": [
      {
       "output_type": "stream",
       "stream": "stdout",
       "text": [
        "You are working on desktop\n",
        "Accuracy of RForest_  on training data: 0.98"
       ]
      },
      {
       "output_type": "stream",
       "stream": "stdout",
       "text": [
        "\n",
        "Accuracy of RForest_ on test data: 0.59\n",
        "Predicted    4    5    6\n",
        "Actual                  \n",
        "4          664  188  148\n",
        "5          233  565  202\n",
        "6          161  289  550"
       ]
      },
      {
       "output_type": "stream",
       "stream": "stdout",
       "text": [
        "\n"
       ]
      }
     ],
     "prompt_number": 241
    },
    {
     "cell_type": "code",
     "collapsed": false,
     "input": [
      "ab3_clf = AdaBoostClassifier(base_estimator=tree.DecisionTreeClassifier(min_samples_split=50, max_features=42), n_estimators = 800, learning_rate = 1.0)\n",
      "m3A=clas.trainWithClassifier(\"AdaBoost_\", \"cat dog bird 3 class\", ab3_clf, cattobirdDataMatrix, cattobirdLabels, cattobirdTestDataMatrix, cattobirdTestLabels)"
     ],
     "language": "python",
     "metadata": {},
     "outputs": [
      {
       "output_type": "stream",
       "stream": "stdout",
       "text": [
        "You are working on desktop\n",
        "Accuracy of AdaBoost_  on training data: 1.00"
       ]
      },
      {
       "output_type": "stream",
       "stream": "stdout",
       "text": [
        "\n",
        "Accuracy of AdaBoost_ on test data: 0.59\n",
        "Predicted    4    5    6\n",
        "Actual                  \n",
        "4          677  190  133\n",
        "5          216  601  183\n",
        "6          160  340  500"
       ]
      },
      {
       "output_type": "stream",
       "stream": "stdout",
       "text": [
        "\n"
       ]
      }
     ],
     "prompt_number": 244
    },
    {
     "cell_type": "markdown",
     "metadata": {},
     "source": [
      "# CLASSIFIER A LEFT RIGHT (A1B) - FROG OR DEER OR HORSE"
     ]
    },
    {
     "cell_type": "code",
     "collapsed": false,
     "input": [
      "print grayDataMatrix.shape\n",
      "print grayLabels.shape"
     ],
     "language": "python",
     "metadata": {},
     "outputs": [
      {
       "output_type": "stream",
       "stream": "stdout",
       "text": [
        "(50000, 1776)\n",
        "(50000,)\n"
       ]
      }
     ],
     "prompt_number": 245
    },
    {
     "cell_type": "code",
     "collapsed": false,
     "input": [
      "frogtohorseDataMatrix = grayDataMatrix[mask0 | mask2 | mask7].copy()\n",
      "print frogtohorseDataMatrix.shape"
     ],
     "language": "python",
     "metadata": {},
     "outputs": [
      {
       "output_type": "stream",
       "stream": "stdout",
       "text": [
        "(15000, 1776)\n"
       ]
      }
     ],
     "prompt_number": 246
    },
    {
     "cell_type": "code",
     "collapsed": false,
     "input": [
      "frogtohorseLabels = grayLabels[mask0 | mask2 | mask7].copy()\n",
      "print frogtohorseLabels.shape"
     ],
     "language": "python",
     "metadata": {},
     "outputs": [
      {
       "output_type": "stream",
       "stream": "stdout",
       "text": [
        "(15000,)\n"
       ]
      }
     ],
     "prompt_number": 255
    },
    {
     "cell_type": "markdown",
     "metadata": {},
     "source": [
      "##Adjust the test set too"
     ]
    },
    {
     "cell_type": "code",
     "collapsed": false,
     "input": [
      "print testLabeldf.shape\n",
      "testLabeldf[0:5]"
     ],
     "language": "python",
     "metadata": {},
     "outputs": [
      {
       "output_type": "stream",
       "stream": "stdout",
       "text": [
        "(10000, 4)\n"
       ]
      },
      {
       "html": [
        "<div style=\"max-height:1000px;max-width:1500px;overflow:auto;\">\n",
        "<table border=\"1\" class=\"dataframe\">\n",
        "  <thead>\n",
        "    <tr style=\"text-align: right;\">\n",
        "      <th></th>\n",
        "      <th>old_label</th>\n",
        "      <th>class</th>\n",
        "      <th>filename</th>\n",
        "      <th>labels</th>\n",
        "    </tr>\n",
        "  </thead>\n",
        "  <tbody>\n",
        "    <tr>\n",
        "      <th>0</th>\n",
        "      <td> 3</td>\n",
        "      <td>      cat</td>\n",
        "      <td> domestic_cat_s_000907.png</td>\n",
        "      <td> 5</td>\n",
        "    </tr>\n",
        "    <tr>\n",
        "      <th>1</th>\n",
        "      <td> 8</td>\n",
        "      <td>     ship</td>\n",
        "      <td>    hydrofoil_s_000078.png</td>\n",
        "      <td> 8</td>\n",
        "    </tr>\n",
        "    <tr>\n",
        "      <th>2</th>\n",
        "      <td> 8</td>\n",
        "      <td>     ship</td>\n",
        "      <td>     sea_boat_s_001456.png</td>\n",
        "      <td> 8</td>\n",
        "    </tr>\n",
        "    <tr>\n",
        "      <th>3</th>\n",
        "      <td> 0</td>\n",
        "      <td> airplane</td>\n",
        "      <td>     jetliner_s_001705.png</td>\n",
        "      <td> 9</td>\n",
        "    </tr>\n",
        "    <tr>\n",
        "      <th>4</th>\n",
        "      <td> 6</td>\n",
        "      <td>     frog</td>\n",
        "      <td>   green_frog_s_001658.png</td>\n",
        "      <td> 0</td>\n",
        "    </tr>\n",
        "  </tbody>\n",
        "</table>\n",
        "</div>"
       ],
       "metadata": {},
       "output_type": "pyout",
       "prompt_number": 247,
       "text": [
        "   old_label     class                   filename  labels\n",
        "0          3       cat  domestic_cat_s_000907.png       5\n",
        "1          8      ship     hydrofoil_s_000078.png       8\n",
        "2          8      ship      sea_boat_s_001456.png       8\n",
        "3          0  airplane      jetliner_s_001705.png       9\n",
        "4          6      frog    green_frog_s_001658.png       0"
       ]
      }
     ],
     "prompt_number": 247
    },
    {
     "cell_type": "code",
     "collapsed": false,
     "input": [
      "grayTestLabelsV2B = testLabeldf[\"labels\"].values.copy()\n",
      "print grayTestLabelsV2B.shape"
     ],
     "language": "python",
     "metadata": {},
     "outputs": [
      {
       "output_type": "stream",
       "stream": "stdout",
       "text": [
        "(10000,)\n"
       ]
      }
     ],
     "prompt_number": 248
    },
    {
     "cell_type": "code",
     "collapsed": false,
     "input": [
      "maskttt0 = grayTestLabelsV2B == 0\n",
      "maskttt2 = grayTestLabelsV2B == 2\n",
      "maskttt7 = grayTestLabelsV2B == 7"
     ],
     "language": "python",
     "metadata": {},
     "outputs": [],
     "prompt_number": 250
    },
    {
     "cell_type": "code",
     "collapsed": false,
     "input": [
      "frogtohorseTestDataMatrix = grayTestDataMatrix[maskttt0 | maskttt2 | maskttt7].copy()\n",
      "print frogtohorseTestDataMatrix.shape"
     ],
     "language": "python",
     "metadata": {},
     "outputs": [
      {
       "output_type": "stream",
       "stream": "stdout",
       "text": [
        "(3000, 1776)\n"
       ]
      }
     ],
     "prompt_number": 252
    },
    {
     "cell_type": "code",
     "collapsed": false,
     "input": [
      "frogtohorseTestLabels = grayTestLabelsV2B[maskttt0 | maskttt2 | maskttt7].copy()\n",
      "print frogtohorseTestLabels.shape\n",
      "frogtohorseTestLabels[0:5]"
     ],
     "language": "python",
     "metadata": {},
     "outputs": [
      {
       "output_type": "stream",
       "stream": "stdout",
       "text": [
        "(3000,)\n"
       ]
      },
      {
       "metadata": {},
       "output_type": "pyout",
       "prompt_number": 253,
       "text": [
        "array([0, 0, 0, 7, 7])"
       ]
      }
     ],
     "prompt_number": 253
    },
    {
     "cell_type": "code",
     "collapsed": false,
     "input": [
      "rf4_clf = RandomForestClassifier(n_estimators=500, min_samples_split=50, max_features = 42, n_jobs=-1)\n",
      "m4=clas.trainWithClassifier(\"RForest_\", \"frog deer horse 3 class\", rf4_clf, frogtohorseDataMatrix, frogtohorseLabels, frogtohorseTestDataMatrix, frogtohorseTestLabels)"
     ],
     "language": "python",
     "metadata": {},
     "outputs": [
      {
       "output_type": "stream",
       "stream": "stdout",
       "text": [
        "You are working on desktop\n",
        "Accuracy of RForest_  on training data: 0.99"
       ]
      },
      {
       "output_type": "stream",
       "stream": "stdout",
       "text": [
        "\n",
        "Accuracy of RForest_ on test data: 0.69\n",
        "Predicted    0    2    7\n",
        "Actual                  \n",
        "0          773  140   87\n",
        "2          213  561  226\n",
        "7           91  187  722"
       ]
      },
      {
       "output_type": "stream",
       "stream": "stdout",
       "text": [
        "\n"
       ]
      }
     ],
     "prompt_number": 257
    },
    {
     "cell_type": "markdown",
     "metadata": {},
     "source": [
      "#CLASSIFIER A RIGHT (A12) - TRUCK OR AUTOMOBILE OR SHIP OR AIRPLANE"
     ]
    },
    {
     "cell_type": "code",
     "collapsed": false,
     "input": [
      "print grayDataMatrix.shape\n",
      "print grayLabels.shape"
     ],
     "language": "python",
     "metadata": {},
     "outputs": [
      {
       "output_type": "stream",
       "stream": "stdout",
       "text": [
        "(50000, 1776)\n",
        "(50000,)\n"
       ]
      }
     ],
     "prompt_number": 194
    },
    {
     "cell_type": "code",
     "collapsed": false,
     "input": [
      "trucktoplaneDataMatrix = grayDataMatrix[mask1 | mask3 | mask8 | mask9].copy()"
     ],
     "language": "python",
     "metadata": {},
     "outputs": [],
     "prompt_number": 195
    },
    {
     "cell_type": "code",
     "collapsed": false,
     "input": [
      "trucktoplaneDataMatrix.shape"
     ],
     "language": "python",
     "metadata": {},
     "outputs": [
      {
       "metadata": {},
       "output_type": "pyout",
       "prompt_number": 196,
       "text": [
        "(20000, 1776)"
       ]
      }
     ],
     "prompt_number": 196
    },
    {
     "cell_type": "code",
     "collapsed": false,
     "input": [
      "trucktoplaneLabels = grayLabels[mask1 | mask3 | mask8 | mask9].copy()"
     ],
     "language": "python",
     "metadata": {},
     "outputs": [],
     "prompt_number": 202
    },
    {
     "cell_type": "code",
     "collapsed": false,
     "input": [
      "print trucktoplaneDataMatrix.shape\n",
      "print trucktoplaneLabels.shape"
     ],
     "language": "python",
     "metadata": {},
     "outputs": [
      {
       "output_type": "stream",
       "stream": "stdout",
       "text": [
        "(20000, 1776)\n",
        "(20000,)\n"
       ]
      }
     ],
     "prompt_number": 204
    },
    {
     "cell_type": "markdown",
     "metadata": {},
     "source": [
      "##Adjust the test set too"
     ]
    },
    {
     "cell_type": "code",
     "collapsed": false,
     "input": [
      "testLabeldf[0:5]"
     ],
     "language": "python",
     "metadata": {},
     "outputs": [
      {
       "html": [
        "<div style=\"max-height:1000px;max-width:1500px;overflow:auto;\">\n",
        "<table border=\"1\" class=\"dataframe\">\n",
        "  <thead>\n",
        "    <tr style=\"text-align: right;\">\n",
        "      <th></th>\n",
        "      <th>old_label</th>\n",
        "      <th>class</th>\n",
        "      <th>filename</th>\n",
        "      <th>labels</th>\n",
        "    </tr>\n",
        "  </thead>\n",
        "  <tbody>\n",
        "    <tr>\n",
        "      <th>0</th>\n",
        "      <td> 3</td>\n",
        "      <td>      cat</td>\n",
        "      <td> domestic_cat_s_000907.png</td>\n",
        "      <td> 5</td>\n",
        "    </tr>\n",
        "    <tr>\n",
        "      <th>1</th>\n",
        "      <td> 8</td>\n",
        "      <td>     ship</td>\n",
        "      <td>    hydrofoil_s_000078.png</td>\n",
        "      <td> 8</td>\n",
        "    </tr>\n",
        "    <tr>\n",
        "      <th>2</th>\n",
        "      <td> 8</td>\n",
        "      <td>     ship</td>\n",
        "      <td>     sea_boat_s_001456.png</td>\n",
        "      <td> 8</td>\n",
        "    </tr>\n",
        "    <tr>\n",
        "      <th>3</th>\n",
        "      <td> 0</td>\n",
        "      <td> airplane</td>\n",
        "      <td>     jetliner_s_001705.png</td>\n",
        "      <td> 9</td>\n",
        "    </tr>\n",
        "    <tr>\n",
        "      <th>4</th>\n",
        "      <td> 6</td>\n",
        "      <td>     frog</td>\n",
        "      <td>   green_frog_s_001658.png</td>\n",
        "      <td> 0</td>\n",
        "    </tr>\n",
        "  </tbody>\n",
        "</table>\n",
        "</div>"
       ],
       "metadata": {},
       "output_type": "pyout",
       "prompt_number": 205,
       "text": [
        "   old_label     class                   filename  labels\n",
        "0          3       cat  domestic_cat_s_000907.png       5\n",
        "1          8      ship     hydrofoil_s_000078.png       8\n",
        "2          8      ship      sea_boat_s_001456.png       8\n",
        "3          0  airplane      jetliner_s_001705.png       9\n",
        "4          6      frog    green_frog_s_001658.png       0"
       ]
      }
     ],
     "prompt_number": 205
    },
    {
     "cell_type": "code",
     "collapsed": false,
     "input": [
      "grayTestLabelsV3 = testLabeldf[\"labels\"].values.copy()"
     ],
     "language": "python",
     "metadata": {},
     "outputs": [],
     "prompt_number": 207
    },
    {
     "cell_type": "code",
     "collapsed": false,
     "input": [
      "print grayTestLabelsV3.shape"
     ],
     "language": "python",
     "metadata": {},
     "outputs": [
      {
       "output_type": "stream",
       "stream": "stdout",
       "text": [
        "(10000,)\n"
       ]
      }
     ],
     "prompt_number": 209
    },
    {
     "cell_type": "code",
     "collapsed": false,
     "input": [
      "maskt1 = grayTestLabelsV3 == 1\n",
      "maskt3 = grayTestLabelsV3 == 3\n",
      "maskt8 = grayTestLabelsV3 == 8\n",
      "maskt9 = grayTestLabelsV3 == 9"
     ],
     "language": "python",
     "metadata": {},
     "outputs": [],
     "prompt_number": 211
    },
    {
     "cell_type": "code",
     "collapsed": false,
     "input": [
      "trucktoplaneTestDataMatrix = grayTestDataMatrix[maskt1 | maskt3 | maskt8 | maskt9].copy()"
     ],
     "language": "python",
     "metadata": {},
     "outputs": [],
     "prompt_number": 212
    },
    {
     "cell_type": "code",
     "collapsed": false,
     "input": [
      "print trucktoplaneTestDataMatrix.shape"
     ],
     "language": "python",
     "metadata": {},
     "outputs": [
      {
       "output_type": "stream",
       "stream": "stdout",
       "text": [
        "(4000, 1776)\n"
       ]
      }
     ],
     "prompt_number": 213
    },
    {
     "cell_type": "code",
     "collapsed": false,
     "input": [
      "trucktoplaneTestLabels = grayTestLabelsV3[maskt1 | maskt3 | maskt8 | maskt9].copy()"
     ],
     "language": "python",
     "metadata": {},
     "outputs": [],
     "prompt_number": 218
    },
    {
     "cell_type": "code",
     "collapsed": false,
     "input": [
      "print trucktoplaneTestLabels.shape\n",
      "trucktoplaneTestLabels[0:5]"
     ],
     "language": "python",
     "metadata": {},
     "outputs": [
      {
       "output_type": "stream",
       "stream": "stdout",
       "text": [
        "(4000,)\n"
       ]
      },
      {
       "metadata": {},
       "output_type": "pyout",
       "prompt_number": 220,
       "text": [
        "array([8, 8, 9, 3, 3])"
       ]
      }
     ],
     "prompt_number": 220
    },
    {
     "cell_type": "code",
     "collapsed": false,
     "input": [
      "rf2_clf = RandomForestClassifier(n_estimators=500, min_samples_split=50, max_features = 42, n_jobs=-1)\n",
      "m2=clas.trainWithClassifier(\"RForest_\", \"4 class mechanical\", rf2_clf, trucktoplaneDataMatrix, trucktoplaneLabels, trucktoplaneTestDataMatrix, trucktoplaneTestLabels)"
     ],
     "language": "python",
     "metadata": {},
     "outputs": [
      {
       "output_type": "stream",
       "stream": "stdout",
       "text": [
        "You are working on desktop\n",
        "Accuracy of RForest_  on training data: 0.98"
       ]
      },
      {
       "output_type": "stream",
       "stream": "stdout",
       "text": [
        "\n",
        "Accuracy of RForest_ on test data: 0.66\n",
        "Predicted    1    3    8    9\n",
        "Actual                       \n",
        "1          705  134  118   43\n",
        "3          174  654   88   84\n",
        "8           71  109  657  163\n",
        "9           72  122  181  625"
       ]
      },
      {
       "output_type": "stream",
       "stream": "stdout",
       "text": [
        "\n"
       ]
      }
     ],
     "prompt_number": 221
    },
    {
     "cell_type": "markdown",
     "metadata": {},
     "source": [
      "#Putting them all together"
     ]
    },
    {
     "cell_type": "code",
     "collapsed": false,
     "input": [
      "for i in np.arange(1, 2):\n",
      "    fileName = data.getPath(\"test\")+str(i)+\".png\"\n",
      "    print str(i)+\".png\"\n",
      "    j = Image(filename=fileName, width = 256, height=2564)\n",
      "    k = Image(filename=fileName)\n",
      "    clas.classifyHDF(i, m['RForest_clf'], m1['RForest_clf'], m3['RForest_clf'], m4['RForest_clf'], m2['RForest_clf'], 0)\n",
      "    display(k)\n",
      "    display(j)\n",
      "    time.sleep(15)\n",
      "    clear_output()"
     ],
     "language": "python",
     "metadata": {},
     "outputs": [],
     "prompt_number": 575
    },
    {
     "cell_type": "code",
     "collapsed": false,
     "input": [
      "myLabels = data.readTestLabels()\n",
      "count = 0\n",
      "for i in np.arange(1, 10001):\n",
      "    if (i+1) % 1000 == 0:\n",
      "        print i, count\n",
      "    prediction = clas.classifyHDF(i, m['RForest_clf'], m1['RForest_clf'], m3['RForest_clf'], m4['RForest_clf'], m2['RForest_clf'], 1)\n",
      "    \n",
      "    imLabel = myLabels[myLabels['id']==i]['class']\n",
      "    if imLabel.values == prediction:\n",
      "        count = count + 1\n",
      "print count"
     ],
     "language": "python",
     "metadata": {},
     "outputs": [
      {
       "output_type": "stream",
       "stream": "stdout",
       "text": [
        "999 472\n",
        "1999"
       ]
      },
      {
       "output_type": "stream",
       "stream": "stdout",
       "text": [
        " 940\n",
        "2999"
       ]
      },
      {
       "output_type": "stream",
       "stream": "stdout",
       "text": [
        " 1409\n",
        "3999"
       ]
      },
      {
       "output_type": "stream",
       "stream": "stdout",
       "text": [
        " 1889\n",
        "4999"
       ]
      },
      {
       "output_type": "stream",
       "stream": "stdout",
       "text": [
        " 2393\n",
        "5999"
       ]
      },
      {
       "output_type": "stream",
       "stream": "stdout",
       "text": [
        " 2827\n",
        "6999"
       ]
      },
      {
       "output_type": "stream",
       "stream": "stdout",
       "text": [
        " 3273\n",
        "7999"
       ]
      },
      {
       "output_type": "stream",
       "stream": "stdout",
       "text": [
        " 3762\n",
        "8999"
       ]
      },
      {
       "output_type": "stream",
       "stream": "stdout",
       "text": [
        " 4215\n",
        "9999"
       ]
      },
      {
       "output_type": "stream",
       "stream": "stdout",
       "text": [
        " 4672\n",
        "4673"
       ]
      },
      {
       "output_type": "stream",
       "stream": "stdout",
       "text": [
        "\n"
       ]
      }
     ],
     "prompt_number": 570
    },
    {
     "cell_type": "markdown",
     "metadata": {},
     "source": [
      "###Overall accuracy of the cascade is 46.73%"
     ]
    },
    {
     "cell_type": "code",
     "collapsed": false,
     "input": [
      "data.saveData(m2, \"m2\", \"results\")"
     ],
     "language": "python",
     "metadata": {},
     "outputs": [],
     "prompt_number": 418
    },
    {
     "cell_type": "markdown",
     "metadata": {},
     "source": [
      "#m   - animal   OR   mechanical\n",
      "\n",
      "##if animal:\n",
      "\n",
      "###m1  - frog, deer, horse   OR   cat, dog, bird\n",
      "\n",
      "##if cat, dog, bird:\n",
      "\n",
      "###m3  - cat   OR   dog   OR   bird\n",
      "\n",
      "##if frog, deer, horse:\n",
      "\n",
      "###m4  - frog   OR   deer   OR   horse\n",
      "\n",
      "\n",
      "##if mechanical:\n",
      "\n",
      "###m2  - truck   OR   automobile   OR   ship   OR   airplane"
     ]
    },
    {
     "cell_type": "code",
     "collapsed": false,
     "input": [
      "print \"animal or mechanical\"\n",
      "print 'Test set accuracy = %0.2f' % (m['RForest_acc'][1])\n",
      "m['RForest_ctab']"
     ],
     "language": "python",
     "metadata": {},
     "outputs": [
      {
       "output_type": "stream",
       "stream": "stdout",
       "text": [
        "animal or mechanical\n",
        "Test set accuracy = 0.84\n"
       ]
      },
      {
       "html": [
        "<div style=\"max-height:1000px;max-width:1500px;overflow:auto;\">\n",
        "<table border=\"1\" class=\"dataframe\">\n",
        "  <thead>\n",
        "    <tr style=\"text-align: right;\">\n",
        "      <th>Predicted</th>\n",
        "      <th>0.0</th>\n",
        "      <th>1.0</th>\n",
        "    </tr>\n",
        "    <tr>\n",
        "      <th>Actual</th>\n",
        "      <th></th>\n",
        "      <th></th>\n",
        "    </tr>\n",
        "  </thead>\n",
        "  <tbody>\n",
        "    <tr>\n",
        "      <th>0</th>\n",
        "      <td> 4976</td>\n",
        "      <td> 1024</td>\n",
        "    </tr>\n",
        "    <tr>\n",
        "      <th>1</th>\n",
        "      <td>  612</td>\n",
        "      <td> 3388</td>\n",
        "    </tr>\n",
        "  </tbody>\n",
        "</table>\n",
        "</div>"
       ],
       "metadata": {},
       "output_type": "pyout",
       "prompt_number": 500,
       "text": [
        "Predicted     0     1\n",
        "Actual               \n",
        "0          4976  1024\n",
        "1           612  3388"
       ]
      }
     ],
     "prompt_number": 500
    },
    {
     "cell_type": "code",
     "collapsed": false,
     "input": [
      "print \"frog, deer, horse    or    cat, dog, bird\"\n",
      "print 'Test set accuracy = %0.2f' % (m1['RForest_acc'][1])\n",
      "m1['RForest_ctab']"
     ],
     "language": "python",
     "metadata": {},
     "outputs": [
      {
       "output_type": "stream",
       "stream": "stdout",
       "text": [
        "frog, deer, horse    or    cat, dog, bird\n",
        "Test set accuracy = 0.72\n"
       ]
      },
      {
       "html": [
        "<div style=\"max-height:1000px;max-width:1500px;overflow:auto;\">\n",
        "<table border=\"1\" class=\"dataframe\">\n",
        "  <thead>\n",
        "    <tr style=\"text-align: right;\">\n",
        "      <th>Predicted</th>\n",
        "      <th>0.0</th>\n",
        "      <th>1.0</th>\n",
        "    </tr>\n",
        "    <tr>\n",
        "      <th>Actual</th>\n",
        "      <th></th>\n",
        "      <th></th>\n",
        "    </tr>\n",
        "  </thead>\n",
        "  <tbody>\n",
        "    <tr>\n",
        "      <th>0</th>\n",
        "      <td> 2222</td>\n",
        "      <td>  778</td>\n",
        "    </tr>\n",
        "    <tr>\n",
        "      <th>1</th>\n",
        "      <td>  888</td>\n",
        "      <td> 2112</td>\n",
        "    </tr>\n",
        "  </tbody>\n",
        "</table>\n",
        "</div>"
       ],
       "metadata": {},
       "output_type": "pyout",
       "prompt_number": 501,
       "text": [
        "Predicted     0     1\n",
        "Actual               \n",
        "0          2222   778\n",
        "1           888  2112"
       ]
      }
     ],
     "prompt_number": 501
    },
    {
     "cell_type": "code",
     "collapsed": false,
     "input": [
      "print \"cat (5), dog (6), bird (4)\"\n",
      "print 'Test set accuracy = %0.2f' % (m3['RForest_acc'][1])\n",
      "m3['RForest_ctab']"
     ],
     "language": "python",
     "metadata": {},
     "outputs": [
      {
       "output_type": "stream",
       "stream": "stdout",
       "text": [
        "cat (5), dog (6), bird (4)\n",
        "Test set accuracy = 0.59\n"
       ]
      },
      {
       "html": [
        "<div style=\"max-height:1000px;max-width:1500px;overflow:auto;\">\n",
        "<table border=\"1\" class=\"dataframe\">\n",
        "  <thead>\n",
        "    <tr style=\"text-align: right;\">\n",
        "      <th>Predicted</th>\n",
        "      <th>4</th>\n",
        "      <th>5</th>\n",
        "      <th>6</th>\n",
        "    </tr>\n",
        "    <tr>\n",
        "      <th>Actual</th>\n",
        "      <th></th>\n",
        "      <th></th>\n",
        "      <th></th>\n",
        "    </tr>\n",
        "  </thead>\n",
        "  <tbody>\n",
        "    <tr>\n",
        "      <th>4</th>\n",
        "      <td> 664</td>\n",
        "      <td> 188</td>\n",
        "      <td> 148</td>\n",
        "    </tr>\n",
        "    <tr>\n",
        "      <th>5</th>\n",
        "      <td> 233</td>\n",
        "      <td> 565</td>\n",
        "      <td> 202</td>\n",
        "    </tr>\n",
        "    <tr>\n",
        "      <th>6</th>\n",
        "      <td> 161</td>\n",
        "      <td> 289</td>\n",
        "      <td> 550</td>\n",
        "    </tr>\n",
        "  </tbody>\n",
        "</table>\n",
        "</div>"
       ],
       "metadata": {},
       "output_type": "pyout",
       "prompt_number": 502,
       "text": [
        "Predicted    4    5    6\n",
        "Actual                  \n",
        "4          664  188  148\n",
        "5          233  565  202\n",
        "6          161  289  550"
       ]
      }
     ],
     "prompt_number": 502
    },
    {
     "cell_type": "code",
     "collapsed": false,
     "input": [
      "print \"frog (0), deer (2), horse (7)\"\n",
      "print 'Test set accuracy = %0.2f' % (m4['RForest_acc'][1])\n",
      "m4['RForest_ctab']"
     ],
     "language": "python",
     "metadata": {},
     "outputs": [
      {
       "output_type": "stream",
       "stream": "stdout",
       "text": [
        "frog (0), deer (2), horse (7)\n",
        "Test set accuracy = 0.69\n"
       ]
      },
      {
       "html": [
        "<div style=\"max-height:1000px;max-width:1500px;overflow:auto;\">\n",
        "<table border=\"1\" class=\"dataframe\">\n",
        "  <thead>\n",
        "    <tr style=\"text-align: right;\">\n",
        "      <th>Predicted</th>\n",
        "      <th>0</th>\n",
        "      <th>2</th>\n",
        "      <th>7</th>\n",
        "    </tr>\n",
        "    <tr>\n",
        "      <th>Actual</th>\n",
        "      <th></th>\n",
        "      <th></th>\n",
        "      <th></th>\n",
        "    </tr>\n",
        "  </thead>\n",
        "  <tbody>\n",
        "    <tr>\n",
        "      <th>0</th>\n",
        "      <td> 773</td>\n",
        "      <td> 140</td>\n",
        "      <td>  87</td>\n",
        "    </tr>\n",
        "    <tr>\n",
        "      <th>2</th>\n",
        "      <td> 213</td>\n",
        "      <td> 561</td>\n",
        "      <td> 226</td>\n",
        "    </tr>\n",
        "    <tr>\n",
        "      <th>7</th>\n",
        "      <td>  91</td>\n",
        "      <td> 187</td>\n",
        "      <td> 722</td>\n",
        "    </tr>\n",
        "  </tbody>\n",
        "</table>\n",
        "</div>"
       ],
       "metadata": {},
       "output_type": "pyout",
       "prompt_number": 503,
       "text": [
        "Predicted    0    2    7\n",
        "Actual                  \n",
        "0          773  140   87\n",
        "2          213  561  226\n",
        "7           91  187  722"
       ]
      }
     ],
     "prompt_number": 503
    },
    {
     "cell_type": "code",
     "collapsed": false,
     "input": [
      "print \"truck (1), automobile (3), ship (8), airplane (9)\"\n",
      "print 'Test set accuracy = %0.2f' % (m2['RForest_acc'][1])\n",
      "m2['RForest_ctab']"
     ],
     "language": "python",
     "metadata": {},
     "outputs": [
      {
       "output_type": "stream",
       "stream": "stdout",
       "text": [
        "truck (1), automobile (3), ship (8), airplane (9)\n",
        "Test set accuracy = 0.66\n"
       ]
      },
      {
       "html": [
        "<div style=\"max-height:1000px;max-width:1500px;overflow:auto;\">\n",
        "<table border=\"1\" class=\"dataframe\">\n",
        "  <thead>\n",
        "    <tr style=\"text-align: right;\">\n",
        "      <th>Predicted</th>\n",
        "      <th>1</th>\n",
        "      <th>3</th>\n",
        "      <th>8</th>\n",
        "      <th>9</th>\n",
        "    </tr>\n",
        "    <tr>\n",
        "      <th>Actual</th>\n",
        "      <th></th>\n",
        "      <th></th>\n",
        "      <th></th>\n",
        "      <th></th>\n",
        "    </tr>\n",
        "  </thead>\n",
        "  <tbody>\n",
        "    <tr>\n",
        "      <th>1</th>\n",
        "      <td> 705</td>\n",
        "      <td> 134</td>\n",
        "      <td> 118</td>\n",
        "      <td>  43</td>\n",
        "    </tr>\n",
        "    <tr>\n",
        "      <th>3</th>\n",
        "      <td> 174</td>\n",
        "      <td> 654</td>\n",
        "      <td>  88</td>\n",
        "      <td>  84</td>\n",
        "    </tr>\n",
        "    <tr>\n",
        "      <th>8</th>\n",
        "      <td>  71</td>\n",
        "      <td> 109</td>\n",
        "      <td> 657</td>\n",
        "      <td> 163</td>\n",
        "    </tr>\n",
        "    <tr>\n",
        "      <th>9</th>\n",
        "      <td>  72</td>\n",
        "      <td> 122</td>\n",
        "      <td> 181</td>\n",
        "      <td> 625</td>\n",
        "    </tr>\n",
        "  </tbody>\n",
        "</table>\n",
        "</div>"
       ],
       "metadata": {},
       "output_type": "pyout",
       "prompt_number": 504,
       "text": [
        "Predicted    1    3    8    9\n",
        "Actual                       \n",
        "1          705  134  118   43\n",
        "3          174  654   88   84\n",
        "8           71  109  657  163\n",
        "9           72  122  181  625"
       ]
      }
     ],
     "prompt_number": 504
    }
   ],
   "metadata": {}
  }
 ]
}