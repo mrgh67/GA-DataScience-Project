{
 "metadata": {
  "name": "",
  "signature": "sha256:e10ec1e6d13706d3857fd401c373b6ac3629cbdb323a31c920d011fd2c3b444e"
 },
 "nbformat": 3,
 "nbformat_minor": 0,
 "worksheets": [
  {
   "cells": [
    {
     "cell_type": "code",
     "collapsed": false,
     "input": [
      "if \"/home/vagrant/notebooks/GA-DataScience-Project/ds\" not in sys.path:\n",
      "     sys.path.insert(0, \"/home/vagrant/notebooks/GA-DataScience-Project/ds\")"
     ],
     "language": "python",
     "metadata": {},
     "outputs": [],
     "prompt_number": 3
    },
    {
     "cell_type": "code",
     "collapsed": false,
     "input": [
      "from IPython.display import Image\n",
      "from IPython.display import display\n",
      "from IPython.display import clear_output\n",
      "import time\n",
      "import mystuff\n",
      "\n",
      "import os\n",
      "import random\n",
      "import shutil"
     ],
     "language": "python",
     "metadata": {},
     "outputs": [],
     "prompt_number": 4
    },
    {
     "cell_type": "code",
     "collapsed": false,
     "input": [
      "data = mystuff.getData(machine=\"laptop\", announce = 0)\n",
      "clas = mystuff.objectClassification()"
     ],
     "language": "python",
     "metadata": {},
     "outputs": [],
     "prompt_number": 5
    },
    {
     "cell_type": "markdown",
     "metadata": {},
     "source": [
      "###Read the modelling information from storage"
     ]
    },
    {
     "cell_type": "code",
     "collapsed": false,
     "input": [
      "#lr is the logistic regression model - ten class\n",
      "lr = data.retrieveData(\"LogReg_2014-12-04_12-08-25.pik\", data.getPath(\"resultsT\"))\n",
      "lr['LogReg_clf'].trainData=0\n",
      "lr['LogReg_clf'].testData=0\n",
      "\n",
      "#model is the animal or mechanical 2 class model\n",
      "model = data.retrieveData(\"m.pik\", data.getPath(\"resultsC\"))\n",
      "model['RForest_clf'].trainData = 0\n",
      "model['RForest_clf'].testData = 0"
     ],
     "language": "python",
     "metadata": {},
     "outputs": [],
     "prompt_number": 6
    },
    {
     "cell_type": "markdown",
     "metadata": {},
     "source": [
      "###Populate the demonstration directory with 500 images from the test set"
     ]
    },
    {
     "cell_type": "code",
     "collapsed": false,
     "input": [
      "#testFD = \"/home/vagrant/Downloads/GAPROJECT/TEST\"\n",
      "#newFD = \"/home/vagrant/Downloads/GAPROJECT/DEMO/\"\n",
      "#fileList = []\n",
      "#for files in os.listdir(testFD):\n",
      "#  fileList.append(files)"
     ],
     "language": "python",
     "metadata": {},
     "outputs": [],
     "prompt_number": 11
    },
    {
     "cell_type": "code",
     "collapsed": false,
     "input": [
      "#fileNumbers = []\n",
      "#for i in range(500):    \n",
      "#    n = random.randint(1, 10001)\n",
      "#    fileName =  str(n)+\".png\"\n",
      "#    ffName = testFD+\"/\"+fileName\n",
      "#    ofName = newFD+fileName\n",
      "#    shutil.copyfile(ffName, ofName)"
     ],
     "language": "python",
     "metadata": {},
     "outputs": [],
     "prompt_number": 12
    },
    {
     "cell_type": "markdown",
     "metadata": {},
     "source": [
      "###Establish directory structure for the demo"
     ]
    },
    {
     "cell_type": "code",
     "collapsed": false,
     "input": [
      "catDir = \"/home/vagrant/Downloads/GAPROJECT/DEMO/cat/\"\n",
      "dogDir = \"/home/vagrant/Downloads/GAPROJECT/DEMO/dog/\"\n",
      "horseDir = \"/home/vagrant/Downloads/GAPROJECT/DEMO/horse/\"\n",
      "deerDir = \"/home/vagrant/Downloads/GAPROJECT/DEMO/deer/\"\n",
      "frogDir = \"/home/vagrant/Downloads/GAPROJECT/DEMO/frog/\"\n",
      "birdDir = \"/home/vagrant/Downloads/GAPROJECT/DEMO/bird/\"\n",
      "truckDir = \"/home/vagrant/Downloads/GAPROJECT/DEMO/truck/\"\n",
      "automobileDir = \"/home/vagrant/Downloads/GAPROJECT/DEMO/automobile/\"\n",
      "airplaneDir = \"/home/vagrant/Downloads/GAPROJECT/DEMO/airplane/\"\n",
      "shipDir = \"/home/vagrant/Downloads/GAPROJECT/DEMO/ship/\"\n",
      "mainDir = \"/home/vagrant/Downloads/GAPROJECT/DEMO/\"\n",
      "mechanicalDir = \"/home/vagrant/Downloads/GAPROJECT/DEMO/mechanical/\"\n",
      "animalDir = \"/home/vagrant/Downloads/GAPROJECT/DEMO/animal/\""
     ],
     "language": "python",
     "metadata": {},
     "outputs": [],
     "prompt_number": 14
    },
    {
     "cell_type": "markdown",
     "metadata": {},
     "source": [
      "###A couple of helper functions so the demo can be \"reset\". These function copy all the images back into the main folder so the demo can be run again"
     ]
    },
    {
     "cell_type": "code",
     "collapsed": false,
     "input": [
      "def resetAll(classDir):\n",
      "    fileListA = []\n",
      "    for files in os.listdir(classDir):\n",
      "        anF = files.split('.')\n",
      "        if(len(anF)>1):\n",
      "            if anF[1] == \"png\":\n",
      "                fileListA.append(files)\n",
      "    #returns a list of png files\n",
      "    return fileListA\n",
      "\n",
      "def theReset():\n",
      "    theDirs = [catDir, dogDir, horseDir, deerDir, frogDir, birdDir, truckDir, automobileDir, airplaneDir, shipDir, mechanicalDir, animalDir]\n",
      "    #go through each folder and move all the images back to the main folder\n",
      "    for theDir in theDirs:\n",
      "        theList = resetAll(theDir)\n",
      "        for files in theList:\n",
      "            #print theDir+files, mainDir\n",
      "            shutil.move(theDir+files, mainDir)"
     ],
     "language": "python",
     "metadata": {},
     "outputs": [],
     "prompt_number": 15
    },
    {
     "cell_type": "markdown",
     "metadata": {},
     "source": [
      "###Get a list of image numbers in the demonstration directory - for the classifiers to use"
     ]
    },
    {
     "cell_type": "code",
     "collapsed": false,
     "input": [
      "newFD = \"/home/vagrant/Downloads/GAPROJECT/DEMO/\"\n",
      "fileListT = []\n",
      "for files in os.listdir(newFD):\n",
      "    anF = files.split('.')\n",
      "    if(len(anF)>1):\n",
      "        if anF[1] == \"png\":\n",
      "            fileListT.append(anF[0])\n",
      "#print fileListT"
     ],
     "language": "python",
     "metadata": {},
     "outputs": [],
     "prompt_number": 9
    },
    {
     "cell_type": "markdown",
     "metadata": {},
     "source": [
      "###This is the reset button - moves all the images back to the demonstration directory"
     ]
    },
    {
     "cell_type": "code",
     "collapsed": false,
     "input": [
      "theReset()"
     ],
     "language": "python",
     "metadata": {},
     "outputs": [],
     "prompt_number": 19
    },
    {
     "cell_type": "markdown",
     "metadata": {},
     "source": [
      "###This is the ten class demonstration"
     ]
    },
    {
     "cell_type": "code",
     "collapsed": false,
     "input": [
      "count = 1\n",
      "for n in fileListT:\n",
      "    try:\n",
      "        res = clas.getClassWithCutoff(int(float(n)), lr['LogReg_clf'], 0.5) \n",
      "        if res == \"airplane\":\n",
      "            shutil.move(mainDir+n+\".png\", airplaneDir+n+\".png\")\n",
      "        elif res == \"ship\":\n",
      "            shutil.move(mainDir+n+\".png\", shipDir+n+\".png\")\n",
      "        elif res == \"truck\":\n",
      "            shutil.move(mainDir+n+\".png\", truckDir+n+\".png\")\n",
      "        elif res == \"automobile\":\n",
      "            shutil.move(mainDir+n+\".png\", automobileDir+n+\".png\")\n",
      "        elif res == \"frog\":\n",
      "            shutil.move(mainDir+n+\".png\", frogDir+n+\".png\")\n",
      "        elif res == \"deer\":\n",
      "            shutil.move(mainDir+n+\".png\", deerDir+n+\".png\")\n",
      "        elif res == \"bird\":\n",
      "            shutil.move(mainDir+n+\".png\", birdDir+n+\".png\")\n",
      "        elif res == \"dog\":\n",
      "            shutil.move(mainDir+n+\".png\", dogDir+n+\".png\")\n",
      "        elif res == \"cat\":\n",
      "            shutil.move(mainDir+n+\".png\", catDir+n+\".png\")\n",
      "        elif res == \"horse\":\n",
      "            shutil.move(mainDir+n+\".png\", horseDir+n+\".png\") \n",
      "    except:\n",
      "        pass\n",
      "    if count % 25 == 0:\n",
      "        print count, \n",
      "    count = count + 1"
     ],
     "language": "python",
     "metadata": {},
     "outputs": [
      {
       "output_type": "stream",
       "stream": "stdout",
       "text": [
        "25 "
       ]
      },
      {
       "output_type": "stream",
       "stream": "stdout",
       "text": [
        "50 "
       ]
      },
      {
       "output_type": "stream",
       "stream": "stdout",
       "text": [
        "75 "
       ]
      },
      {
       "output_type": "stream",
       "stream": "stdout",
       "text": [
        "100 "
       ]
      },
      {
       "output_type": "stream",
       "stream": "stdout",
       "text": [
        "125 "
       ]
      },
      {
       "output_type": "stream",
       "stream": "stdout",
       "text": [
        "150 "
       ]
      },
      {
       "output_type": "stream",
       "stream": "stdout",
       "text": [
        "175 "
       ]
      },
      {
       "output_type": "stream",
       "stream": "stdout",
       "text": [
        "200 "
       ]
      },
      {
       "output_type": "stream",
       "stream": "stdout",
       "text": [
        "225 "
       ]
      },
      {
       "output_type": "stream",
       "stream": "stdout",
       "text": [
        "250 "
       ]
      },
      {
       "output_type": "stream",
       "stream": "stdout",
       "text": [
        "275 "
       ]
      },
      {
       "output_type": "stream",
       "stream": "stdout",
       "text": [
        "300 "
       ]
      },
      {
       "output_type": "stream",
       "stream": "stdout",
       "text": [
        "325 "
       ]
      },
      {
       "output_type": "stream",
       "stream": "stdout",
       "text": [
        "350 "
       ]
      },
      {
       "output_type": "stream",
       "stream": "stdout",
       "text": [
        "375 "
       ]
      },
      {
       "output_type": "stream",
       "stream": "stdout",
       "text": [
        "400 "
       ]
      },
      {
       "output_type": "stream",
       "stream": "stdout",
       "text": [
        "425 "
       ]
      },
      {
       "output_type": "stream",
       "stream": "stdout",
       "text": [
        "450 "
       ]
      },
      {
       "output_type": "stream",
       "stream": "stdout",
       "text": [
        "475\n"
       ]
      }
     ],
     "prompt_number": 18
    },
    {
     "cell_type": "markdown",
     "metadata": {},
     "source": [
      "###This is the animal vs mechanical 2 class demonstration"
     ]
    },
    {
     "cell_type": "code",
     "collapsed": false,
     "input": [
      "count = 1\n",
      "for n in fileListT:\n",
      "    try:\n",
      "        res = clas.runAnimalOrMechanical(int(float(n)), model['RForest_clf'], suppressPrint = 1)\n",
      "        if res[1] == \"Mechanical\":\n",
      "            shutil.move(mainDir+n+\".png\", mechanicalDir+n+\".png\")\n",
      "        elif res[1] == \"Animal\":\n",
      "            shutil.move(mainDir+n+\".png\", animalDir+n+\".png\")\n",
      "    except:\n",
      "        pass\n",
      "    if count % 25 == 0:\n",
      "        print count"
     ],
     "language": "python",
     "metadata": {},
     "outputs": [],
     "prompt_number": 16
    }
   ],
   "metadata": {}
  }
 ]
}