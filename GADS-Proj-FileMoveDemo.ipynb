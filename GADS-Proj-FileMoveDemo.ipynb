{
 "metadata": {
  "name": "",
  "signature": "sha256:f673c792d7fe943abf5771db588b80b595a7dbebcad23540b7ff89b897205197"
 },
 "nbformat": 3,
 "nbformat_minor": 0,
 "worksheets": [
  {
   "cells": [
    {
     "cell_type": "markdown",
     "metadata": {},
     "source": [
      "#This notebook runs the image sorting routines - putting classified images from a common directory into individual class specific directories. "
     ]
    },
    {
     "cell_type": "code",
     "collapsed": false,
     "input": [
      "if \"/home/vagrant/notebooks/GA-DataScience-Project/ds\" not in sys.path:\n",
      "     sys.path.insert(0, \"/home/vagrant/notebooks/GA-DataScience-Project/ds\")"
     ],
     "language": "python",
     "metadata": {},
     "outputs": [],
     "prompt_number": 2
    },
    {
     "cell_type": "code",
     "collapsed": false,
     "input": [
      "from IPython.display import Image\n",
      "from IPython.display import display\n",
      "from IPython.display import clear_output\n",
      "import time\n",
      "import mystuff\n",
      "\n",
      "import os\n",
      "import random\n",
      "import shutil"
     ],
     "language": "python",
     "metadata": {},
     "outputs": [],
     "prompt_number": 3
    },
    {
     "cell_type": "code",
     "collapsed": false,
     "input": [
      "data = mystuff.getData(machine=\"laptop\", announce = 0)\n",
      "clas = mystuff.objectClassification()"
     ],
     "language": "python",
     "metadata": {},
     "outputs": [],
     "prompt_number": 4
    },
    {
     "cell_type": "markdown",
     "metadata": {},
     "source": [
      "###Read the modelling information from storage"
     ]
    },
    {
     "cell_type": "code",
     "collapsed": false,
     "input": [
      "#lr is the logistic regression model - ten class\n",
      "lr = data.retrieveData(\"LogReg_2014-12-04_12-08-25.pik\", data.getPath(\"resultsT\"))\n",
      "lr['LogReg_clf'].trainData=0\n",
      "lr['LogReg_clf'].testData=0\n",
      "\n",
      "#model is the animal or mechanical 2 class model\n",
      "model = data.retrieveData(\"m.pik\", data.getPath(\"resultsC\"))\n",
      "model['RForest_clf'].trainData = 0\n",
      "model['RForest_clf'].testData = 0"
     ],
     "language": "python",
     "metadata": {},
     "outputs": [],
     "prompt_number": 5
    },
    {
     "cell_type": "markdown",
     "metadata": {},
     "source": [
      "###Populate the demonstration directory with many images from the test set"
     ]
    },
    {
     "cell_type": "code",
     "collapsed": false,
     "input": [
      "testFD = \"/home/vagrant/Downloads/GAPROJECT/TEST\"\n",
      "newFD = \"/home/vagrant/Downloads/GAPROJECT/DEMO/\"\n",
      "    \n",
      "fileList = [ f for f in os.listdir(testFD) if f.endswith(\".png\") ]"
     ],
     "language": "python",
     "metadata": {},
     "outputs": [],
     "prompt_number": 5
    },
    {
     "cell_type": "code",
     "collapsed": false,
     "input": [
      "fileNumbers = []\n",
      "for i in range(450):    \n",
      "    n = random.randint(1, 10001)\n",
      "    fileName =  str(n)+\".png\"\n",
      "    ffName = testFD+\"/\"+fileName\n",
      "    ofName = newFD+fileName\n",
      "    try:\n",
      "        shutil.copyfile(ffName, ofName)\n",
      "    except:\n",
      "        pass"
     ],
     "language": "python",
     "metadata": {},
     "outputs": [],
     "prompt_number": 39
    },
    {
     "cell_type": "markdown",
     "metadata": {},
     "source": [
      "###Establish directory structure for the demo"
     ]
    },
    {
     "cell_type": "code",
     "collapsed": false,
     "input": [
      "catDir = \"/home/vagrant/Downloads/GAPROJECT/DEMO/cat/\"\n",
      "dogDir = \"/home/vagrant/Downloads/GAPROJECT/DEMO/dog/\"\n",
      "horseDir = \"/home/vagrant/Downloads/GAPROJECT/DEMO/horse/\"\n",
      "deerDir = \"/home/vagrant/Downloads/GAPROJECT/DEMO/deer/\"\n",
      "frogDir = \"/home/vagrant/Downloads/GAPROJECT/DEMO/frog/\"\n",
      "birdDir = \"/home/vagrant/Downloads/GAPROJECT/DEMO/bird/\"\n",
      "truckDir = \"/home/vagrant/Downloads/GAPROJECT/DEMO/truck/\"\n",
      "automobileDir = \"/home/vagrant/Downloads/GAPROJECT/DEMO/automobile/\"\n",
      "airplaneDir = \"/home/vagrant/Downloads/GAPROJECT/DEMO/airplane/\"\n",
      "shipDir = \"/home/vagrant/Downloads/GAPROJECT/DEMO/ship/\"\n",
      "mainDir = \"/home/vagrant/Downloads/GAPROJECT/DEMO/\"\n",
      "mechanicalDir = \"/home/vagrant/Downloads/GAPROJECT/DEMO/mechanical/\"\n",
      "animalDir = \"/home/vagrant/Downloads/GAPROJECT/DEMO/animal/\""
     ],
     "language": "python",
     "metadata": {},
     "outputs": [],
     "prompt_number": 6
    },
    {
     "cell_type": "markdown",
     "metadata": {},
     "source": [
      "###A couple of helper functions so the demo can be \"reset\". These function copy all the images back into the main folder so the demo can be run again"
     ]
    },
    {
     "cell_type": "code",
     "collapsed": false,
     "input": [
      "def resetAll(classDir):\n",
      "    #returns a list of png files\n",
      "    fileListA = [ f for f in os.listdir(classDir) if f.endswith(\".png\") ]\n",
      "    return fileListA\n",
      "\n",
      "def theReset():\n",
      "    theDirs = [catDir, dogDir, horseDir, deerDir, frogDir, birdDir, truckDir, automobileDir, airplaneDir, shipDir, mechanicalDir, animalDir]\n",
      "    #go through each folder and move all the images back to the main folder\n",
      "    for theDir in theDirs:\n",
      "        theList = resetAll(theDir)\n",
      "        for files in theList:\n",
      "            #print theDir+files, mainDir\n",
      "            shutil.move(theDir+files, mainDir)\n",
      "            \n",
      "def theDelete():\n",
      "    #get all the pngs in the main directory\n",
      "    theList = resetAll(mainDir)\n",
      "    \n",
      "    #delete them\n",
      "    for f in theList:\n",
      "        try:\n",
      "            os.remove(mainDir + f)\n",
      "        except:\n",
      "            pass"
     ],
     "language": "python",
     "metadata": {},
     "outputs": [],
     "prompt_number": 7
    },
    {
     "cell_type": "markdown",
     "metadata": {},
     "source": [
      "###This is the reset button - moves all the images back to the demonstration directory"
     ]
    },
    {
     "cell_type": "code",
     "collapsed": false,
     "input": [
      "theReset()"
     ],
     "language": "python",
     "metadata": {},
     "outputs": [],
     "prompt_number": 9
    },
    {
     "cell_type": "code",
     "collapsed": false,
     "input": [
      "theDelete()"
     ],
     "language": "python",
     "metadata": {},
     "outputs": [],
     "prompt_number": 38
    },
    {
     "cell_type": "markdown",
     "metadata": {},
     "source": [
      "###This is the ten class demonstration"
     ]
    },
    {
     "cell_type": "code",
     "collapsed": false,
     "input": [
      "fileListT = [ f for f in os.listdir(mainDir) if f.endswith(\".png\") ]\n",
      "count = 1\n",
      "for n in fileListT:\n",
      "    nn = n.split(\".\")[0]\n",
      "    try:\n",
      "        res = clas.getClassWithCutoff(int(nn), lr['LogReg_clf'], 0.68) \n",
      "        if res == \"airplane\":\n",
      "            shutil.move(mainDir+n, airplaneDir+n)\n",
      "        elif res == \"ship\":\n",
      "            shutil.move(mainDir+n, shipDir+n)\n",
      "        elif res == \"truck\":\n",
      "            shutil.move(mainDir+n, truckDir+n)\n",
      "        elif res == \"automobile\":\n",
      "            shutil.move(mainDir+n, automobileDir+n)\n",
      "        elif res == \"frog\":\n",
      "            shutil.move(mainDir+n, frogDir+n)\n",
      "        elif res == \"deer\":\n",
      "            shutil.move(mainDir+n, deerDir+n)\n",
      "        elif res == \"bird\":\n",
      "            shutil.move(mainDir+n, birdDir+n)\n",
      "        elif res == \"dog\":\n",
      "            shutil.move(mainDir+n, dogDir+n)\n",
      "        elif res == \"cat\":\n",
      "            shutil.move(mainDir+n, catDir+n)\n",
      "        elif res == \"horse\":\n",
      "            shutil.move(mainDir+n, horseDir+n) \n",
      "    except:\n",
      "        pass\n",
      "    if count % 25 == 0:\n",
      "        print count, \n",
      "    count = count + 1"
     ],
     "language": "python",
     "metadata": {},
     "outputs": [
      {
       "output_type": "stream",
       "stream": "stdout",
       "text": [
        "25 "
       ]
      },
      {
       "output_type": "stream",
       "stream": "stdout",
       "text": [
        "50 "
       ]
      },
      {
       "output_type": "stream",
       "stream": "stdout",
       "text": [
        "75 "
       ]
      },
      {
       "output_type": "stream",
       "stream": "stdout",
       "text": [
        "100 "
       ]
      },
      {
       "output_type": "stream",
       "stream": "stdout",
       "text": [
        "125 "
       ]
      },
      {
       "output_type": "stream",
       "stream": "stdout",
       "text": [
        "150 "
       ]
      },
      {
       "output_type": "stream",
       "stream": "stdout",
       "text": [
        "175 "
       ]
      },
      {
       "output_type": "stream",
       "stream": "stdout",
       "text": [
        "200 "
       ]
      },
      {
       "output_type": "stream",
       "stream": "stdout",
       "text": [
        "225 "
       ]
      },
      {
       "output_type": "stream",
       "stream": "stdout",
       "text": [
        "250 "
       ]
      },
      {
       "output_type": "stream",
       "stream": "stdout",
       "text": [
        "275 "
       ]
      },
      {
       "output_type": "stream",
       "stream": "stdout",
       "text": [
        "300 "
       ]
      },
      {
       "output_type": "stream",
       "stream": "stdout",
       "text": [
        "325 "
       ]
      },
      {
       "output_type": "stream",
       "stream": "stdout",
       "text": [
        "350 "
       ]
      },
      {
       "output_type": "stream",
       "stream": "stdout",
       "text": [
        "375 "
       ]
      },
      {
       "output_type": "stream",
       "stream": "stdout",
       "text": [
        "400 "
       ]
      },
      {
       "output_type": "stream",
       "stream": "stdout",
       "text": [
        "425\n"
       ]
      }
     ],
     "prompt_number": 10
    },
    {
     "cell_type": "markdown",
     "metadata": {},
     "source": [
      "###This is the animal vs mechanical 2 class demonstration"
     ]
    },
    {
     "cell_type": "code",
     "collapsed": false,
     "input": [
      "fileListT = [ f for f in os.listdir(mainDir) if f.endswith(\".png\") ]\n",
      "\n",
      "count = 1\n",
      "for n in fileListT:\n",
      "    nn = n.split(\".\")[0]\n",
      "    try:\n",
      "        res = clas.runAnimalOrMechanicalWithCutoff(int(nn), model['RForest_clf'], 0.8)\n",
      "        if res == \"Mechanical\":\n",
      "            shutil.move(mainDir+n, mechanicalDir+n)\n",
      "        elif res == \"Animal\":\n",
      "            shutil.move(mainDir+n, animalDir+n)\n",
      "    except:\n",
      "        pass\n",
      "    if count % 25 == 0:\n",
      "        print count,\n",
      "    count = count + 1"
     ],
     "language": "python",
     "metadata": {},
     "outputs": [
      {
       "output_type": "stream",
       "stream": "stdout",
       "text": [
        "25 "
       ]
      },
      {
       "output_type": "stream",
       "stream": "stdout",
       "text": [
        "50 "
       ]
      },
      {
       "output_type": "stream",
       "stream": "stdout",
       "text": [
        "75 "
       ]
      },
      {
       "output_type": "stream",
       "stream": "stdout",
       "text": [
        "100 "
       ]
      },
      {
       "output_type": "stream",
       "stream": "stdout",
       "text": [
        "125 "
       ]
      },
      {
       "output_type": "stream",
       "stream": "stdout",
       "text": [
        "150 "
       ]
      },
      {
       "output_type": "stream",
       "stream": "stdout",
       "text": [
        "175 "
       ]
      },
      {
       "output_type": "stream",
       "stream": "stdout",
       "text": [
        "200 "
       ]
      },
      {
       "output_type": "stream",
       "stream": "stdout",
       "text": [
        "225 "
       ]
      },
      {
       "output_type": "stream",
       "stream": "stdout",
       "text": [
        "250 "
       ]
      },
      {
       "output_type": "stream",
       "stream": "stdout",
       "text": [
        "275 "
       ]
      },
      {
       "output_type": "stream",
       "stream": "stdout",
       "text": [
        "300 "
       ]
      },
      {
       "output_type": "stream",
       "stream": "stdout",
       "text": [
        "325 "
       ]
      },
      {
       "output_type": "stream",
       "stream": "stdout",
       "text": [
        "350\n"
       ]
      }
     ],
     "prompt_number": 8
    }
   ],
   "metadata": {}
  }
 ]
}