{
 "metadata": {
  "name": "",
  "signature": "sha256:f1f698bcd995bd43f30a6749ee7205edb663254b03e6a677ce3f299b3696760d"
 },
 "nbformat": 3,
 "nbformat_minor": 0,
 "worksheets": [
  {
   "cells": [
    {
     "cell_type": "code",
     "collapsed": false,
     "input": [
      "import numpy as np\n",
      "import pandas as pd\n",
      "import matplotlib.pyplot as plt\n",
      "import matplotlib.image as mpimg\n",
      "\n",
      "from skimage.color import rgb2gray\n",
      "%matplotlib inline\n",
      "from skimage.filter import gabor_kernel\n",
      "from skimage import exposure\n",
      "from scipy import ndimage as nd\n",
      "\n",
      "from sklearn import decomposition\n",
      "from sklearn.ensemble import AdaBoostClassifier\n",
      "from sklearn.ensemble import RandomForestClassifier\n",
      "from sklearn.ensemble import ExtraTreesClassifier\n",
      "from sklearn import tree\n",
      "from sklearn.cross_validation import StratifiedShuffleSplit\n",
      "from sklearn.linear_model import LogisticRegression\n",
      "from sklearn.linear_model import SGDClassifier\n",
      "\n",
      "from IPython.display import Image\n",
      "from IPython.display import display\n",
      "from IPython.display import clear_output\n",
      "\n",
      "import datetime\n",
      "import time\n",
      "import collections\n",
      "import cv2\n",
      "import pickle"
     ],
     "language": "python",
     "metadata": {},
     "outputs": [
      {
       "output_type": "stream",
       "stream": "stderr",
       "text": [
        "Vendor:  Continuum Analytics, Inc.\n",
        "Package: mkl\n",
        "Message: trial mode expires in 29 days\n",
        "Vendor:  Continuum Analytics, Inc.\n"
       ]
      },
      {
       "output_type": "stream",
       "stream": "stderr",
       "text": [
        "Package: mkl\n",
        "Message: trial mode expires in 29 days\n"
       ]
      }
     ],
     "prompt_number": 1
    },
    {
     "cell_type": "code",
     "collapsed": false,
     "input": [
      "class getData(object):\n",
      "    \"handles all the input required, and initial data munging\"\n",
      "    \n",
      "    def __init__(self, machine=\"desktop\"):\n",
      "        self.machine = machine\n",
      "        #print \"You are working on\", self.machine\n",
      "        if(self.machine == \"laptop\"):\n",
      "            self.labelPath = \"/home/vagrant/project/TRAIN/\"\n",
      "            self.filePath = \"/home/vagrant/project/training_set/\"\n",
      "        elif(self.machine == \"desktop\"):\n",
      "            self.labelPath = \"/Users/mrgh/Desktop/GAP/TRAIN/\"\n",
      "            self.filePath = \"/Users/mrgh/Desktop/GAP/TRAIN/train/\"\n",
      "            self.testFilePath = \"/Users/mrgh/Desktop/GAP/TEST/\"\n",
      "            self.resultsCPath = \"/Users/mrgh/Desktop/GAP/RESULTS/CASCADE/\"\n",
      "            self.resultsTPath = \"/Users/mrgh/Desktop/GAP/RESULTS/TENCLASS/\"\n",
      "            self.picklePath = \"/Users/mrgh/GA_PYTHON_2/\"\n",
      "        elif(self.machine == \"wdesktop\"):\n",
      "            self.labelPath = \"/Users/markholt/Desktop/TRAIN/\"\n",
      "            self.filePath = \"/Users/markholt/Desktop/TRAIN/train/\"\n",
      "            self.testFilePath = \"/Users/markholt/Desktop/TEST/\"\n",
      "            self.resultsPath = \"/Users/markholt/Desktop/RESULTS/\"\n",
      "            \n",
      "    def getPath(self, p):\n",
      "        #Allow the rest of the world to have access to the Paths based on the value of the input parameter 'p'\n",
      "        if p == \"test\":\n",
      "            return self.testFilePath\n",
      "        elif p == \"label\":\n",
      "            return self.labelPath\n",
      "        elif p == \"train\":\n",
      "            return self.filePath\n",
      "        elif p == \"resultsC\":\n",
      "            return self.resultsCPath\n",
      "        elif p == \"resultsT\":\n",
      "            return self.resultsTPath\n",
      "        elif p == \"pickle\":\n",
      "            return self.picklePath\n",
      "    \n",
      "    def readLabels(self):\n",
      "        myLabels = pd.read_csv(self.labelPath + \"SmallObjectImages_Labels.csv\")\n",
      "        return myLabels\n",
      "    \n",
      "    def readTestLabels(self):\n",
      "        myLabels = pd.read_csv(self.testFilePath + \"test_labels.csv\")\n",
      "        return myLabels\n",
      "    \n",
      "    def readImages(self, tNumber):\n",
      "        imageList = []\n",
      "        for i in range(1, tNumber + 1):\n",
      "            fileName = self.filePath + str(i) + \".png\"\n",
      "            im1 = mpimg.imread(fileName)\n",
      "            imageList.append(im1)   \n",
      "        return imageList\n",
      "    \n",
      "    def readTestImages(self, tNumber):\n",
      "        imageList = []\n",
      "        for i in range(1, tNumber + 1):\n",
      "            fileName = self.testFilePath + str(i) + \".png\"\n",
      "            im1 = mpimg.imread(fileName)\n",
      "            imageList.append(im1)   \n",
      "        return imageList\n",
      "    \n",
      "    def readListOfImages(self, imList):\n",
      "        imageList = []\n",
      "        for i in imList:\n",
      "            fileName = self.filePath + str(i) + \".png\"\n",
      "            im1 = mpimg.imread(fileName)\n",
      "            imageList.append(im1)   \n",
      "        return imageList\n",
      "                   \n",
      "    def readOneImage(self, imageNumber):\n",
      "        fileName = self.filePath + str(imageNumber) + \".png\"\n",
      "        im1 = mpimg.imread(fileName)\n",
      "        return im1\n",
      "    \n",
      "    def readOneTestImage(self, imageNumber):\n",
      "        fileName = self.testFilePath + str(imageNumber) + \".png\"\n",
      "        im1 = mpimg.imread(fileName)\n",
      "        return im1\n",
      "    \n",
      "    def readImagesOfType(self, tType):\n",
      "        myLabels = self.readLabels()\n",
      "        myLabels = myLabels.sort_index(by='label').copy()\n",
      "        imagesOfTypeDf = pd.DataFrame(index=range(5000), columns=[\"image_no\", \"label\"])\n",
      "        imagesOfTypeDf[\"label\"] = tType\n",
      "        imagesOfTypeDf[\"image_no\"] = myLabels[myLabels['label']==tType][\"id\"].values\n",
      "        return imagesOfTypeDf.sort_index(by=\"image_no\")\n",
      "    \n",
      "    def pickRandomSet(self, req, numClasses, classifier):\n",
      "        imLabList = []\n",
      "        imList = []\n",
      "        \n",
      "        for klas in req:\n",
      "            reqIm = self.readImagesOfType(klas)\n",
      "            #mask is a list of image file name numbers e.g. 1.png\n",
      "            mask = reqIm['image_no'].values\n",
      "            ranIm = np.random.choice(mask,req[klas])\n",
      "            for i in ranIm:\n",
      "                im = self.readOneImage(i)\n",
      "                imList.append(im)\n",
      "\n",
      "                imLab = np.zeros(req[klas])\n",
      "            for i in range(len(imLab)):\n",
      "                if numClasses == 2:\n",
      "                    if classifier == \"A1\":\n",
      "                        imLab = self.transformLabelsForTwoClassesA1(klas)\n",
      "                    else:\n",
      "                        imLab = self.transformLabelsForTwoClasses(klas)\n",
      "                elif numClasses == 3:\n",
      "                    if classifier == \"A1b\":\n",
      "                        imLab = self.transformLabelsForThreeClassesA1b(klas)\n",
      "                    elif classifier == \"A1a\":\n",
      "                        imLab = self.transformLabelsForThreeClassesA1a(klas)\n",
      "                elif numClasses == 4:\n",
      "                    if classifier == \"A12\":\n",
      "                        imLab = self.transformLabelsForFourClassesA2(klas)\n",
      "                else:\n",
      "                    imLab = self.transformLabels(klas)\n",
      "                imLabList.append(imLab)\n",
      "        retList = []\n",
      "        retList.append(imLabList)\n",
      "        retList.append(imList)\n",
      "        \n",
      "        return retList\n",
      "    \n",
      "    \n",
      "    def transformLabels(self, x):\n",
      "        if x == \"frog\":\n",
      "            return 0\n",
      "        elif x == \"truck\":\n",
      "            return 1\n",
      "        elif x == \"deer\":\n",
      "            return 2\n",
      "        elif x == \"automobile\":\n",
      "            return 3\n",
      "        elif x == \"bird\":\n",
      "            return 4\n",
      "        elif x == \"cat\":\n",
      "            return 5\n",
      "        elif x == \"dog\":\n",
      "            return 6\n",
      "        elif x == \"horse\":\n",
      "            return 7\n",
      "        elif x == \"ship\":\n",
      "            return 8\n",
      "        elif x == \"airplane\":\n",
      "            return 9\n",
      "        \n",
      "    def transformLabelsForTwoClasses(self, x):\n",
      "        if x == \"frog\" or x == \"deer\" or x == \"bird\" or x == \"cat\" or x == \"dog\" or x == \"horse\":\n",
      "            return 0\n",
      "        else:\n",
      "            return 1\n",
      "        \n",
      "    def transformLabelsForTwoClassesA1(self, x):\n",
      "        if x == \"frog\" or x == \"deer\" or x == \"horse\":\n",
      "            return 0\n",
      "        elif x == \"bird\" or x == \"cat\" or x == \"dog\":\n",
      "            return 1\n",
      "        \n",
      "    def transformLabelsForThreeClassesA1b(self, x):\n",
      "        if x == \"frog\":\n",
      "            return 0\n",
      "        elif x == \"deer\":\n",
      "            return 1\n",
      "        elif x == \"horse\":\n",
      "            return 2\n",
      "        \n",
      "    def transformLabelsForThreeClassesA1a(self, x):\n",
      "        if x == \"cat\":\n",
      "            return 0\n",
      "        elif x == \"dog\":\n",
      "            return 1\n",
      "        elif x == \"bird\":\n",
      "            return 2\n",
      "        \n",
      "    def transformLabelsForFourClassesA2(self, x):\n",
      "        if x == \"truck\":\n",
      "            return 0\n",
      "        elif x == \"automobile\":\n",
      "            return 1\n",
      "        elif x == \"ship\":\n",
      "            return 2\n",
      "        elif x == \"airplane\":\n",
      "            return 3\n",
      "                \n",
      "    def saveData(self, data, fileName, path):\n",
      "        if path == \"results\":\n",
      "            thePath = self.resultsPath\n",
      "        else:\n",
      "            thePath = path\n",
      "        with open(thePath + fileName + \".pik\", \"wb\") as f:\n",
      "            pickle.dump(data, f, -1)\n",
      "                        \n",
      "    def retrieveData(self, fileName, path):\n",
      "        if path == \"results\":\n",
      "            thePath = self.resultsPath\n",
      "        else: \n",
      "            thePath = path\n",
      "        with open(thePath + fileName, \"rb\") as f:\n",
      "            data = pickle.load(f)\n",
      "        return data\n",
      "    \n",
      "    \n",
      "class preProcess(object):\n",
      "    \n",
      "    def convertToGray(self, imageList):\n",
      "        imageGrayList = []\n",
      "        for image in imageList:\n",
      "            imG = rgb2gray(image)\n",
      "            imageGrayList.append(imG)\n",
      "        return imageGrayList\n",
      "    \n",
      "    def whitenGrayImage(self, imageList):\n",
      "        imageWList = []\n",
      "        for image in imageList:\n",
      "            imageN = (image - image.mean()) / image.std()\n",
      "            imageWList.append(imageN)\n",
      "        return imageWList\n",
      "    \n",
      "    def globalHistEq(self, imageList):\n",
      "        gHEList = []\n",
      "        for image in imageList:\n",
      "            imageE = exposure.equalize_hist(image)\n",
      "            gHEList.append(imageE)\n",
      "        return gHEList\n",
      "    \n",
      "    def colorSplit(self, imageList, numChannels=3):\n",
      "        rList = []\n",
      "        gList = []\n",
      "        bList = []\n",
      "        colorList = collections.OrderedDict()\n",
      "        for image in imageList:\n",
      "            if numChannels == 3:\n",
      "                b, g, r = cv2.split(image)\n",
      "            elif numChannels == 4:\n",
      "                b, g, r, a = cv2.split(image)\n",
      "            bList.append(b)\n",
      "            gList.append(g)\n",
      "            rList.append(r)\n",
      "        colorList[\"red\"] = rList\n",
      "        colorList[\"green\"] = gList\n",
      "        colorList[\"blue\"] = bList\n",
      "        return(colorList)\n",
      "    \n",
      "    def colorSplitOneImage(self, theImage, numChannels=3):\n",
      "        rList = []\n",
      "        gList = []\n",
      "        bList = []\n",
      "        colorList = collections.OrderedDict()\n",
      "        if numChannels == 3:\n",
      "            b, g, r = cv2.split(theImage)\n",
      "        elif numChannels == 4:\n",
      "            b, g, r, a = cv2.split(theImage)\n",
      "        bList.append(b)\n",
      "        gList.append(g)\n",
      "        rList.append(r)\n",
      "        colorList[\"red\"] = rList\n",
      "        colorList[\"green\"] = gList\n",
      "        colorList[\"blue\"] = bList\n",
      "        return(colorList)\n",
      "    \n",
      "class featureExtraction(object):\n",
      "    def cannyFilter(self, imageList, tSigma = 2.5):\n",
      "        imageCannyList = []\n",
      "        for image in imageList:\n",
      "            imageC = filter.canny(image, sigma=tSigma)\n",
      "            imageCannyList.append(imagec)\n",
      "        return imageCannyList    \n",
      "\n",
      "class gaborFeatureExtraction(object):\n",
      "    def __init__(self):\n",
      "        self.imageDim = 32\n",
      "        self.numberOfBands = 7\n",
      "        self.numberOfBandsByTwo = 4\n",
      "        self.numberOfAngles = 8\n",
      "        \n",
      "    def power(self, image, kernel):\n",
      "        # Normalize images for better comparison.\n",
      "        image = (image - image.mean()) / image.std()\n",
      "        return np.sqrt(nd.convolve(image, np.real(kernel), mode='wrap')**2 +\n",
      "                       nd.convolve(image, np.imag(kernel), mode='wrap')**2)\n",
      "    \n",
      "        \n",
      "    def buildGaborFilterBanks(self, useOpenCV=1):\n",
      "        filters = collections.OrderedDict()\n",
      "        gamma = 0.3\n",
      "        \n",
      "        #each row constitutes a \"BAND\"\n",
      "        for (ksi, ksize, lam) in ((3, 5, 0.8), (5, 5, 1.6), \n",
      "                                 (7, 5, 2.4), (9, 5, 3.2), \n",
      "                                 (11, 7, 1.6), (13, 7, 2.4), \n",
      "                                 (15, 7, 3.2), (17, 7, 4.0), \n",
      "                                 (19, 11, 2.4), (21, 11, 3.2), \n",
      "                                 (23, 11, 4.0), (25, 11, 4.8), \n",
      "                                 (27, 15, 3.2), (29, 15, 4.0)):\n",
      "            sigma = 0.8 * lam\n",
      "            #print ksize, sigma, lam\n",
      "            i=0\n",
      "            for theta_degrees in (0., 22.5, 45., 67.5, 90., 112.5, 135., 157.5):\n",
      "                theta = theta_degrees * np.pi / 180.\n",
      "                i=i+1\n",
      "                indexName = \"A\" + str(i) + \"S\" + str(ksi)\n",
      "                if(useOpenCV == 1):\n",
      "                    kernel = cv2.getGaborKernel((ksize, ksize), sigma, theta, lam, gamma, 0, ktype=cv2.CV_32F)\n",
      "                    kernel /= 1.5*kernel.sum()\n",
      "                else:\n",
      "                    #print \"using skimage gabor kernel\"\n",
      "                    kernel = gabor_kernel(lam, theta=theta, sigma_x=sigma, sigma_y=sigma)\n",
      "                \n",
      "                filters[indexName] = kernel\n",
      "        return filters\n",
      "        \n",
      "    def process(self, img, filters, conv=0):\n",
      "        fimgL = collections.OrderedDict()\n",
      "        #accum = np.zeros_like(img)\n",
      "        for idx, kernel in filters.items():\n",
      "            #filter2D is a true correlation - NOT a convolution\n",
      "            if(conv == 1):\n",
      "                #print \"corr\"\n",
      "                fimg = cv2.filter2D(img, -1, kernel)\n",
      "            else:\n",
      "                #print \"using nd convolve\"\n",
      "                #fimg = nd.convolve(img, kernel, mode='wrap')\n",
      "                fimg = self.power(img, kernel)\n",
      "            fimgL[idx] = fimg\n",
      "            #np.maximum(accum, fimg, accum)\n",
      "        return fimgL\n",
      "    \n",
      "    def getC1(self, neighborhoodSize, overlap, indx, fimgL):\n",
      "        grid = []\n",
      "        \n",
      "        for zx in range(0, self.imageDim - 1, overlap):\n",
      "            for zy in range(0,self.imageDim - 1, overlap):\n",
      "                max = -np.inf\n",
      "                for x in range(neighborhoodSize):\n",
      "                    for y in range(neighborhoodSize):\n",
      "                        #print x+zx, y+zy\n",
      "                        if (x+zx)<self.imageDim and (y+zy)<self.imageDim:\n",
      "                            if fimgL[indx][x+zx][y+zy] > max:\n",
      "                                max = fimgL[indx][x+zx][y+zy]\n",
      "                #print \"A and B\", a, \n",
      "                grid.append(max);\n",
      "                \n",
      "        return grid\n",
      "    \n",
      "    def getBandGrid(self, a, b, neighborhoodSize, overlap, fimgL):\n",
      "        bandGrid = collections.OrderedDict()\n",
      "        \n",
      "        for i in range(a, b):\n",
      "            indx = fimgL.keys()[i]\n",
      "            #print \"the index is \", indx\n",
      "            bandGrid[indx] = self.getC1(neighborhoodSize, overlap, indx, fimgL)\n",
      "        return bandGrid   \n",
      "\n",
      "    def maxOfGrids(self, grida, gridb):\n",
      "        dim = len(grida)\n",
      "        gridF = np.zeros(dim)\n",
      "        for x in range(dim):\n",
      "            if grida[x] > gridb[x]:\n",
      "                gridF[x] = grida[x]\n",
      "            else:\n",
      "                gridF[x] = gridb[x]\n",
      "        return gridF\n",
      "    \n",
      "    def processC1(self, b, bandNumber):\n",
      "        clayer = collections.OrderedDict()\n",
      "        for i in range(self.numberOfAngles):\n",
      "            idxName = b.keys()[i][0:2] + \"Band\" + str(bandNumber)\n",
      "            #print idxName, b.keys()[i], b.keys()[i+self.numberOfAngles]\n",
      "            clayer[idxName] = self.maxOfGrids(b[b.keys()[i]], b[b.keys()[i+self.numberOfAngles]])\n",
      "    \n",
      "        return clayer\n",
      "        \n",
      "    def processAllBands(self, fimgL):\n",
      "        \n",
      "        iL = []\n",
      "        for i in range(self.numberOfAngles):\n",
      "            nL = i * self.numberOfAngles * 2\n",
      "            iL.append(nL)\n",
      "        #print iL\n",
      "        #print len(iL)\n",
      "        \n",
      "            \n",
      "        b1=self.getBandGrid(iL[0], iL[1], 8, 4, fimgL)\n",
      "        b2=self.getBandGrid(iL[1], iL[2], 10, 5, fimgL)\n",
      "        b3=self.getBandGrid(iL[2], iL[3], 12, 6, fimgL)\n",
      "        b4=self.getBandGrid(iL[3], iL[4], 14, 7, fimgL)\n",
      "        b5=self.getBandGrid(iL[4], iL[5], 16, 8, fimgL)\n",
      "        b6=self.getBandGrid(iL[5], iL[6], 18, 9, fimgL)\n",
      "        b7=self.getBandGrid(iL[6], iL[7], 20, 10, fimgL)\n",
      "        \n",
      "        clayerB1 = self.processC1(b1, 1)\n",
      "        clayerB2 = self.processC1(b2, 2)\n",
      "        clayerB3 = self.processC1(b3, 3)\n",
      "        clayerB4 = self.processC1(b4, 4)\n",
      "        clayerB5 = self.processC1(b5, 5)\n",
      "        clayerB6 = self.processC1(b6, 6)\n",
      "        clayerB7 = self.processC1(b7, 7)\n",
      "        \n",
      "        allClayers=[clayerB1, clayerB2, clayerB3, clayerB4, clayerB5, clayerB6, clayerB7]\n",
      "        return allClayers\n",
      "    \n",
      "    def prepareForClassification(self, globalN, imGData):\n",
      "        gfb = self.buildGaborFilterBanks()\n",
      "        \n",
      "        j=0\n",
      "        testImage = imGData[j]\n",
      "        fimgL = self.process(testImage, gfb, conv=1)\n",
      "        cl = self.processAllBands(fimgL)\n",
      "        first = 1\n",
      "        for i in range(self.numberOfBands):\n",
      "            for indexKey in cl[i].keys():\n",
      "                if first == 1:\n",
      "                    pcd = cl[i][indexKey]\n",
      "                    first = 0\n",
      "                else:\n",
      "                    cd = cl[i][indexKey]\n",
      "                    pcd = np.concatenate((pcd, cd))\n",
      "    \n",
      "        theDim = len(pcd)\n",
      "        print theDim\n",
      "        imageDataMatrix = np.zeros((globalN, theDim), dtype=np.float32)\n",
      "\n",
      "        for j in range(globalN):\n",
      "            if (j + 1) % 500 == 0:\n",
      "                print j + 1\n",
      "            testImage = imGData[j]\n",
      "            fimgL = self.process(testImage, gfb, conv=1)\n",
      "            cl = self.processAllBands(fimgL)\n",
      "            first = 1\n",
      "            for i in range(self.numberOfBands):\n",
      "                for indexKey in cl[i].keys():\n",
      "                    #print indexKey\n",
      "                    if first == 1:\n",
      "                        pcd = cl[i][indexKey]\n",
      "                        first = 0\n",
      "                    else:\n",
      "                        cd = cl[i][indexKey]\n",
      "                        pcd = np.concatenate((pcd, cd))\n",
      "    \n",
      "            temp = pcd.reshape(pcd.shape[0])\n",
      "            imageDataMatrix[j] = temp.copy()\n",
      "            \n",
      "        return imageDataMatrix\n",
      "    \n",
      "    def prepareOneForClassification(self, iM):\n",
      "        gfb = self.buildGaborFilterBanks()\n",
      "        fimgL = self.process(iM, gfb, conv=1)\n",
      "        cl = self.processAllBands(fimgL)\n",
      "        first = 1\n",
      "        for i in range(self.numberOfBands):\n",
      "            for indexKey in cl[i].keys():\n",
      "                if first == 1:\n",
      "                    pcd = cl[i][indexKey]\n",
      "                    first = 0\n",
      "                else:\n",
      "                    cd = cl[i][indexKey]\n",
      "                    pcd = np.concatenate((pcd, cd))\n",
      "    \n",
      "        theDim = len(pcd)\n",
      "        imageDataMatrix = np.zeros((1, theDim), dtype=np.float32)\n",
      "        temp = pcd.reshape(pcd.shape[0])\n",
      "        imageDataMatrix[0] = temp.copy()\n",
      "    \n",
      "        return imageDataMatrix\n",
      "    \n",
      "class dimReduction(object):\n",
      "    \n",
      "    def getPC(self, dataMatrix, numComponents = 25):\n",
      "        pca = decomposition.PCA(n_components=numComponents)\n",
      "        dataMatrixZM = dataMatrix - dataMatrix.mean()\n",
      "        pca.fit(dataMatrixZM)\n",
      "        dataMatrixPCA = pca.transform(dataMatrixZM)\n",
      "        return dataMatrixPCA\n",
      "    \n",
      "class vizFeatures(object):\n",
      "    def __init__(self):\n",
      "        self.numberOfAngles = 8\n",
      "    \n",
      "    def plotBands(self, fimgL):\n",
      "        rows = len(fimgL)/self.numberOfAngles + 1\n",
      "        fig, axes = plt.subplots(nrows=rows, ncols=self.numberOfAngles, figsize=(20,20))\n",
      "        ax=axes[0][0]\n",
      "        ax.imshow(testImage, cmap = plt.get_cmap('gray'))\n",
      "\n",
      "        count = 0\n",
      "        for r in range(0, rows):\n",
      "            for ax in axes[r][:]:\n",
      "                ax.axis(\"off\")\n",
      "                if r > 0:\n",
      "                    if count <= len(fimgL):\n",
      "                        ax.set_title(fimgL.keys()[count], fontsize=12)\n",
      "                        ax.imshow(fimgL[fimgL.keys()[count]], cmap = plt.get_cmap('gray'))\n",
      "                    count = count + 1\n",
      "                    \n",
      "    def plotC1Features(self, allClayers):\n",
      "        rows=len(allClayers)+1\n",
      "        fig, axes = plt.subplots(nrows=rows, ncols=self.numberOfAngles, figsize=(20,20))\n",
      "        ax=axes[0][0]\n",
      "        ax.imshow(testImage, cmap = plt.get_cmap('gray'))\n",
      "\n",
      "        for ax in axes[0][1:]:\n",
      "            ax.axis(\"off\")\n",
      "\n",
      "        for r in range(1, rows):\n",
      "            for count, ax in zip(range(self.numberOfAngles), axes[r][:]):\n",
      "                #print count\n",
      "                #ax.axis(\"off\")\n",
      "                cl = allClayers[r-1]\n",
      "                ax.set_title(cl.keys()[count], fontsize=12)\n",
      "                reshapeDim = np.sqrt(len(cl[cl.keys()[count]]))\n",
      "                ax.imshow(cl[cl.keys()[count]].reshape(reshapeDim, reshapeDim), cmap = plt.get_cmap('gray'))\n",
      "                \n",
      "    def plotImageAndHistogram(self, img, axes, bins=256):\n",
      "    \n",
      "        #img = img_as_float(img)\n",
      "        ax_img, ax_hist = axes\n",
      "        #ax_cdf = ax_hist.twinx()\n",
      "\n",
      "        # Display image\n",
      "        ax_img.imshow(img, cmap=plt.cm.gray)\n",
      "        ax_img.set_axis_off()\n",
      "\n",
      "        # Display histogram\n",
      "        #ax_hist.hist(img.ravel(), bins=bins, histtype='step', color='black')\n",
      "        #ax_hist.ticklabel_format(axis='y', style='scientific', scilimits=(0, 0))\n",
      "        #ax_hist.set_xlabel('Pixel intensity')\n",
      "        #ax_hist.set_xlim(0, 1)\n",
      "        #ax_hist.set_yticks([])\n",
      "\n",
      "        # Display cumulative distribution\n",
      "        #img_cdf, bins = exposure.cumulative_distribution(img, bins)\n",
      "        #ax_cdf.plot(bins, img_cdf, 'r')\n",
      "        #ax_cdf.set_yticks([])\n",
      "        \n",
      "    def displayOneImage(self, imageNo, bw=1):\n",
      "        fig, ax = plt.subplots(nrows=1, ncols=1, figsize=(5,5))\n",
      "        \n",
      "        if type(imageNo) is int:\n",
      "            gD = getData()\n",
      "            iM = gD.readOneImage(imageNo) \n",
      "            if bw == 1:\n",
      "                ax.set_title(str(imageNo)+\".png grayscale\")\n",
      "                iMG = rgb2gray(iM)\n",
      "            else:\n",
      "                ax.set_title(str(imageNo)+\".png\")\n",
      "        else:\n",
      "            if bw == 1:\n",
      "                iMG = imageNo\n",
      "            else:\n",
      "                iM = imageNo\n",
      "        \n",
      "        if bw == 1:\n",
      "            ax.imshow(iMG, cmap = plt.get_cmap('gray'))\n",
      "        else:\n",
      "            ax.imshow(iM)\n",
      "\n",
      "            \n",
      "    def displayOneTestImage(self, imageNo, bw=1):\n",
      "        fig, ax = plt.subplots(nrows=1, ncols=1, figsize=(5,5))\n",
      "        \n",
      "        if type(imageNo) is int:\n",
      "            gD = getData()\n",
      "            iM = gD.readOneTestImage(imageNo) \n",
      "            if bw == 1:\n",
      "                ax.set_title(str(imageNo)+\".png grayscale\")\n",
      "                iMG = rgb2gray(iM)\n",
      "            else:\n",
      "                ax.set_title(str(imageNo)+\".png\")\n",
      "        else:\n",
      "            if bw == 1:\n",
      "                iMG = imageNo\n",
      "            else:\n",
      "                iM = imageNo\n",
      "        \n",
      "        if bw == 1:\n",
      "            ax.imshow(iMG, cmap = plt.get_cmap('gray'))\n",
      "        else:\n",
      "            ax.imshow(iM)\n",
      "\n",
      "\n",
      "class objectClassification(object):\n",
      "    \n",
      "    def __init__(self):\n",
      "        self.C = 0.01\n",
      "        self.minSamplesPerLeaf = 1\n",
      "        self.maxDepth = 9\n",
      "        self.numEstimators = 100\n",
      "        self.learningRate = 1.5\n",
      "    \n",
      "    def accReport(self, indexName, model, xtrain, ytrain, xtest, ytest, doPrint=0):\n",
      "        #Print the accuracy on the test and training dataset\n",
      "        training_accuracy = model.score(xtrain, ytrain)\n",
      "        testing_accuracy = model.score(xtest, ytest)\n",
      "        \n",
      "        if(doPrint == 1):\n",
      "            print \"Accuracy of %s  on training data: %0.2f\" % (indexName, training_accuracy)\n",
      "            print \"Accuracy of %s on test data: %0.2f\" % (indexName, testing_accuracy)\n",
      "        \n",
      "        results = (training_accuracy, testing_accuracy)\n",
      "        return results\n",
      "    \n",
      "    def trainFullClassifier(self, imageData, imageLabels) :\n",
      "        tree_clf = tree.DecisionTreeClassifier(min_samples_leaf = 4)\n",
      "        lr_clf = LogisticRegression(C = 0.1)\n",
      "        ab_clf = AdaBoostClassifier(base_estimator=tree.DecisionTreeClassifier(min_samples_leaf = 4), \n",
      "                                    n_estimators = self.numEstimators, learning_rate = self.learningRate)\n",
      "        sgd_svm_clf = SGDClassifier(loss='log', n_iter=100, shuffle=True)\n",
      "        rf_clf = RandomForestClassifier()\n",
      "        et_clf = ExtraTreesClassifier()\n",
      "        \n",
      "        #classifiers = {'T':tree_clf, 'LR': lr_clf, 'AB' : ab_clf}\n",
      "        classifiers = {'AB' : ab_clf}\n",
      "\n",
      "        m = collections.OrderedDict()\n",
      "                \n",
      "        for  clfKey in classifiers.keys():\n",
      "            clf = classifiers[clfKey]\n",
      "            indexName = \"mdl_\" + clfKey\n",
      "            tC = clf.fit(imageData, imageLabels)\n",
      "            m[indexName]  = tC \n",
      "        return m\n",
      "    \n",
      "    def trainWithClassifier(self, theName, description, clf, trainData, trainLabels, testData, testLabels):\n",
      "        data = getData()\n",
      "        ts = time.time()\n",
      "        st = datetime.datetime.fromtimestamp(ts).strftime('%Y-%m-%d_%H-%M-%S')\n",
      "        m = collections.OrderedDict()\n",
      "        m[theName + \"description\"]=description\n",
      "        m[theName + \"clf\"]=clf.fit(trainData, trainLabels)\n",
      "        m[theName + \"trainData\"]=trainData.copy()\n",
      "        m[theName + \"trainLabels\"]=trainLabels.copy()\n",
      "        m[theName + \"testData\"]=testData.copy()\n",
      "        m[theName + \"testLabels\"]=testLabels.copy()\n",
      "        m[theName + \"acc\"]=self.accReport(theName, m[theName+\"clf\"], trainData, trainLabels, testData, testLabels, 1)\n",
      "        m[theName + \"ctab\"]=pd.crosstab(testLabels, m[theName+\"clf\"].predict(testData),rownames = [\"Actual\"], colnames = [\"Predicted\"])\n",
      "        data.saveData(m, theName+st, \"results\")\n",
      "        print m[theName+\"ctab\"]\n",
      "        return m\n",
      "    \n",
      "    def trainClassifiers(self, imageData, imageLabels) :\n",
      "        \n",
      "        tree_clf = tree.DecisionTreeClassifier(max_depth = self.maxDepth, min_samples_leaf = self.minSamplesPerLeaf)      \n",
      "        lr_clf = LogisticRegression(C = self.C)        \n",
      "        ab_clf = AdaBoostClassifier(base_estimator=tree.DecisionTreeClassifier(), \n",
      "                                    n_estimators = self.numEstimators, learning_rate = self.learningRate)\n",
      "                \n",
      "        classifiers = {'T':tree_clf, 'LR': lr_clf, 'AB' : ab_clf}\n",
      "        m = collections.OrderedDict()       \n",
      "        sss = StratifiedShuffleSplit(imageLabels, 10, test_size = 0.1, random_state = 5)\n",
      "        \n",
      "        for  clfKey in classifiers.keys():\n",
      "            i=1\n",
      "            clf = classifiers[clfKey]\n",
      "            for train_index, test_index in sss:\n",
      "                indexName = \"mdl_\" + clfKey + str(i)\n",
      "                i = i + 1\n",
      "                X_train, X_test = imageData[train_index], imageData[test_index]\n",
      "                y_train, y_test = imageLabels[train_index], imageLabels[test_index]\n",
      "                \n",
      "                tC = clf.fit(X_train, y_train)\n",
      "                m[indexName]  = tC\n",
      "            \n",
      "                m[indexName+\"Acc\"] = self.acc_report(indexName, tC, X_train, y_train, X_test, y_test, 1)\n",
      "            \n",
      "                m[indexName+\"xtrain\"] = X_train.copy()\n",
      "                m[indexName+\"xtest\"] = X_test.copy()\n",
      "                m[indexName+\"ytrain\"] = y_train.copy()\n",
      "                m[indexName+\"ytest\"] = y_test.copy()\n",
      "        \n",
      "        k=0\n",
      "        for j in range(len(m.keys())):\n",
      "            ctab = pd.crosstab(m[m.keys()[k+5]], m[m.keys()[k]].predict(m[m.keys()[k+3]]), \n",
      "                        rownames = [\"Actual\"], colnames = [\"Predicted\"])\n",
      "            print \"\\n-----------------------------------------------------------------------\"\n",
      "            print m.keys()[k], \"n\"\n",
      "            print ctab\n",
      "            k = k + 6    \n",
      "        return m\n",
      "    \n",
      "    def trainTreeClassifiers(self, imageData, imageLabels) :\n",
      "        \n",
      "        classifiers = collections.OrderedDict()\n",
      "        #for mD in (3, 4, 5, 6, 7, 8, 9, 10):\n",
      "        for mSL in (1, 2, 3, 4, 5):\n",
      "            indN = \"treeAny\" + \":\" + str(mSL)\n",
      "            classifiers[indN] = tree.DecisionTreeClassifier( min_samples_leaf = mSL)\n",
      "                \n",
      "        #classifiers = {'T':tree_clf, 'LR': lr_clf, 'AB' : ab_clf}\n",
      "        \n",
      "        m = collections.OrderedDict()       \n",
      "        sss = StratifiedShuffleSplit(imageLabels, 1, test_size = 0.5, random_state = 5)\n",
      "        \n",
      "        for  clfKey in classifiers.keys():\n",
      "            i=1\n",
      "            clf = classifiers[clfKey]\n",
      "            for train_index, test_index in sss:\n",
      "                indexName = \"mdl_\" + str(i) + clfKey \n",
      "                i = i + 1\n",
      "                X_train, X_test = imageData[train_index], imageData[test_index]\n",
      "                y_train, y_test = imageLabels[train_index], imageLabels[test_index]\n",
      "                \n",
      "                tC = clf.fit(X_train, y_train)\n",
      "                m[indexName]  = tC\n",
      "            \n",
      "                m[indexName+\"Acc\"] = self.acc_report(indexName, tC, X_train, y_train, X_test, y_test, 1)\n",
      "            \n",
      "                m[indexName+\"xtrain\"] = X_train.copy()\n",
      "                m[indexName+\"xtest\"] = X_test.copy()\n",
      "                m[indexName+\"ytrain\"] = y_train.copy()\n",
      "                m[indexName+\"ytest\"] = y_test.copy()\n",
      "        \n",
      "        k=0\n",
      "        for j in range(len(m.keys())):\n",
      "            ctab = pd.crosstab(m[m.keys()[k+5]], m[m.keys()[k]].predict(m[m.keys()[k+3]]), \n",
      "                        rownames = [\"Actual\"], colnames = [\"Predicted\"])\n",
      "            print \"\\n-----------------------------------------------------------------------\"\n",
      "            print m.keys()[k], \"n\"\n",
      "            print ctab\n",
      "            k = k + 6    \n",
      "        return m\n",
      "    \n",
      "    def runBinaryClassifierNoLabel(self, imageNo, model):\n",
      "        gD = getData()\n",
      "        gfe = gaborFeatureExtraction()\n",
      "        iM = gD.readOneTestImage(imageNo)\n",
      "        iMG = rgb2gray(iM)\n",
      "        iMGE = exposure.equalize_hist(iMG)\n",
      "        imageDataMatrix = gfe.prepareOneForClassification(iMGE)\n",
      "        return imageDataMatrix\n",
      "    \n",
      "    def runBinaryClassifierFullColor(self, meth, imageNo, model):\n",
      "        gD = getData()\n",
      "        gfe = gaborFeatureExtraction()\n",
      "        pp = preProcess()\n",
      "        if meth == \"test\":\n",
      "            myLabels = data.readTestLabels()\n",
      "            imLabel = myLabels[myLabels['id']==imageNo]['class']\n",
      "            iM = gD.readOneTestImage(imageNo)\n",
      "            colorList = pp.colorSplitOneImage(iM, 4)\n",
      "        else:\n",
      "            myLabels = data.readLabels()\n",
      "            imLabel = myLabels[myLabels['id']==imageNo]['label']\n",
      "            iM = gD.readOneImage(imageNo)\n",
      "            colorList = pp.colorSplitOneImage(iM, 3)\n",
      "        redIm = np.array(colorList['red'])[0]\n",
      "        greenIm = np.array(colorList['green'])[0]\n",
      "        blueIm = np.array(colorList['blue'])[0]      \n",
      "        redDM = gfe.prepareOneForClassification(redIm)\n",
      "        greenDM = gfe.prepareOneForClassification(greenIm)\n",
      "        blueDM = gfe.prepareOneForClassification(blueIm)\n",
      "        temp = np.hstack([redDM, greenDM])\n",
      "        imageDataMatrix = np.hstack([temp, blueDM])\n",
      "        return [imageDataMatrix, imLabel]\n",
      "    \n",
      "    def runBinaryClassifier(self, meth, imageNo, model):\n",
      "        gD = getData()\n",
      "        gfe = gaborFeatureExtraction()\n",
      "        if meth == \"test\":\n",
      "            myLabels = data.readTestLabels()\n",
      "            imLabel = myLabels[myLabels['id']==imageNo]['class']\n",
      "            iM = gD.readOneTestImage(imageNo)\n",
      "        else:\n",
      "            myLabels = data.readLabels()\n",
      "            imLabel = myLabels[myLabels['id']==imageNo]['label']\n",
      "            iM = gD.readOneImage(imageNo)\n",
      "        iMG = rgb2gray(iM)\n",
      "        iMGE = exposure.equalize_hist(iMG)\n",
      "        imageDataMatrix = gfe.prepareOneForClassification(iMGE)\n",
      "        return [imageDataMatrix, imLabel]\n",
      "             \n",
      "    def ensureInt(self, n):\n",
      "        temp = np.array(n).astype(int)\n",
      "        return(temp)\n",
      "        \n",
      "    def runAnimalOrMechanical(self, imageNo, model, suppressPrint):\n",
      "        cInfo = self.runBinaryClassifier(imageNo, model)\n",
      "        imageDataMatrix = cInfo[0]\n",
      "        imLabel = cInfo[1]\n",
      "        if not suppressPrint:\n",
      "            print \"Known label for this image is : \" , imLabel.values\n",
      "            print \"\\n---------------PREDICTIONS--------------------\" \n",
      "            print \"This image is class: \", self.ensureInt(model.predict(imageDataMatrix[0]))\n",
      "        if model.predict(imageDataMatrix[0]) == 0:\n",
      "            if not suppressPrint:\n",
      "                print \"Animal\"\n",
      "            res = \"Animal\"\n",
      "        elif model.predict(imageDataMatrix[0]) == 1:\n",
      "            if not suppressPrint:\n",
      "                print \"Mechanical\"\n",
      "            res = \"Mechanical\"\n",
      "        else:\n",
      "            print \"unkown class position F\"\n",
      "        if not suppressPrint:\n",
      "            print \"Probabilities: %0.3f, %0.3f\" % (model.predict_proba(imageDataMatrix[0])[0][0], \n",
      "                                               model.predict_proba(imageDataMatrix[0])[0][1])\n",
      "        return [imageDataMatrix, res]\n",
      "    \n",
      "    def runSplitAnimals(self, imageNo, models, mA1, suppressPrint):\n",
      "        classInfoA = self.runAnimalOrMechanical(imageNo, models, suppressPrint)\n",
      "        imageDataMatrix = classInfoA[0]\n",
      "        mOrA = classInfoA[1]\n",
      "        if mOrA == \"Animal\":\n",
      "            if not suppressPrint:\n",
      "                print \"\\n----------SECOND LEVEL PREDICTION----------------\"\n",
      "                print \"This image is class: \", self.ensureInt(mA1.predict(imageDataMatrix[0]))\n",
      "            if mA1.predict(imageDataMatrix[0]) == 0:\n",
      "                if not suppressPrint:\n",
      "                    print \"Bird or a Cat or a Dog\"\n",
      "                res = \"BirdCatDog\"\n",
      "            elif mA1.predict(imageDataMatrix[0]) == 1: \n",
      "                if not suppressPrint:\n",
      "                    print \"Horse or a Deer or a Frog\"\n",
      "                res = \"HorseDeerFrog\"\n",
      "            else:\n",
      "                print \"unkown class position E\"\n",
      "            if not suppressPrint:\n",
      "                print \"Probabilities: %0.3f, %0.3f\" % (mA1.predict_proba(imageDataMatrix[0])[0][0], \n",
      "                                                   mA1.predict_proba(imageDataMatrix[0])[0][1])\n",
      "        elif mOrA == \"Mechanical\":\n",
      "            res = \"TruckorAutoorShiporPlane\"\n",
      "        return([mOrA, imageDataMatrix, res])\n",
      "\n",
      "    def classifyHDF(self, imageNo, models, mA1, mA1b, mA1a, mA12, suppressPrint = 1):\n",
      "        classInfoA1b = self.runSplitAnimals(imageNo, models, mA1, suppressPrint)\n",
      "        mOrA = classInfoA1b[0]\n",
      "        imageDataMatrix = classInfoA1b[1]\n",
      "        hdfOrCDB = classInfoA1b[2]\n",
      "        if mOrA == \"Animal\":\n",
      "            if hdfOrCDB == \"BirdCatDog\":\n",
      "                if not suppressPrint:\n",
      "                    print \"\\n----------FINAL CLASS PREDICTION----------------\"\n",
      "                    print \"This image is class: \", self.ensureInt(mA1b.predict(imageDataMatrix[0]))\n",
      "                if mA1b.predict(imageDataMatrix[0]) == 5:\n",
      "                    if not suppressPrint:\n",
      "                        print \"Cat\"\n",
      "                    prediction =\"cat\"\n",
      "                elif mA1b.predict(imageDataMatrix[0]) == 6:\n",
      "                    if not suppressPrint:\n",
      "                       print \"Dog\"\n",
      "                    prediction = \"dog\"\n",
      "                elif mA1b.predict(imageDataMatrix[0]) == 4:\n",
      "                    if not suppressPrint:\n",
      "                        print \"Bird\"\n",
      "                    prediction = \"bird\"\n",
      "                else:\n",
      "                    print \"unkown class position D\"\n",
      "                if not suppressPrint:\n",
      "                    print \"Probabilities: %0.3f, %0.3f %0.3f\"% (mA1b.predict_proba(imageDataMatrix[0])[0][0], \n",
      "                                                        mA1b.predict_proba(imageDataMatrix[0])[0][1],\n",
      "                                                        mA1b.predict_proba(imageDataMatrix[0])[0][2])\n",
      "                return prediction\n",
      "                \n",
      "            elif hdfOrCDB == \"HorseDeerFrog\":\n",
      "                if not suppressPrint:\n",
      "                    print \"\\n----------FINAL CLASS PREDICTION----------------\"\n",
      "                    print \"This image is class: \", self.ensureInt(mA1a.predict(imageDataMatrix[0]))\n",
      "                if mA1a.predict(imageDataMatrix[0]) == 0:\n",
      "                    if not suppressPrint:\n",
      "                        print \"Frog\"\n",
      "                    prediction = \"frog\"\n",
      "                elif mA1a.predict(imageDataMatrix[0]) == 2:\n",
      "                    if not suppressPrint:\n",
      "                       print \"Deer\"\n",
      "                    prediction = \"deer\"\n",
      "                elif mA1a.predict(imageDataMatrix[0]) == 7:\n",
      "                    if not suppressPrint:\n",
      "                       print \"Horse\"\n",
      "                    prediction = \"horse\"\n",
      "                else:\n",
      "                    print \"unkown class position B\"\n",
      "                if not suppressPrint:\n",
      "                    print \"Probabilities: %0.3f %0.3f %0.3f\"% (mA1a.predict_proba(imageDataMatrix[0])[0][0], \n",
      "                                                        mA1a.predict_proba(imageDataMatrix[0])[0][1],\n",
      "                                                        mA1a.predict_proba(imageDataMatrix[0])[0][2])\n",
      "                return prediction\n",
      "        else:\n",
      "            if not suppressPrint:\n",
      "                print \"\\n----------FINAL CLASS PREDICTION----------------\"\n",
      "                print \"This image is class: \", self.ensureInt(mA1b.predict(imageDataMatrix[0]))\n",
      "            if mA12.predict(imageDataMatrix[0]) == 1:\n",
      "                if not suppressPrint:\n",
      "                    print \"Truck\"\n",
      "                prediction =\"truck\"\n",
      "            elif mA12.predict(imageDataMatrix[0]) == 3:\n",
      "                if not suppressPrint:\n",
      "                    print \"Automobile\"\n",
      "                prediction = \"automobile\"\n",
      "            elif mA12.predict(imageDataMatrix[0]) == 8:\n",
      "                if not suppressPrint:\n",
      "                    print \"Ship\"\n",
      "                prediction = \"ship\"\n",
      "            elif mA12.predict(imageDataMatrix[0]) == 9:\n",
      "                if not suppressPrint:\n",
      "                    print \"Airplane\"\n",
      "                prediction = \"airplane\"\n",
      "            else:\n",
      "                print \"unkown class position A\"\n",
      "            if not suppressPrint:\n",
      "                print \"Probabilities: %0.3f %0.3f %0.3f %0.3f\"% (mA12.predict_proba(imageDataMatrix[0])[0][0], \n",
      "                                                            mA12.predict_proba(imageDataMatrix[0])[0][1],\n",
      "                                                            mA12.predict_proba(imageDataMatrix[0])[0][2],\n",
      "                                                            mA12.predict_proba(imageDataMatrix[0])[0][3])\n",
      "            return prediction\n",
      "\n",
      "                \n",
      "    def runTenClass(self, imageNo, model):\n",
      "        cInfo = self.runBinaryClassifier(imageNo, model)\n",
      "        imageDataMatrix = cInfo[0]\n",
      "        imLabel = cInfo[1]\n",
      "        category = [\"frog\", \"truck\", \"deer\", \"automobile\", \"bird\", \"cat\", \"dog\", \"horse\", \"ship\", \"airplane\"]\n",
      "        print \"Known label for this image is :\", imLabel.values\n",
      "        \n",
      "        print \"\\n---------------PREDICTIONS--------------------\"\n",
      "        print \"This image is class: \", self.ensureInt(model.predict(imageDataMatrix[0]))\n",
      "        for i in range(10):\n",
      "            print category[i],\"%0.3f\" % (model.predict_proba(imageDataMatrix[0])[0][i]), \n",
      "        print \"\\n\"\n",
      "        theClass = model.predict(imageDataMatrix[0])\n",
      "        if theClass == 0:\n",
      "            print \"frog\"\n",
      "        elif theClass == 1:\n",
      "            print \"truck\"\n",
      "        elif theClass == 2:\n",
      "            print \"deer\"\n",
      "        elif theClass == 3:\n",
      "            print \"automobile\"\n",
      "        elif theClass == 4:\n",
      "            print \"bird\"\n",
      "        elif theClass == 5:\n",
      "            print \"cat\"\n",
      "        elif theClass == 6:\n",
      "            print \"dog\"\n",
      "        elif theClass == 7:\n",
      "            print \"horse\"\n",
      "        elif theClass == 8:\n",
      "            print \"ship\"\n",
      "        elif theClass == 9:\n",
      "            print \"airplane\"\n",
      "            \n",
      "    def runTenClassFullColor(self, imageNo, model):\n",
      "        cInfo = self.runBinaryClassifierFullColor(imageNo, model)\n",
      "        imageDataMatrix = cInfo[0]\n",
      "        imLabel = cInfo[1]\n",
      "        category = [\"frog\", \"truck\", \"deer\", \"automobile\", \"bird\", \"cat\", \"dog\", \"horse\", \"ship\", \"airplane\"]\n",
      "        print \"Known label for this image is :\", imLabel.values\n",
      "        \n",
      "        print \"\\n---------------PREDICTIONS--------------------\"\n",
      "        print \"This image is class: \", self.ensureInt(model.predict(imageDataMatrix[0]))\n",
      "        for i in range(10):\n",
      "            print category[i],\"%0.3f\" % (model.predict_proba(imageDataMatrix[0])[0][i]), \n",
      "        print \"\\n\"\n",
      "        theClass = model.predict(imageDataMatrix[0])\n",
      "        if theClass == 0:\n",
      "            print \"frog\"\n",
      "        elif theClass == 1:\n",
      "            print \"truck\"\n",
      "        elif theClass == 2:\n",
      "            print \"deer\"\n",
      "        elif theClass == 3:\n",
      "            print \"automobile\"\n",
      "        elif theClass == 4:\n",
      "            print \"bird\"\n",
      "        elif theClass == 5:\n",
      "            print \"cat\"\n",
      "        elif theClass == 6:\n",
      "            print \"dog\"\n",
      "        elif theClass == 7:\n",
      "            print \"horse\"\n",
      "        elif theClass == 8:\n",
      "            print \"ship\"\n",
      "        elif theClass == 9:\n",
      "            print \"airplane\"\n",
      "            \n",
      "    def runTenClassWithCutoff(self, imageNo, model, cutOff):\n",
      "        cInfo = self.runBinaryClassifier(imageNo, model)\n",
      "        imageDataMatrix = cInfo[0]\n",
      "        imLabel = cInfo[1]\n",
      "        category = [\"frog\", \"truck\", \"deer\", \"automobile\", \"bird\", \"cat\", \"dog\", \"horse\", \"ship\", \"airplane\"]\n",
      "        print \"Known label for this image is :\", imLabel.values\n",
      "        \n",
      "        print \"\\n---------------PREDICTIONS--------------------\"\n",
      "        max = -np.Inf\n",
      "        for i in range(10):\n",
      "            if model.predict_proba(imageDataMatrix[0])[0][i] > max:\n",
      "                max = model.predict_proba(imageDataMatrix[0])[0][i]\n",
      "        if max > cutOff:\n",
      "            print \"This image is class: \", self.ensureInt(model.predict(imageDataMatrix[0]))\n",
      "            for i in range(10):\n",
      "                print category[i],\"%0.3f\" % (model.predict_proba(imageDataMatrix[0])[0][i]),\n",
      "            print \"\\n\"\n",
      "        \n",
      "            theClass = model.predict(imageDataMatrix[0])\n",
      "            if theClass == 0:\n",
      "                print \"frog\"\n",
      "            elif theClass == 1:\n",
      "                print \"truck\"\n",
      "            elif theClass == 2:\n",
      "                print \"deer\"\n",
      "            elif theClass == 3:\n",
      "                print \"automobile\"\n",
      "            elif theClass == 4:\n",
      "                print \"bird\"\n",
      "            elif theClass == 5:\n",
      "                print \"cat\"\n",
      "            elif theClass == 6:\n",
      "                print \"dog\"\n",
      "            elif theClass == 7:\n",
      "                print \"horse\"\n",
      "            elif theClass == 8:\n",
      "                print \"ship\"\n",
      "            elif theClass == 9:\n",
      "                print \"airplane\"\n",
      "        else:\n",
      "            print \"No dominant probability ( >\", cutOff, \"). No classification undertaken\"\n",
      "            \n",
      "    def runAOrMforProbs(self, meth, imageNo, model):\n",
      "        cInfo = self.runBinaryClassifier(meth, imageNo, model)\n",
      "        imageDataMatrix = cInfo[0]\n",
      "        pList = []\n",
      "        for i in range(2):\n",
      "            pList.append(model.predict_proba(imageDataMatrix[0])[0][i]) \n",
      "        return [imageDataMatrix, pList]\n",
      "    \n",
      "    def runSAforProbs(self, meth, imageNo, models, mA1):\n",
      "        classInfoA = self.runAOrMforProbs(meth, imageNo, models)\n",
      "        imageDataMatrix = classInfoA[0]\n",
      "        tList = classInfoA[1]\n",
      "        pList = []\n",
      "        for i in range(2):\n",
      "            pList.append(mA1.predict_proba(imageDataMatrix[0])[0][i]) \n",
      "        pList = pList + tList\n",
      "        return([imageDataMatrix, pList])\n",
      "    \n",
      "    def cHDFforProbs(self, meth, imageNo, models, mA1, mA1b, mA1a, mA12):\n",
      "        classInfoA1b = self.runSAforProbs(meth, imageNo, models, mA1)\n",
      "        imageDataMatrix = classInfoA1b[0]\n",
      "        tList = classInfoA1b[1]\n",
      "        pList = []\n",
      "        for i in range(3):\n",
      "            pList.append(mA1b.predict_proba(imageDataMatrix[0])[0][i])\n",
      "        for i in range(3):\n",
      "            pList.append(mA1a.predict_proba(imageDataMatrix[0])[0][i])\n",
      "        for i in range(4):\n",
      "            pList.append(mA12.predict_proba(imageDataMatrix[0])[0][i]) \n",
      "        pList = pList + tList\n",
      "                                                           \n",
      "        return pList\n",
      "        \n",
      "    def produceAllProbs(self, meth, imageNo, fcmodel, graytenmodel, models, mA1, mA1b, mA1a, mA12):\n",
      "        cInfo = self.runBinaryClassifierFullColor(meth, imageNo, fcmodel)\n",
      "        imageDataMatrix = cInfo[0]\n",
      "        imLabel = cInfo[1]\n",
      "        pList = []\n",
      "        for i in range(10):\n",
      "            pList.append(fcmodel.predict_proba(imageDataMatrix[0])[0][i]) \n",
      "            \n",
      "        dInfo = self.runBinaryClassifier(meth, imageNo, graytenmodel)\n",
      "        imageDataMatrixB = dInfo[0]\n",
      "        for i in range(10):\n",
      "            pList.append(graytenmodel.predict_proba(imageDataMatrixB[0])[0][i])\n",
      "                \n",
      "        tList = self.cHDFforProbs(meth, imageNo, models, mA1, mA1b, mA1a, mA12)\n",
      "        pList = pList + tList\n",
      "        return pList"
     ],
     "language": "python",
     "metadata": {},
     "outputs": [],
     "prompt_number": 2
    },
    {
     "cell_type": "code",
     "collapsed": false,
     "input": [
      "data = getData(machine=\"desktop\")\n",
      "pp = preProcess()\n",
      "gfe = gaborFeatureExtraction()\n",
      "viz = vizFeatures()\n",
      "clas = objectClassification()\n",
      "dR = dimReduction()"
     ],
     "language": "python",
     "metadata": {},
     "outputs": [],
     "prompt_number": 4
    },
    {
     "cell_type": "code",
     "collapsed": false,
     "input": [
      "#t1 = data.retrieveData(\"ExtraT_2014-12-03_23-40-25.pik\", data.getPath(\"resultsT\"))\n",
      "t1['ExtraT_clf'].trainData=0\n",
      "t1['ExtraT_clf'].testData=0"
     ],
     "language": "python",
     "metadata": {},
     "outputs": [],
     "prompt_number": 7
    },
    {
     "cell_type": "code",
     "collapsed": false,
     "input": [
      "#lr = data.retrieveData(\"LogReg_2014-12-04_12-08-25.pik\", data.getPath(\"resultsT\"))"
     ],
     "language": "python",
     "metadata": {},
     "outputs": [],
     "prompt_number": 8
    },
    {
     "cell_type": "code",
     "collapsed": false,
     "input": [
      "#m = data.retrieveData(\"m.pik\", data.getPath(\"resultsC\"))\n",
      "#m1 = data.retrieveData(\"m1.pik\", data.getPath(\"resultsC\"))\n",
      "#m2 = data.retrieveData(\"m2.pik\", data.getPath(\"resultsC\"))\n",
      "#m3 = data.retrieveData(\"m3.pik\", data.getPath(\"resultsC\"))\n",
      "#m4 = data.retrieveData(\"m4.pik\", data.getPath(\"resultsC\"))"
     ],
     "language": "python",
     "metadata": {},
     "outputs": [],
     "prompt_number": 9
    },
    {
     "cell_type": "code",
     "collapsed": false,
     "input": [
      "trainProbDataMatrix = np.zeros((50000, 34))"
     ],
     "language": "python",
     "metadata": {},
     "outputs": [],
     "prompt_number": 10
    },
    {
     "cell_type": "code",
     "collapsed": false,
     "input": [
      "trainProbDataMatrix.shape"
     ],
     "language": "python",
     "metadata": {},
     "outputs": [
      {
       "metadata": {},
       "output_type": "pyout",
       "prompt_number": 11,
       "text": [
        "(50000, 34)"
       ]
      }
     ],
     "prompt_number": 11
    },
    {
     "cell_type": "code",
     "collapsed": false,
     "input": [
      "for i in np.arange(1,50000):\n",
      "    if (i%100)==0:\n",
      "        print i ,\n",
      "    pList = clas.produceAllProbs(\"train\", i, t1['ExtraT_clf'], lr['LogReg_clf'], m['RForest_clf'], m1['RForest_clf'], m3['RForest_clf'], m4['RForest_clf'], m2['RForest_clf'])\n",
      "    for j in range(34):\n",
      "        trainProbDataMatrix[i-1][j] = pList[j]"
     ],
     "language": "python",
     "metadata": {},
     "outputs": [
      {
       "output_type": "stream",
       "stream": "stdout",
       "text": [
        " 100 "
       ]
      },
      {
       "output_type": "stream",
       "stream": "stdout",
       "text": [
        "200 "
       ]
      },
      {
       "output_type": "stream",
       "stream": "stdout",
       "text": [
        "300 "
       ]
      },
      {
       "output_type": "stream",
       "stream": "stdout",
       "text": [
        "400 "
       ]
      },
      {
       "output_type": "stream",
       "stream": "stdout",
       "text": [
        "500 "
       ]
      },
      {
       "output_type": "stream",
       "stream": "stdout",
       "text": [
        "600 "
       ]
      },
      {
       "output_type": "stream",
       "stream": "stdout",
       "text": [
        "700 "
       ]
      },
      {
       "output_type": "stream",
       "stream": "stdout",
       "text": [
        "800 "
       ]
      },
      {
       "output_type": "stream",
       "stream": "stdout",
       "text": [
        "900 "
       ]
      },
      {
       "output_type": "stream",
       "stream": "stdout",
       "text": [
        "1000 "
       ]
      },
      {
       "output_type": "stream",
       "stream": "stdout",
       "text": [
        "1100 "
       ]
      },
      {
       "output_type": "stream",
       "stream": "stdout",
       "text": [
        "1200 "
       ]
      },
      {
       "output_type": "stream",
       "stream": "stdout",
       "text": [
        "1300 "
       ]
      },
      {
       "output_type": "stream",
       "stream": "stdout",
       "text": [
        "1400 "
       ]
      },
      {
       "output_type": "stream",
       "stream": "stdout",
       "text": [
        "1500 "
       ]
      },
      {
       "output_type": "stream",
       "stream": "stdout",
       "text": [
        "1600 "
       ]
      },
      {
       "output_type": "stream",
       "stream": "stdout",
       "text": [
        "1700 "
       ]
      },
      {
       "output_type": "stream",
       "stream": "stdout",
       "text": [
        "1800 "
       ]
      },
      {
       "output_type": "stream",
       "stream": "stdout",
       "text": [
        "1900 "
       ]
      },
      {
       "output_type": "stream",
       "stream": "stdout",
       "text": [
        "2000 "
       ]
      },
      {
       "output_type": "stream",
       "stream": "stdout",
       "text": [
        "2100 "
       ]
      },
      {
       "output_type": "stream",
       "stream": "stdout",
       "text": [
        "2200 "
       ]
      },
      {
       "output_type": "stream",
       "stream": "stdout",
       "text": [
        "2300 "
       ]
      },
      {
       "output_type": "stream",
       "stream": "stdout",
       "text": [
        "2400 "
       ]
      },
      {
       "output_type": "stream",
       "stream": "stdout",
       "text": [
        "2500 "
       ]
      },
      {
       "output_type": "stream",
       "stream": "stdout",
       "text": [
        "2600 "
       ]
      },
      {
       "output_type": "stream",
       "stream": "stdout",
       "text": [
        "2700 "
       ]
      },
      {
       "output_type": "stream",
       "stream": "stdout",
       "text": [
        "2800 "
       ]
      },
      {
       "output_type": "stream",
       "stream": "stdout",
       "text": [
        "2900 "
       ]
      },
      {
       "output_type": "stream",
       "stream": "stdout",
       "text": [
        "3000 "
       ]
      },
      {
       "output_type": "stream",
       "stream": "stdout",
       "text": [
        "3100 "
       ]
      },
      {
       "output_type": "stream",
       "stream": "stdout",
       "text": [
        "3200 "
       ]
      },
      {
       "output_type": "stream",
       "stream": "stdout",
       "text": [
        "3300 "
       ]
      },
      {
       "output_type": "stream",
       "stream": "stdout",
       "text": [
        "3400 "
       ]
      },
      {
       "output_type": "stream",
       "stream": "stdout",
       "text": [
        "3500 "
       ]
      },
      {
       "output_type": "stream",
       "stream": "stdout",
       "text": [
        "3600 "
       ]
      },
      {
       "output_type": "stream",
       "stream": "stdout",
       "text": [
        "3700 "
       ]
      },
      {
       "output_type": "stream",
       "stream": "stdout",
       "text": [
        "3800 "
       ]
      },
      {
       "output_type": "stream",
       "stream": "stdout",
       "text": [
        "3900 "
       ]
      },
      {
       "output_type": "stream",
       "stream": "stdout",
       "text": [
        "4000 "
       ]
      },
      {
       "output_type": "stream",
       "stream": "stdout",
       "text": [
        "4100 "
       ]
      },
      {
       "output_type": "stream",
       "stream": "stdout",
       "text": [
        "4200 "
       ]
      },
      {
       "output_type": "stream",
       "stream": "stdout",
       "text": [
        "4300 "
       ]
      },
      {
       "output_type": "stream",
       "stream": "stdout",
       "text": [
        "4400 "
       ]
      },
      {
       "output_type": "stream",
       "stream": "stdout",
       "text": [
        "4500 "
       ]
      },
      {
       "output_type": "stream",
       "stream": "stdout",
       "text": [
        "4600 "
       ]
      },
      {
       "output_type": "stream",
       "stream": "stdout",
       "text": [
        "4700 "
       ]
      },
      {
       "output_type": "stream",
       "stream": "stdout",
       "text": [
        "4800 "
       ]
      },
      {
       "output_type": "stream",
       "stream": "stdout",
       "text": [
        "4900 "
       ]
      },
      {
       "output_type": "stream",
       "stream": "stdout",
       "text": [
        "5000 "
       ]
      },
      {
       "output_type": "stream",
       "stream": "stdout",
       "text": [
        "5100 "
       ]
      },
      {
       "output_type": "stream",
       "stream": "stdout",
       "text": [
        "5200 "
       ]
      },
      {
       "output_type": "stream",
       "stream": "stdout",
       "text": [
        "5300 "
       ]
      },
      {
       "output_type": "stream",
       "stream": "stdout",
       "text": [
        "5400 "
       ]
      },
      {
       "output_type": "stream",
       "stream": "stdout",
       "text": [
        "5500 "
       ]
      },
      {
       "output_type": "stream",
       "stream": "stdout",
       "text": [
        "5600 "
       ]
      },
      {
       "output_type": "stream",
       "stream": "stdout",
       "text": [
        "5700 "
       ]
      },
      {
       "output_type": "stream",
       "stream": "stdout",
       "text": [
        "5800 "
       ]
      },
      {
       "output_type": "stream",
       "stream": "stdout",
       "text": [
        "5900 "
       ]
      },
      {
       "output_type": "stream",
       "stream": "stdout",
       "text": [
        "6000 "
       ]
      },
      {
       "output_type": "stream",
       "stream": "stdout",
       "text": [
        "6100 "
       ]
      },
      {
       "output_type": "stream",
       "stream": "stdout",
       "text": [
        "6200 "
       ]
      },
      {
       "output_type": "stream",
       "stream": "stdout",
       "text": [
        "6300 "
       ]
      },
      {
       "output_type": "stream",
       "stream": "stdout",
       "text": [
        "6400 "
       ]
      },
      {
       "output_type": "stream",
       "stream": "stdout",
       "text": [
        "6500 "
       ]
      },
      {
       "output_type": "stream",
       "stream": "stdout",
       "text": [
        "6600 "
       ]
      },
      {
       "output_type": "stream",
       "stream": "stdout",
       "text": [
        "6700 "
       ]
      },
      {
       "output_type": "stream",
       "stream": "stdout",
       "text": [
        "6800 "
       ]
      },
      {
       "output_type": "stream",
       "stream": "stdout",
       "text": [
        "6900 "
       ]
      },
      {
       "output_type": "stream",
       "stream": "stdout",
       "text": [
        "7000 "
       ]
      },
      {
       "output_type": "stream",
       "stream": "stdout",
       "text": [
        "7100 "
       ]
      },
      {
       "output_type": "stream",
       "stream": "stdout",
       "text": [
        "7200 "
       ]
      },
      {
       "output_type": "stream",
       "stream": "stdout",
       "text": [
        "7300 "
       ]
      },
      {
       "output_type": "stream",
       "stream": "stdout",
       "text": [
        "7400 "
       ]
      },
      {
       "output_type": "stream",
       "stream": "stdout",
       "text": [
        "7500 "
       ]
      },
      {
       "output_type": "stream",
       "stream": "stdout",
       "text": [
        "7600 "
       ]
      },
      {
       "output_type": "stream",
       "stream": "stdout",
       "text": [
        "7700 "
       ]
      },
      {
       "output_type": "stream",
       "stream": "stdout",
       "text": [
        "7800 "
       ]
      },
      {
       "output_type": "stream",
       "stream": "stdout",
       "text": [
        "7900 "
       ]
      },
      {
       "output_type": "stream",
       "stream": "stdout",
       "text": [
        "8000 "
       ]
      },
      {
       "output_type": "stream",
       "stream": "stdout",
       "text": [
        "8100 "
       ]
      },
      {
       "output_type": "stream",
       "stream": "stdout",
       "text": [
        "8200 "
       ]
      },
      {
       "output_type": "stream",
       "stream": "stdout",
       "text": [
        "8300 "
       ]
      },
      {
       "output_type": "stream",
       "stream": "stdout",
       "text": [
        "8400 "
       ]
      },
      {
       "output_type": "stream",
       "stream": "stdout",
       "text": [
        "8500 "
       ]
      },
      {
       "output_type": "stream",
       "stream": "stdout",
       "text": [
        "8600 "
       ]
      },
      {
       "output_type": "stream",
       "stream": "stdout",
       "text": [
        "8700 "
       ]
      },
      {
       "output_type": "stream",
       "stream": "stdout",
       "text": [
        "8800 "
       ]
      }
     ]
    },
    {
     "cell_type": "code",
     "collapsed": false,
     "input": [
      "#trainProbDataMatrix[1:5]"
     ],
     "language": "python",
     "metadata": {},
     "outputs": [],
     "prompt_number": 155
    },
    {
     "cell_type": "code",
     "collapsed": false,
     "input": [
      "t1[\"ExtraT_clf\"]"
     ],
     "language": "python",
     "metadata": {},
     "outputs": [
      {
       "metadata": {},
       "output_type": "pyout",
       "prompt_number": 12,
       "text": [
        "ExtraTreesClassifier(bootstrap=False, compute_importances=None,\n",
        "           criterion='gini', max_depth=None, max_features=73,\n",
        "           max_leaf_nodes=None, min_density=None, min_samples_leaf=1,\n",
        "           min_samples_split=1, n_estimators=500, n_jobs=-1,\n",
        "           oob_score=False, random_state=None, verbose=0)"
       ]
      }
     ],
     "prompt_number": 12
    },
    {
     "cell_type": "code",
     "collapsed": false,
     "input": [
      "jj = data.readOneTestImage(1)\n",
      "print jj.shape\n",
      "kk = pp.colorSplitOneImage(jj, 4)\n",
      "print kk.keys()\n",
      "ll = np.array(kk['red'])\n",
      "print ll.shape\n",
      "mm = ll[0]\n",
      "mm.shape\n",
      "viz.displayOneImage(mm)"
     ],
     "language": "python",
     "metadata": {},
     "outputs": [
      {
       "output_type": "stream",
       "stream": "stdout",
       "text": [
        "(32, 32, 4)\n",
        "['red', 'green', 'blue']\n",
        "(1, 32, 32)\n"
       ]
      },
      {
       "metadata": {},
       "output_type": "display_data",
       "png": "[encoded data removed]",
       "text": [
        "<matplotlib.figure.Figure at 0x11697e690>"
       ]
      }
     ],
     "prompt_number": 54
    },
    {
     "cell_type": "code",
     "collapsed": false,
     "input": [
      "for i in np.arange(1, 10):\n",
      "    fileName = data.getPath(\"test\")+str(i)+\".png\"\n",
      "    print str(i)+\".png\"\n",
      "    j = Image(filename=fileName, width = 256, height=2564)\n",
      "    k = Image(filename=fileName)\n",
      "    clas.runTenClassFullColor(i, t1['ExtraT_clf'])    \n",
      "    #display(k)\n",
      "    #display(j)\n",
      "    #time.sleep(15)\n",
      "    #clear_output()"
     ],
     "language": "python",
     "metadata": {},
     "outputs": [],
     "prompt_number": 58
    }
   ],
   "metadata": {}
  }
 ]
}