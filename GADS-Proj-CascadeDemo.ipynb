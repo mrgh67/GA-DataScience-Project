{
 "metadata": {
  "name": "",
  "signature": "sha256:c97982067440ac09f7ddfa54f7e9cd0131b525d2bbe139b4c72bcef01fc66497"
 },
 "nbformat": 3,
 "nbformat_minor": 0,
 "worksheets": [
  {
   "cells": [
    {
     "cell_type": "markdown",
     "metadata": {},
     "source": [
      "#This notebook runs the cascade classifier models as a demonstration"
     ]
    },
    {
     "cell_type": "code",
     "collapsed": false,
     "input": [
      "#make sure the module of code called mystuff can be found\n",
      "if \"/home/vagrant/notebooks/GA-DataScience-Project/ds\" not in sys.path:\n",
      "     sys.path.insert(0, \"/home/vagrant/notebooks/GA-DataScience-Project/ds\")"
     ],
     "language": "python",
     "metadata": {},
     "outputs": [],
     "prompt_number": 1
    },
    {
     "cell_type": "code",
     "collapsed": false,
     "input": [
      "from IPython.display import Image\n",
      "from IPython.display import display\n",
      "from IPython.display import clear_output\n",
      "import time\n",
      "\n",
      "#mystuff is the code module for the project\n",
      "import mystuff"
     ],
     "language": "python",
     "metadata": {},
     "outputs": [],
     "prompt_number": 2
    },
    {
     "cell_type": "code",
     "collapsed": false,
     "input": [
      "data = mystuff.getData(machine=\"laptop\", announce = 0)\n",
      "clas = mystuff.objectClassification()"
     ],
     "language": "python",
     "metadata": {},
     "outputs": [],
     "prompt_number": 3
    },
    {
     "cell_type": "code",
     "collapsed": false,
     "input": [
      "#Retrieve the classifiers from storage, save memory by releasing the training set and testing set data that has been \n",
      "#stored with each of the classifiers\n",
      "m = data.retrieveData(\"m.pik\", data.getPath(\"resultsC\"))\n",
      "m1 = data.retrieveData(\"m1.pik\", data.getPath(\"resultsC\"))\n",
      "m2 = data.retrieveData(\"m2.pik\", data.getPath(\"resultsC\"))\n",
      "m3 = data.retrieveData(\"m3.pik\", data.getPath(\"resultsC\"))\n",
      "m4 = data.retrieveData(\"m4.pik\", data.getPath(\"resultsC\"))\n",
      "m['RForest_clf'].trainData = 0\n",
      "m['RForest_clf'].testData = 0\n",
      "m1['RForest_clf'].trainData = 0\n",
      "m1['RForest_clf'].testData = 0\n",
      "m2['RForest_clf'].trainData = 0\n",
      "m2['RForest_clf'].testData = 0\n",
      "m3['RForest_clf'].trainData = 0\n",
      "m3['RForest_clf'].testData = 0\n",
      "m4['RForest_clf'].trainData = 0\n",
      "m4['RForest_clf'].testData = 0"
     ],
     "language": "python",
     "metadata": {},
     "outputs": [],
     "prompt_number": 4
    },
    {
     "cell_type": "code",
     "collapsed": false,
     "input": [
      "#Running the demonstration by setting a range of image numbers to iterate over\n",
      "for i in np.arange(8773, 8774):\n",
      "    #get the directory path to the test images\n",
      "    fileName = data.getPath(\"test\")+str(i)+\".png\"\n",
      "    #print the image name\n",
      "    print str(i)+\".png\"\n",
      "    #display and actual sized image and an enlarged image\n",
      "    j = Image(filename=fileName, width = 256, height=2564)\n",
      "    k = Image(filename=fileName)\n",
      "    clas.classifyHDF(i, m['RForest_clf'], m1['RForest_clf'], m3['RForest_clf'], m4['RForest_clf'], m2['RForest_clf'], 0)\n",
      "    display(k)\n",
      "    display(j)\n",
      "    #adjust this for the speed of the demo\n",
      "    time.sleep(60)\n",
      "    #clear out the output area and get the next image\n",
      "    clear_output()"
     ],
     "language": "python",
     "metadata": {},
     "outputs": [
      {
       "output_type": "stream",
       "stream": "stdout",
       "text": [
        "\n"
       ]
      }
     ],
     "prompt_number": 5
    }
   ],
   "metadata": {}
  }
 ]
}