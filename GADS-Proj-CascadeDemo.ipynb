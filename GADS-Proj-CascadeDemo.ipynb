{
 "metadata": {
  "name": "",
  "signature": "sha256:e156917540c07251813c41142e146aabce11a16f9eb0f925226cf5c2721c2451"
 },
 "nbformat": 3,
 "nbformat_minor": 0,
 "worksheets": [
  {
   "cells": [
    {
     "cell_type": "code",
     "collapsed": false,
     "input": [
      "if \"/home/vagrant/notebooks/GA-DataScience-Project/ds\" not in sys.path:\n",
      "     sys.path.insert(0, \"/home/vagrant/notebooks/GA-DataScience-Project/ds\")"
     ],
     "language": "python",
     "metadata": {},
     "outputs": [],
     "prompt_number": 1
    },
    {
     "cell_type": "code",
     "collapsed": false,
     "input": [
      "%matplotlib inline\n",
      "from IPython.display import Image\n",
      "from IPython.display import display\n",
      "from IPython.display import clear_output\n",
      "import time\n",
      "import mystuff"
     ],
     "language": "python",
     "metadata": {},
     "outputs": [],
     "prompt_number": 2
    },
    {
     "cell_type": "code",
     "collapsed": false,
     "input": [
      "data = mystuff.getData(machine=\"laptop\", announce = 1)\n",
      "pp = mystuff.preProcess()\n",
      "gfe = mystuff.gaborFeatureExtraction()\n",
      "viz = mystuff.vizFeatures()\n",
      "clas = mystuff.objectClassification()\n",
      "dR = mystuff.dimReduction()"
     ],
     "language": "python",
     "metadata": {},
     "outputs": [
      {
       "output_type": "stream",
       "stream": "stdout",
       "text": [
        "You are working on laptop\n"
       ]
      }
     ],
     "prompt_number": 3
    },
    {
     "cell_type": "code",
     "collapsed": false,
     "input": [
      "m = data.retrieveData(\"m.pik\", data.getPath(\"resultsC\"))\n",
      "m1 = data.retrieveData(\"m1.pik\", data.getPath(\"resultsC\"))\n",
      "m2 = data.retrieveData(\"m2.pik\", data.getPath(\"resultsC\"))\n",
      "m3 = data.retrieveData(\"m3.pik\", data.getPath(\"resultsC\"))\n",
      "m4 = data.retrieveData(\"m4.pik\", data.getPath(\"resultsC\"))\n",
      "m['RForest_clf'].trainData = 0\n",
      "m['RForest_clf'].testData = 0\n",
      "m1['RForest_clf'].trainData = 0\n",
      "m1['RForest_clf'].testData = 0\n",
      "m2['RForest_clf'].trainData = 0\n",
      "m2['RForest_clf'].testData = 0\n",
      "m3['RForest_clf'].trainData = 0\n",
      "m3['RForest_clf'].testData = 0\n",
      "m4['RForest_clf'].trainData = 0\n",
      "m4['RForest_clf'].testData = 0"
     ],
     "language": "python",
     "metadata": {},
     "outputs": [],
     "prompt_number": 4
    },
    {
     "cell_type": "code",
     "collapsed": false,
     "input": [
      "for i in np.arange(4689, 4691):\n",
      "    fileName = data.getPath(\"test\")+str(i)+\".png\"\n",
      "    print str(i)+\".png\"\n",
      "    j = Image(filename=fileName, width = 256, height=2564)\n",
      "    k = Image(filename=fileName)\n",
      "    clas.classifyHDF(i, m['RForest_clf'], m1['RForest_clf'], m3['RForest_clf'], m4['RForest_clf'], m2['RForest_clf'], 0)\n",
      "    display(k)\n",
      "    display(j)\n",
      "    time.sleep(15)\n",
      "    clear_output()"
     ],
     "language": "python",
     "metadata": {},
     "outputs": [
      {
       "output_type": "stream",
       "stream": "stdout",
       "text": [
        "\n"
       ]
      }
     ],
     "prompt_number": 6
    }
   ],
   "metadata": {}
  }
 ]
}