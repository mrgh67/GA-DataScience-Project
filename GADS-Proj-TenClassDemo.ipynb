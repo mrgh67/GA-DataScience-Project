{
 "metadata": {
  "name": "",
  "signature": "sha256:350c4110ac6309f490050785b6e80377f9556724b00a53e9875ea267729f7ff3"
 },
 "nbformat": 3,
 "nbformat_minor": 0,
 "worksheets": [
  {
   "cells": [
    {
     "cell_type": "markdown",
     "metadata": {},
     "source": [
      "#This notebook runs the ten class classifier as a demonstration"
     ]
    },
    {
     "cell_type": "code",
     "collapsed": false,
     "input": [
      "#make sure the module of code called mystuff can be found\n",
      "if \"/home/vagrant/notebooks/GA-DataScience-Project/ds\" not in sys.path:\n",
      "     sys.path.insert(0, \"/home/vagrant/notebooks/GA-DataScience-Project/ds\")"
     ],
     "language": "python",
     "metadata": {},
     "outputs": [],
     "prompt_number": 1
    },
    {
     "cell_type": "code",
     "collapsed": false,
     "input": [
      "from IPython.display import Image\n",
      "from IPython.display import display\n",
      "from IPython.display import clear_output\n",
      "import time\n",
      "\n",
      "#mystuff is the code module for the project\n",
      "import mystuff"
     ],
     "language": "python",
     "metadata": {},
     "outputs": [],
     "prompt_number": 2
    },
    {
     "cell_type": "code",
     "collapsed": false,
     "input": [
      "#Need instances of the getData and objectClassification classes\n",
      "data = mystuff.getData(machine=\"laptop\", announce = 0)\n",
      "clas = mystuff.objectClassification()"
     ],
     "language": "python",
     "metadata": {},
     "outputs": [],
     "prompt_number": 3
    },
    {
     "cell_type": "code",
     "collapsed": false,
     "input": [
      "#Retrieve the classifier from storage, save memory by releasing the training set and testing set data\n",
      "lr = data.retrieveData(\"LogReg_2014-12-04_12-08-25.pik\", data.getPath(\"resultsT\"))\n",
      "lr['LogReg_clf'].trainData=0\n",
      "lr['LogReg_clf'].testData=0"
     ],
     "language": "python",
     "metadata": {},
     "outputs": [],
     "prompt_number": 4
    },
    {
     "cell_type": "code",
     "collapsed": false,
     "input": [
      "#Running the demonstration by setting a range of image numbers to iterate over\n",
      "for i in np.arange(8773, 8774):\n",
      "    #get the directory path to the test images\n",
      "    fileName = data.getPath(\"test\")+str(i)+\".png\"\n",
      "    #print the image name\n",
      "    print str(i)+\".png\"\n",
      "    #display and actual sized image and an enlarged image\n",
      "    j = Image(filename=fileName, width = 256, height=2564)\n",
      "    k = Image(filename=fileName)\n",
      "    clas.runTenClass(i, lr['LogReg_clf'])    \n",
      "    display(k)\n",
      "    display(j)\n",
      "    #adjust this for the speed of the demo\n",
      "    time.sleep(60)\n",
      "    #clear out the output area and get the next image\n",
      "    clear_output()"
     ],
     "language": "python",
     "metadata": {},
     "outputs": [],
     "prompt_number": 10
    }
   ],
   "metadata": {}
  }
 ]
}