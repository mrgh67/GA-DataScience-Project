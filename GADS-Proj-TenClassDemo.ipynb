{
 "metadata": {
  "name": "",
  "signature": "sha256:e1690be02777ea736f79ea2706c0ba92bf69a9ef341cc47226969e2fea69b840"
 },
 "nbformat": 3,
 "nbformat_minor": 0,
 "worksheets": [
  {
   "cells": [
    {
     "cell_type": "code",
     "collapsed": false,
     "input": [
      "if \"/home/vagrant/notebooks/GA-DataScience-Project/ds\" not in sys.path:\n",
      "     sys.path.insert(0, \"/home/vagrant/notebooks/GA-DataScience-Project/ds\")"
     ],
     "language": "python",
     "metadata": {},
     "outputs": [],
     "prompt_number": 1
    },
    {
     "cell_type": "code",
     "collapsed": false,
     "input": [
      "%matplotlib inline\n",
      "from IPython.display import Image\n",
      "from IPython.display import display\n",
      "from IPython.display import clear_output\n",
      "import time\n",
      "import mystuff"
     ],
     "language": "python",
     "metadata": {},
     "outputs": [],
     "prompt_number": 2
    },
    {
     "cell_type": "code",
     "collapsed": false,
     "input": [
      "data = mystuff.getData(machine=\"laptop\", announce = 0)\n",
      "pp = mystuff.preProcess()\n",
      "gfe = mystuff.gaborFeatureExtraction()\n",
      "viz = mystuff.vizFeatures()\n",
      "clas = mystuff.objectClassification()\n",
      "dR = mystuff.dimReduction()"
     ],
     "language": "python",
     "metadata": {},
     "outputs": [],
     "prompt_number": 6
    },
    {
     "cell_type": "code",
     "collapsed": false,
     "input": [
      "lr = data.retrieveData(\"LogReg_2014-12-04_12-08-25.pik\", data.getPath(\"resultsT\"))\n",
      "lr['LogReg_clf'].trainData=0\n",
      "lr['LogReg_clf'].testData=0"
     ],
     "language": "python",
     "metadata": {},
     "outputs": [],
     "prompt_number": 7
    },
    {
     "cell_type": "code",
     "collapsed": false,
     "input": [
      "for i in np.arange(8766, 8767):\n",
      "    fileName = data.getPath(\"test\")+str(i)+\".png\"\n",
      "    print str(i)+\".png\"\n",
      "    j = Image(filename=fileName, width = 256, height=2564)\n",
      "    k = Image(filename=fileName)\n",
      "    clas.runTenClass(i, lr['LogReg_clf'])    \n",
      "    display(k)\n",
      "    display(j)\n",
      "    time.sleep(15)\n",
      "    clear_output()"
     ],
     "language": "python",
     "metadata": {},
     "outputs": [],
     "prompt_number": 9
    }
   ],
   "metadata": {}
  }
 ]
}