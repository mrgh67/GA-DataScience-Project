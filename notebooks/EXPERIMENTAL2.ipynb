{
 "metadata": {
  "name": "",
  "signature": "sha256:7e0ea73c5a7f51a6d8896ecc3f4eb4ac7678717b014d9a2b48244120f85b1afd"
 },
 "nbformat": 3,
 "nbformat_minor": 0,
 "worksheets": [
  {
   "cells": [
    {
     "cell_type": "code",
     "collapsed": false,
     "input": [
      "import os, sys, inspect\n",
      "from IPython.display import Image\n",
      "from IPython.display import display\n",
      "from IPython.display import clear_output\n",
      "import time\n",
      "import hello"
     ],
     "language": "python",
     "metadata": {},
     "outputs": [],
     "prompt_number": 5
    },
    {
     "cell_type": "code",
     "collapsed": false,
     "input": [
      " # realpath() will make your script run, even if you symlink it :)\n",
      " cmd_folder = os.path.realpath(os.path.abspath(os.path.split(inspect.getfile( inspect.currentframe() ))[0]))\n",
      " if cmd_folder not in sys.path:\n",
      "     sys.path.insert(0, cmd_folder)\n",
      "\n",
      " # use this if you want to include modules from a subfolder\n",
      " cmd_subfolder = os.path.realpath(os.path.abspath(os.path.join(os.path.split(inspect.getfile( inspect.currentframe() ))[0],\"subfolder\")))\n",
      " if cmd_subfolder not in sys.path:\n",
      "     sys.path.insert(0, cmd_subfolder)\n",
      "\n",
      " # Info:\n",
      " # cmd_folder = os.path.dirname(os.path.abspath(__file__)) # DO NOT USE __file__ !!!\n",
      " # __file__ fails if script is called in different ways on Windows\n",
      " # __file__ fails if someone does os.chdir() before\n",
      " # sys.argv[0] also fails because it doesn't not always contains the path"
     ],
     "language": "python",
     "metadata": {},
     "outputs": [],
     "prompt_number": 2
    },
    {
     "cell_type": "code",
     "collapsed": false,
     "input": [
      "cmd_folder = os.path.realpath(os.path.abspath(os.path.split(inspect.getfile( inspect.currentframe() ))[0]))\n",
      "print cmd_folder"
     ],
     "language": "python",
     "metadata": {},
     "outputs": [
      {
       "output_type": "stream",
       "stream": "stdout",
       "text": [
        "/home/vagrant\n"
       ]
      }
     ],
     "prompt_number": 3
    },
    {
     "cell_type": "code",
     "collapsed": false,
     "input": [
      "cmd_subfolder = os.path.realpath(os.path.abspath(os.path.join(os.path.split(inspect.getfile( inspect.currentframe() ))[0],\"notebooks/GA-DataScience-Project/ds/\")))\n",
      "print cmd_subfolder\n",
      "if cmd_subfolder not in sys.path:\n",
      "     sys.path.insert(0, cmd_subfolder)"
     ],
     "language": "python",
     "metadata": {},
     "outputs": [
      {
       "output_type": "stream",
       "stream": "stdout",
       "text": [
        "/home/vagrant/notebooks/GA-DataScience-Project/ds\n"
       ]
      }
     ],
     "prompt_number": 4
    },
    {
     "cell_type": "code",
     "collapsed": false,
     "input": [
      "import hello"
     ],
     "language": "python",
     "metadata": {},
     "outputs": [],
     "prompt_number": 5
    },
    {
     "cell_type": "code",
     "collapsed": false,
     "input": [
      "data = hello.getData(machine=\"laptop\")\n",
      "pp = hello.preProcess()\n",
      "gfe = hello.gaborFeatureExtraction()\n",
      "viz = hello.vizFeatures()\n",
      "clas = hello.objectClassification()\n",
      "dR = hello.dimReduction()"
     ],
     "language": "python",
     "metadata": {},
     "outputs": [
      {
       "output_type": "stream",
       "stream": "stdout",
       "text": [
        "You are working on laptop\n"
       ]
      }
     ],
     "prompt_number": 6
    },
    {
     "cell_type": "code",
     "collapsed": false,
     "input": [
      "lr = data.retrieveData(\"LogReg_2014-12-04_12-08-25.pik\", data.getPath(\"resultsT\"))\n",
      "lr['LogReg_clf'].trainData=0\n",
      "lr['LogReg_clf'].testData=0"
     ],
     "language": "python",
     "metadata": {},
     "outputs": [],
     "prompt_number": 7
    },
    {
     "cell_type": "code",
     "collapsed": false,
     "input": [
      "for i in np.arange(6435, 6454):\n",
      "    fileName = data.getPath(\"test\")+str(i)+\".png\"\n",
      "    print str(i)+\".png\"\n",
      "    j = Image(filename=fileName, width = 256, height=2564)\n",
      "    k = Image(filename=fileName)\n",
      "    clas.runTenClass(i, lr['LogReg_clf'])    \n",
      "    display(k)\n",
      "    display(j)\n",
      "    time.sleep(7)\n",
      "    clear_output()"
     ],
     "language": "python",
     "metadata": {},
     "outputs": [],
     "prompt_number": 8
    }
   ],
   "metadata": {}
  }
 ]
}