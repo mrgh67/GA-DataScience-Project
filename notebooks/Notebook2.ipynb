{
 "metadata": {
  "name": "",
  "signature": "sha256:0ea13c6a07a0ed7f77e6b2e1b3c14e0a33e6944fa58ef8093bfcad1d07335774"
 },
 "nbformat": 3,
 "nbformat_minor": 0,
 "worksheets": [
  {
   "cells": [
    {
     "cell_type": "code",
     "collapsed": false,
     "input": [
      "import numpy as np\n",
      "import pandas as pd\n",
      "import matplotlib.pyplot as plt\n",
      "import matplotlib.image as mpimg\n",
      "\n",
      "from skimage.color import rgb2gray\n",
      "%matplotlib inline\n",
      "from skimage.filter import gabor_kernel\n",
      "from scipy import ndimage as nd\n",
      "\n",
      "from sklearn import tree\n",
      "from sklearn.cross_validation import StratifiedShuffleSplit\n",
      "\n",
      "import collections\n",
      "\n",
      "import cv2"
     ],
     "language": "python",
     "metadata": {},
     "outputs": [],
     "prompt_number": 40
    },
    {
     "cell_type": "code",
     "collapsed": false,
     "input": [
      "class getData(object):\n",
      "    \"handles all the input required, and initial data munging\"\n",
      "    \n",
      "    def __init__(self, machine=\"laptop\"):\n",
      "        self.machine = machine\n",
      "    \n",
      "    def readLabels(self):\n",
      "        if self.machine == \"desktop\":\n",
      "            myLabels = pd.read_csv(\"/Users/mrgh/Desktop/GAP/TRAIN/SmallObjectImages_Labels.csv\")\n",
      "        if self.machine == \"laptop\":\n",
      "            myLabels = pd.read_csv(\"/Users/mrgh/Desktop/GAP/TRAIN/SmallObjectImages_Labels.csv\")\n",
      "        return myLabels\n",
      "    \n",
      "    def readImages(self, tNumber):\n",
      "        imageList = []\n",
      "        for i in range(1, tNumber + 1):\n",
      "            if self.machine == \"desktop\":\n",
      "                fileName = \"/Users/mrgh/Desktop/GAP/TRAIN/train/\"+str(i)+\".png\"\n",
      "            if self.machine == \"laptop\":\n",
      "                fileName = \"/Users/mrgh/Desktop/GAP/TRAIN/train/\"+str(i)+\".png\"\n",
      "            im1 = mpimg.imread(fileName)\n",
      "            imageList.append(im1)   \n",
      "        return imageList\n",
      "    \n",
      "    def readImagesOfType(self, tType):\n",
      "        myLabels = self.readLabels()\n",
      "        myLabels = myLabels.sort_index(by='label').copy()\n",
      "        imagesOfTypeDf = pd.DataFrame(index=range(5000), columns=[\"image_no\", \"label\"])\n",
      "        imagesOfTypeDf[\"label\"] = tType\n",
      "        imagesOfTypeDf[\"image_no\"] = myLabels[myLabels['label']==tType][\"id\"].values\n",
      "        return imagesOfTypeDf.sort_index(by=\"image_no\")\n",
      "    \n",
      "    \n",
      "    def transformLabels(self, x):\n",
      "        if x == \"frog\":\n",
      "            return 0\n",
      "        elif x == \"truck\":\n",
      "            return 1\n",
      "        elif x == \"deer\":\n",
      "            return 2\n",
      "        elif x == \"automobile\":\n",
      "            return 3\n",
      "        elif x == \"bird\":\n",
      "            return 4\n",
      "        elif x == \"cat\":\n",
      "            return 5\n",
      "        elif x == \"dog\":\n",
      "            return 6\n",
      "        elif x == \"horse\":\n",
      "            return 7\n",
      "        elif x == \"ship\":\n",
      "            return 8\n",
      "        elif x == \"airplane\":\n",
      "            return 9"
     ],
     "language": "python",
     "metadata": {},
     "outputs": [],
     "prompt_number": 3
    },
    {
     "cell_type": "code",
     "collapsed": false,
     "input": [
      "class preProcess(object):\n",
      "    \n",
      "    def convertToGray(self, imageList):\n",
      "        imageGrayList = []\n",
      "        for image in imageList:\n",
      "            imG = rgb2gray(image)\n",
      "            imageGrayList.append(imG)\n",
      "        return imageGrayList\n",
      "    \n",
      "    def normalizeImage(self, imageList):\n",
      "        imageNormalList = []\n",
      "        for image in imageList:\n",
      "            imageN = (image - image.mean()) / image.std()\n",
      "            imageNormalList.append(imageN)\n",
      "        return imageNormalList"
     ],
     "language": "python",
     "metadata": {},
     "outputs": [],
     "prompt_number": 4
    },
    {
     "cell_type": "code",
     "collapsed": false,
     "input": [
      "class featureExtraction(object):\n",
      "    def cannyFilter(self, imageList, tSigma = 2.5):\n",
      "        imageCannyList = []\n",
      "        for image in imageList:\n",
      "            imageC = filter.canny(image, sigma=tSigma)\n",
      "            imageCannyList.append(imagec)\n",
      "        return imageCannyList"
     ],
     "language": "python",
     "metadata": {},
     "outputs": [],
     "prompt_number": 5
    },
    {
     "cell_type": "code",
     "collapsed": false,
     "input": [
      "class gaborFeatureExtraction(object):\n",
      "    \n",
      "    def __init__(self):\n",
      "        self.band1 = ((\"A1S3\", \"A1S5\"), (\"A2S3\", \"A2S5\"), (\"A3S3\", \"A3S5\"), (\"A4S3\", \"A4S5\"))\n",
      "        self.band2 = ((\"A1S7\", \"A1S9\"), (\"A2S7\", \"A2S9\"), (\"A3S7\", \"A3S9\"), (\"A4S7\", \"A4S9\"))\n",
      "        self.band3 = ((\"A1S11\", \"A1S13\"), (\"A2S11\", \"A2S13\"), (\"A3S11\", \"A3S13\"), (\"A4S11\", \"A4S13\"))\n",
      "        self.band4 = ((\"A1S15\", \"A1S17\"), (\"A2S15\", \"A2S17\"), (\"A3S15\", \"A3S17\"), (\"A4S15\", \"A4S17\"))\n",
      "        self.band5 = ((\"A1S19\", \"A1S21\"), (\"A2S19\", \"A2S21\"), (\"A3S19\", \"A3S21\"), (\"A4S19\", \"A4S21\"))\n",
      "        self.band6 = ((\"A1S23\", \"A1S25\"), (\"A2S23\", \"A2S25\"), (\"A3S23\", \"A3S25\"), (\"A4S23\", \"A4S25\"))\n",
      "        self.band7 = ((\"A1S27\", \"A1S29\"), (\"A2S27\", \"A2S29\"), (\"A3S27\", \"A3S29\"), (\"A4S27\", \"A4S29\"))\n",
      "        \n",
      "        self.allBands = [self.band1, self.band2, self.band3, self.band4, self.band5, self.band6, self.band7]\n",
      "        \n",
      "    def buildGaborFilterBanks(self):\n",
      "        filters = collections.OrderedDict()\n",
      "        gamma = 0.3\n",
      "        #for (ksize, sigma, lam) in ((3, 1.12, 1.4), (5, 2.0, 2.5), (7, 2.8, 3.5), (9, 3.6, 4.6), (11, 4.5, 5.6), (13, 5.4, 6.8), (15, 6.3, 7.9), (17, 7.3, 9.1), (19, 8.2, 10.3), (21, 9.2, 11.5), (23, 10.2, 12.7), (25, 11.3, 14.1), (27, 12.3, 15.4), (29, 13.4, 16.8), (31, 14.6, 18.2)):\n",
      "        for (ksize, lam) in ((3, 0.4), (5, 0.8), (7, 1.2), (9, 1.6), (11, 2.0), (13, 2.4), (15, 2.8), (17, 3.2), (19, 3.6), (21, 4.0), (23, 4.4), (25, 4.8), (27, 5.2), (29, 5.6), (31, 6.0)):\n",
      "            sigma = 0.8 * lam\n",
      "            #print ksize, sigma, lam\n",
      "            i=0\n",
      "            for theta in (0, 1.0/4.0*np.pi , 2.0/4.0*np.pi, 3.0/4.0*np.pi):\n",
      "                i=i+1\n",
      "                indexName = \"A\" + str(i) + \"S\" + str(ksize)\n",
      "                kernel = cv2.getGaborKernel((ksize, ksize), sigma, theta, lam, gamma, 0, ktype=cv2.CV_32F)\n",
      "                #kernel = gabor_kernel(lam, theta=theta, sigma_x=sigma, sigma_y=sigma)\n",
      "                #kern /= 1.5*kern.sum()\n",
      "                filters[indexName] = kernel\n",
      "        return filters\n",
      "        \n",
      "    def process(self, img, filters, conv=1):\n",
      "        fimgL = collections.OrderedDict()\n",
      "        #accum = np.zeros_like(img)\n",
      "        for idx, kernel in filters.items():\n",
      "            #filter2D is a true correlation - NOT a convolution\n",
      "            if(conv != 1):\n",
      "                #print \"corr\"\n",
      "                fimg = cv2.filter2D(img, -1, kernel)\n",
      "            else:\n",
      "                #print \"conv\"\n",
      "                #fimg = nd.convolve(img, kernel, mode='wrap')\n",
      "                fimg = self.power(img, kernel)\n",
      "            fimgL[idx] = fimg\n",
      "                #np.maximum(accum, fimg, accum)\n",
      "        return fimgL\n",
      "    \n",
      "    def getC1(self, indx, gridDim, Ns, overlap, fimgL):\n",
      "        grid = np.zeros((gridDim, gridDim))\n",
      "        a=0\n",
      "    \n",
      "        for zx in range(0,31, overlap):\n",
      "            b=0;\n",
      "            for zy in range(0,31, overlap):\n",
      "                min = -np.inf\n",
      "                for x in range(Ns):\n",
      "                    for y in range(Ns):\n",
      "                        #print x+zx, y+zy\n",
      "                        if (x+zx)<32 and (y+zy<32):\n",
      "                            if fimgL[indx][x+zx][y+zy] > min:\n",
      "                                min = fimgL[indx][x+zx][y+zy]\n",
      "                #print \"A and B\", a, b\n",
      "                if a<6 and b<6:\n",
      "                    grid[a][b] = min;\n",
      "                b = b + 1\n",
      "            a = a + 1\n",
      "        return grid\n",
      "    \n",
      "    def getBandGrid(self, band, dim, x, y, fimgL):\n",
      "        bandGrid = collections.OrderedDict()\n",
      "        for ban in band:\n",
      "            for indx in ban:\n",
      "                bandGrid[indx] = self.getC1(indx, dim, x, y, fimgL)\n",
      "        return bandGrid    \n",
      "\n",
      "    \n",
      "    \n",
      "    def power(self, image, kernel):\n",
      "        # Normalize images for better comparison.\n",
      "        image = (image - image.mean()) / image.std()\n",
      "        return np.sqrt(nd.convolve(image, np.real(kernel), mode='wrap')**2 +\n",
      "                       nd.convolve(image, np.imag(kernel), mode='wrap')**2)\n",
      "    \n",
      "       \n",
      "    def processC1(self, band, b, dim):\n",
      "        clayer = collections.OrderedDict()\n",
      "        i = 0\n",
      "        for n in band:\n",
      "            #print n, i\n",
      "            #print b.keys()[i][0:2]\n",
      "            clayer[b.keys()[i][0:2]] = self.maxOfGrids(b[n[0]], b[n[1]], dim)\n",
      "            i = i + 2\n",
      "        return clayer\n",
      "        \n",
      "    def maxOfGrids(self, grida, gridb, dim):\n",
      "        gridF = np.zeros((dim, dim))\n",
      "        for x in range(dim):\n",
      "            for y in range(dim):\n",
      "                if grida[x][y] > gridb[x][y]:\n",
      "                    gridF[x][y] = grida[x][y]\n",
      "                else:\n",
      "                    gridF[x][y] = gridb[x][y]\n",
      "        return gridF\n",
      "    \n",
      "    def processAllBands(self, fimgL):\n",
      "        b1 = self.getBandGrid(self.band1, 8, 8, 4, fimgL)\n",
      "        b2 = self.getBandGrid(self.band2, 7, 10, 5, fimgL)\n",
      "        b3 = self.getBandGrid(self.band3, 6, 12, 6, fimgL)\n",
      "        b4 = self.getBandGrid(self.band4, 5, 14, 7, fimgL)\n",
      "        b5 = self.getBandGrid(self.band5, 4, 16, 8, fimgL)\n",
      "        b6 = self.getBandGrid(self.band6, 4, 18, 9, fimgL)\n",
      "        b7 = self.getBandGrid(self.band7, 4, 20, 10, fimgL)\n",
      "        \n",
      "        clayerB1 = self.processC1(self.band1, b1, 8)\n",
      "        clayerB2 = self.processC1(self.band2, b2, 7)\n",
      "        clayerB3 = self.processC1(self.band3, b3, 6)\n",
      "        clayerB4 = self.processC1(self.band4, b4, 5)\n",
      "        clayerB5 = self.processC1(self.band5, b5, 4)\n",
      "        clayerB6 = self.processC1(self.band6, b6, 4)\n",
      "        clayerB7 = self.processC1(self.band7, b7, 4)\n",
      "        \n",
      "        allClayers=[clayerB1, clayerB2, clayerB3, clayerB4, clayerB5, clayerB6, clayerB7]\n",
      "        return allClayers"
     ],
     "language": "python",
     "metadata": {},
     "outputs": [],
     "prompt_number": 6
    },
    {
     "cell_type": "code",
     "collapsed": false,
     "input": [
      "class vizFeatures(object):\n",
      "    def plotBands(self, fimgL):\n",
      "        rows = len(fimgL)/4 + 1\n",
      "        fig, axes = plt.subplots(nrows=rows, ncols=4, figsize=(30,30))\n",
      "        ax=axes[0][0]\n",
      "        ax.imshow(testImage, cmap = plt.get_cmap('gray'))\n",
      "\n",
      "        count = 0\n",
      "        for r in range(0, rows):\n",
      "            for ax in axes[r][:]:\n",
      "                ax.axis(\"off\")\n",
      "                if r > 0:\n",
      "                    if count <= len(fimgL):\n",
      "                        ax.set_title(fimgL.keys()[count], fontsize=9)\n",
      "                        ax.imshow(fimgL[fimgL.keys()[count]], cmap = plt.get_cmap('gray'))\n",
      "                    count = count + 1\n",
      "                    \n",
      "    def plotC1Features(self, allClayers):\n",
      "        rows=len(allClayers)+1\n",
      "        fig, axes = plt.subplots(nrows=rows, ncols=4, figsize=(20,20))\n",
      "        ax=axes[0][0]\n",
      "        ax.imshow(testImage, cmap = plt.get_cmap('gray'))\n",
      "\n",
      "        for ax in axes[0][1:]:\n",
      "            ax.axis(\"off\")\n",
      "\n",
      "        for r in range(1, rows):\n",
      "            for count, ax in zip(range(0,4), axes[r][:]):\n",
      "                ax.axis(\"off\")\n",
      "                cl = allClayers[r-1]\n",
      "                ax.set_title(cl.keys()[count], fontsize=9)\n",
      "                ax.imshow(cl[cl.keys()[count]], cmap = plt.get_cmap('gray'))"
     ],
     "language": "python",
     "metadata": {},
     "outputs": [],
     "prompt_number": 7
    },
    {
     "cell_type": "code",
     "collapsed": false,
     "input": [
      "class objectClassification(object):\n",
      "    \n",
      "    def acc_report(self, model, xtrain, ytrain, xtest, ytest, doPrint=0):\n",
      "        #Print the accuracy on the test and training dataset\n",
      "        training_accuracy = model.score(xtrain, ytrain)\n",
      "        testing_accuracy = model.score(xtest, ytest)\n",
      "        \n",
      "        if(doPrint == 1):\n",
      "            print \"Accuracy on training data: %0.2f\" % (training_accuracy)\n",
      "            print \"Accuracy on test data: %0.2f\" % (testing_accuracy)\n",
      "        \n",
      "        results = (training_accuracy, testing_accuracy)\n",
      "        return results\n",
      "    \n",
      "    def runTreeClassifier(self, imageData, imageLabels) :\n",
      "        clf = tree.DecisionTreeClassifier()\n",
      "        i=1\n",
      "        models = {}\n",
      "        sss = StratifiedShuffleSplit(imageLabels, 1, test_size = 0.5, random_state = 35)\n",
      "        for train_index, test_index in sss:\n",
      "            indexName = \"model_\" + str(i)\n",
      "            i = i + 1\n",
      "            X_train, X_test = imageData[train_index], imageData[test_index]\n",
      "            y_train, y_test = imageLabels[train_index], imageLabels[test_index]\n",
      "            \n",
      "            tC = clf.fit(X_train, y_train)\n",
      "            models[indexName]  = tC\n",
      "            \n",
      "            models[indexName+\"Acc\"] = self.acc_report(tC, X_train, y_train, X_test, y_test, 1)\n",
      "            \n",
      "            models[indexName+\"xtrain\"] = X_train.copy()\n",
      "            models[indexName+\"xtest\"] = X_test.copy()\n",
      "            models[indexName+\"ytrain\"] = y_train.copy()\n",
      "            models[indexName+\"ytest\"] = y_test.copy()\n",
      "        return models \n",
      "    \n",
      "    def produceCrossTab(self, model):\n",
      "        pd.crosstab(model[\"model_1ytest\"], model[\"model_1\"].predict(model[\"model_1xtest\"]), rownames = [\"Actual\"], colnames = [\"Predicted\"])"
     ],
     "language": "python",
     "metadata": {},
     "outputs": [],
     "prompt_number": 48
    },
    {
     "cell_type": "code",
     "collapsed": false,
     "input": [
      "data = getData(\"laptop\")\n",
      "pp = preProcess()\n",
      "gfe = gaborFeatureExtraction()\n",
      "viz = vizFeatures()\n",
      "clas = objectClassification()"
     ],
     "language": "python",
     "metadata": {},
     "outputs": [],
     "prompt_number": 49
    },
    {
     "cell_type": "code",
     "collapsed": false,
     "input": [
      "im = data.readImages(50000)\n",
      "imG = pp.convertToGray(im)"
     ],
     "language": "python",
     "metadata": {},
     "outputs": [],
     "prompt_number": 9
    },
    {
     "cell_type": "code",
     "collapsed": false,
     "input": [
      "myLabels = data.readLabels()\n",
      "myLabels['class_label'] = myLabels['label'].apply(data.transformLabels)\n",
      "imageLabels = myLabels['class_label'].values\n",
      "print imageLabels[25:27]\n",
      "myLabels[25:27]"
     ],
     "language": "python",
     "metadata": {},
     "outputs": [
      {
       "output_type": "stream",
       "stream": "stdout",
       "text": [
        "[0 5]\n"
       ]
      },
      {
       "html": [
        "<div style=\"max-height:1000px;max-width:1500px;overflow:auto;\">\n",
        "<table border=\"1\" class=\"dataframe\">\n",
        "  <thead>\n",
        "    <tr style=\"text-align: right;\">\n",
        "      <th></th>\n",
        "      <th>id</th>\n",
        "      <th>label</th>\n",
        "      <th>class_label</th>\n",
        "    </tr>\n",
        "  </thead>\n",
        "  <tbody>\n",
        "    <tr>\n",
        "      <th>25</th>\n",
        "      <td> 26</td>\n",
        "      <td> frog</td>\n",
        "      <td> 0</td>\n",
        "    </tr>\n",
        "    <tr>\n",
        "      <th>26</th>\n",
        "      <td> 27</td>\n",
        "      <td>  cat</td>\n",
        "      <td> 5</td>\n",
        "    </tr>\n",
        "  </tbody>\n",
        "</table>\n",
        "</div>"
       ],
       "metadata": {},
       "output_type": "pyout",
       "prompt_number": 10,
       "text": [
        "    id label  class_label\n",
        "25  26  frog            0\n",
        "26  27   cat            5"
       ]
      }
     ],
     "prompt_number": 10
    },
    {
     "cell_type": "code",
     "collapsed": false,
     "input": [
      "catImages = data.readImagesOfType(\"cat\")\n",
      "airPlaneImages = data.readImagesOfType(\"airplane\")\n",
      "frogs = data.readImagesOfType(\"frog\")\n",
      "print frogs[0:5]"
     ],
     "language": "python",
     "metadata": {},
     "outputs": [
      {
       "output_type": "stream",
       "stream": "stdout",
       "text": [
        "   image_no label\n",
        "0         1  frog\n",
        "1        20  frog\n",
        "2        23  frog\n",
        "3        24  frog\n",
        "4        26  frog\n"
       ]
      }
     ],
     "prompt_number": 11
    },
    {
     "cell_type": "code",
     "collapsed": false,
     "input": [
      "testImage = imG[19]\n",
      "fig, ax = plt.subplots(nrows=1, ncols=1, figsize=(2,2))\n",
      "ax.imshow(testImage, cmap = plt.get_cmap('gray'))\n",
      "#gfb = gfe.buildGaborFilterBanks()\n",
      "#fimgL = gfe.process(testImage, gfb, conv=1)\n",
      "#viz.plotBands(fimgL)"
     ],
     "language": "python",
     "metadata": {},
     "outputs": [
      {
       "metadata": {},
       "output_type": "pyout",
       "prompt_number": 12,
       "text": [
        "<matplotlib.image.AxesImage at 0x105718fd0>"
       ]
      },
      {
       "metadata": {},
       "output_type": "display_data",
       "png": "[encoded data removed]",
       "text": [
        "<matplotlib.figure.Figure at 0x10db67f90>"
       ]
      }
     ],
     "prompt_number": 12
    },
    {
     "cell_type": "code",
     "collapsed": false,
     "input": [
      "cl=gfe.processAllBands(fimgL)\n",
      "viz.plotC1Features(cl)"
     ],
     "language": "python",
     "metadata": {},
     "outputs": [
      {
       "metadata": {},
       "output_type": "display_data",
       "png": "[encoded data removed]",
       "text": [
        "<matplotlib.figure.Figure at 0x11ddc1410>"
       ]
      }
     ],
     "prompt_number": 57
    },
    {
     "cell_type": "code",
     "collapsed": false,
     "input": [
      "gfb = gfe.buildGaborFilterBanks()\n",
      "imageDataMatrix = np.zeros((50000,888), dtype=np.float32)\n",
      "\n",
      "for j in range(50000):\n",
      "    if j % 1000 == 0:\n",
      "        print j\n",
      "    \n",
      "    testImage = imG[j]\n",
      "    \n",
      "    fimgL = gfe.process(testImage, gfb, conv=1)\n",
      "    cl=gfe.processAllBands(fimgL)\n",
      "\n",
      "    first = 1\n",
      "    for i in range(7):\n",
      "        for indexKey in cl[i].keys():\n",
      "            if first == 1:\n",
      "                pcd = cl[i][indexKey].reshape(cl[i][indexKey].shape[0]*cl[i][indexKey].shape[1], 1).copy()\n",
      "                first = 0\n",
      "            else:\n",
      "                cd = cl[i][indexKey].reshape(cl[i][indexKey].shape[0]*cl[i][indexKey].shape[1], 1).copy()\n",
      "                pcd = np.concatenate((pcd, cd))\n",
      "     \n",
      "    temp = pcd.reshape(pcd.shape[0])\n",
      "    imageDataMatrix[j] = temp.copy()"
     ],
     "language": "python",
     "metadata": {},
     "outputs": [
      {
       "output_type": "stream",
       "stream": "stdout",
       "text": [
        "0\n",
        "1000"
       ]
      },
      {
       "output_type": "stream",
       "stream": "stdout",
       "text": [
        "\n",
        "2000"
       ]
      },
      {
       "output_type": "stream",
       "stream": "stdout",
       "text": [
        "\n",
        "3000"
       ]
      },
      {
       "output_type": "stream",
       "stream": "stdout",
       "text": [
        "\n",
        "4000"
       ]
      },
      {
       "output_type": "stream",
       "stream": "stdout",
       "text": [
        "\n",
        "5000"
       ]
      },
      {
       "output_type": "stream",
       "stream": "stdout",
       "text": [
        "\n",
        "6000"
       ]
      },
      {
       "output_type": "stream",
       "stream": "stdout",
       "text": [
        "\n",
        "7000"
       ]
      },
      {
       "output_type": "stream",
       "stream": "stdout",
       "text": [
        "\n",
        "8000"
       ]
      },
      {
       "output_type": "stream",
       "stream": "stdout",
       "text": [
        "\n",
        "9000"
       ]
      },
      {
       "output_type": "stream",
       "stream": "stdout",
       "text": [
        "\n",
        "10000"
       ]
      },
      {
       "output_type": "stream",
       "stream": "stdout",
       "text": [
        "\n",
        "11000"
       ]
      },
      {
       "output_type": "stream",
       "stream": "stdout",
       "text": [
        "\n",
        "12000"
       ]
      },
      {
       "output_type": "stream",
       "stream": "stdout",
       "text": [
        "\n",
        "13000"
       ]
      },
      {
       "output_type": "stream",
       "stream": "stdout",
       "text": [
        "\n",
        "14000"
       ]
      },
      {
       "output_type": "stream",
       "stream": "stdout",
       "text": [
        "\n",
        "15000"
       ]
      },
      {
       "output_type": "stream",
       "stream": "stdout",
       "text": [
        "\n",
        "16000"
       ]
      },
      {
       "output_type": "stream",
       "stream": "stdout",
       "text": [
        "\n",
        "17000"
       ]
      },
      {
       "output_type": "stream",
       "stream": "stdout",
       "text": [
        "\n",
        "18000"
       ]
      },
      {
       "output_type": "stream",
       "stream": "stdout",
       "text": [
        "\n",
        "19000"
       ]
      },
      {
       "output_type": "stream",
       "stream": "stdout",
       "text": [
        "\n",
        "20000"
       ]
      },
      {
       "output_type": "stream",
       "stream": "stdout",
       "text": [
        "\n",
        "21000"
       ]
      },
      {
       "output_type": "stream",
       "stream": "stdout",
       "text": [
        "\n",
        "22000"
       ]
      },
      {
       "output_type": "stream",
       "stream": "stdout",
       "text": [
        "\n",
        "23000"
       ]
      },
      {
       "output_type": "stream",
       "stream": "stdout",
       "text": [
        "\n",
        "24000"
       ]
      },
      {
       "output_type": "stream",
       "stream": "stdout",
       "text": [
        "\n",
        "25000"
       ]
      },
      {
       "output_type": "stream",
       "stream": "stdout",
       "text": [
        "\n",
        "26000"
       ]
      },
      {
       "output_type": "stream",
       "stream": "stdout",
       "text": [
        "\n",
        "27000"
       ]
      },
      {
       "output_type": "stream",
       "stream": "stdout",
       "text": [
        "\n",
        "28000"
       ]
      },
      {
       "output_type": "stream",
       "stream": "stdout",
       "text": [
        "\n",
        "29000"
       ]
      },
      {
       "output_type": "stream",
       "stream": "stdout",
       "text": [
        "\n",
        "30000"
       ]
      },
      {
       "output_type": "stream",
       "stream": "stdout",
       "text": [
        "\n",
        "31000"
       ]
      },
      {
       "output_type": "stream",
       "stream": "stdout",
       "text": [
        "\n",
        "32000"
       ]
      },
      {
       "output_type": "stream",
       "stream": "stdout",
       "text": [
        "\n",
        "33000"
       ]
      },
      {
       "output_type": "stream",
       "stream": "stdout",
       "text": [
        "\n",
        "34000"
       ]
      },
      {
       "output_type": "stream",
       "stream": "stdout",
       "text": [
        "\n",
        "35000"
       ]
      },
      {
       "output_type": "stream",
       "stream": "stdout",
       "text": [
        "\n",
        "36000"
       ]
      },
      {
       "output_type": "stream",
       "stream": "stdout",
       "text": [
        "\n",
        "37000"
       ]
      },
      {
       "output_type": "stream",
       "stream": "stdout",
       "text": [
        "\n",
        "38000"
       ]
      },
      {
       "output_type": "stream",
       "stream": "stdout",
       "text": [
        "\n",
        "39000"
       ]
      },
      {
       "output_type": "stream",
       "stream": "stdout",
       "text": [
        "\n",
        "40000"
       ]
      },
      {
       "output_type": "stream",
       "stream": "stdout",
       "text": [
        "\n",
        "41000"
       ]
      },
      {
       "output_type": "stream",
       "stream": "stdout",
       "text": [
        "\n",
        "42000"
       ]
      },
      {
       "output_type": "stream",
       "stream": "stdout",
       "text": [
        "\n",
        "43000"
       ]
      },
      {
       "output_type": "stream",
       "stream": "stdout",
       "text": [
        "\n",
        "44000"
       ]
      },
      {
       "output_type": "stream",
       "stream": "stdout",
       "text": [
        "\n",
        "45000"
       ]
      },
      {
       "output_type": "stream",
       "stream": "stdout",
       "text": [
        "\n",
        "46000"
       ]
      },
      {
       "output_type": "stream",
       "stream": "stdout",
       "text": [
        "\n",
        "47000"
       ]
      },
      {
       "output_type": "stream",
       "stream": "stdout",
       "text": [
        "\n",
        "48000"
       ]
      },
      {
       "output_type": "stream",
       "stream": "stdout",
       "text": [
        "\n",
        "49000"
       ]
      },
      {
       "output_type": "stream",
       "stream": "stdout",
       "text": [
        "\n"
       ]
      }
     ],
     "prompt_number": 18
    },
    {
     "cell_type": "code",
     "collapsed": false,
     "input": [
      "from tempfile import TemporaryFile\n",
      "outfile = TemporaryFile()"
     ],
     "language": "python",
     "metadata": {},
     "outputs": [],
     "prompt_number": 22
    },
    {
     "cell_type": "code",
     "collapsed": false,
     "input": [
      "np.save(outfile, imageDataMatrix)"
     ],
     "language": "python",
     "metadata": {},
     "outputs": [],
     "prompt_number": 23
    },
    {
     "cell_type": "code",
     "collapsed": false,
     "input": [
      "imageDataMatrix[49000][800]"
     ],
     "language": "python",
     "metadata": {},
     "outputs": [
      {
       "metadata": {},
       "output_type": "pyout",
       "prompt_number": 24,
       "text": [
        "31.057114"
       ]
      }
     ],
     "prompt_number": 24
    },
    {
     "cell_type": "code",
     "collapsed": false,
     "input": [
      "models = clas.runTreeClassifier(imageDataMatrix, imageLabels)"
     ],
     "language": "python",
     "metadata": {},
     "outputs": []
    },
    {
     "cell_type": "code",
     "collapsed": false,
     "input": [
      "models"
     ],
     "language": "python",
     "metadata": {},
     "outputs": [
      {
       "metadata": {},
       "output_type": "pyout",
       "prompt_number": 52,
       "text": [
        "{'model_1': DecisionTreeClassifier(compute_importances=None, criterion='gini',\n",
        "             max_depth=None, max_features=None, max_leaf_nodes=None,\n",
        "             min_density=None, min_samples_leaf=1, min_samples_split=2,\n",
        "             random_state=None, splitter='best'),\n",
        " 'model_1Acc': (1.0, 0.26132),\n",
        " 'model_1xtest': array([[  5.23889589,   5.05742073,   5.00074482, ...,   4.00334978,\n",
        "           4.93517065,   4.93517065],\n",
        "        [  4.2022953 ,   4.88261604,   4.88261604, ...,  10.73852634,\n",
        "          10.73852634,   8.27969456],\n",
        "        [ 10.6254015 ,   7.92542362,   6.54943419, ...,  13.81028652,\n",
        "          13.81028652,   6.34081697],\n",
        "        ..., \n",
        "        [  6.13679028,   5.79167366,   5.18142366, ...,  13.72445774,\n",
        "          12.06327343,   4.6754756 ],\n",
        "        [  4.66835356,   4.81751108,   7.48022127, ...,   8.02758503,\n",
        "           8.02758503,   6.84134007],\n",
        "        [  7.83084774,   8.09634018,   8.09634018, ...,  12.99576473,\n",
        "          12.99576473,   9.46059036]], dtype=float32),\n",
        " 'model_1xtrain': array([[  4.75121593,   4.75121593,   2.8169558 , ...,  11.24988937,\n",
        "          11.24988937,   9.0434742 ],\n",
        "        [  6.42857838,   7.39999437,   7.39999437, ...,   6.1632452 ,\n",
        "          11.05844021,  11.05844021],\n",
        "        [  4.87493038,   9.54026222,   9.54026222, ...,   8.45287132,\n",
        "          13.387043  ,  13.387043  ],\n",
        "        ..., \n",
        "        [  3.19124365,   3.75019026,   3.80684996, ...,  11.75283337,\n",
        "          11.75283337,  11.51184082],\n",
        "        [  7.05028772,   8.16467857,   8.16467857, ...,  13.88869572,\n",
        "          13.88869572,  11.5534811 ],\n",
        "        [  3.70913815,   3.99594474,   4.4679141 , ...,  13.60331154,\n",
        "           9.19682026,   5.86973333]], dtype=float32),\n",
        " 'model_1ytest': array([2, 7, 6, ..., 5, 9, 3]),\n",
        " 'model_1ytrain': array([6, 7, 9, ..., 8, 7, 8])}"
       ]
      }
     ],
     "prompt_number": 52
    },
    {
     "cell_type": "code",
     "collapsed": false,
     "input": [
      "pd.crosstab(models[\"model_1ytest\"], models[\"model_1\"].predict(models[\"model_1xtest\"]), rownames = [\"Actual\"], colnames = [\"Predicted\"])"
     ],
     "language": "python",
     "metadata": {},
     "outputs": [
      {
       "html": [
        "<div style=\"max-height:1000px;max-width:1500px;overflow:auto;\">\n",
        "<table border=\"1\" class=\"dataframe\">\n",
        "  <thead>\n",
        "    <tr style=\"text-align: right;\">\n",
        "      <th>Predicted</th>\n",
        "      <th>0</th>\n",
        "      <th>1</th>\n",
        "      <th>2</th>\n",
        "      <th>3</th>\n",
        "      <th>4</th>\n",
        "      <th>5</th>\n",
        "      <th>6</th>\n",
        "      <th>7</th>\n",
        "      <th>8</th>\n",
        "      <th>9</th>\n",
        "    </tr>\n",
        "    <tr>\n",
        "      <th>Actual</th>\n",
        "      <th></th>\n",
        "      <th></th>\n",
        "      <th></th>\n",
        "      <th></th>\n",
        "      <th></th>\n",
        "      <th></th>\n",
        "      <th></th>\n",
        "      <th></th>\n",
        "      <th></th>\n",
        "      <th></th>\n",
        "    </tr>\n",
        "  </thead>\n",
        "  <tbody>\n",
        "    <tr>\n",
        "      <th>0</th>\n",
        "      <td> 824</td>\n",
        "      <td>  96</td>\n",
        "      <td> 268</td>\n",
        "      <td> 173</td>\n",
        "      <td> 279</td>\n",
        "      <td> 257</td>\n",
        "      <td> 227</td>\n",
        "      <td> 168</td>\n",
        "      <td>  77</td>\n",
        "      <td> 131</td>\n",
        "    </tr>\n",
        "    <tr>\n",
        "      <th>1</th>\n",
        "      <td>  77</td>\n",
        "      <td> 816</td>\n",
        "      <td> 178</td>\n",
        "      <td> 352</td>\n",
        "      <td> 116</td>\n",
        "      <td> 192</td>\n",
        "      <td> 123</td>\n",
        "      <td> 221</td>\n",
        "      <td> 253</td>\n",
        "      <td> 172</td>\n",
        "    </tr>\n",
        "    <tr>\n",
        "      <th>2</th>\n",
        "      <td> 254</td>\n",
        "      <td> 177</td>\n",
        "      <td> 477</td>\n",
        "      <td> 194</td>\n",
        "      <td> 275</td>\n",
        "      <td> 252</td>\n",
        "      <td> 238</td>\n",
        "      <td> 368</td>\n",
        "      <td> 121</td>\n",
        "      <td> 144</td>\n",
        "    </tr>\n",
        "    <tr>\n",
        "      <th>3</th>\n",
        "      <td> 139</td>\n",
        "      <td> 299</td>\n",
        "      <td> 216</td>\n",
        "      <td> 565</td>\n",
        "      <td> 183</td>\n",
        "      <td> 192</td>\n",
        "      <td> 181</td>\n",
        "      <td> 215</td>\n",
        "      <td> 260</td>\n",
        "      <td> 250</td>\n",
        "    </tr>\n",
        "    <tr>\n",
        "      <th>4</th>\n",
        "      <td> 258</td>\n",
        "      <td> 125</td>\n",
        "      <td> 261</td>\n",
        "      <td> 184</td>\n",
        "      <td> 534</td>\n",
        "      <td> 280</td>\n",
        "      <td> 272</td>\n",
        "      <td> 196</td>\n",
        "      <td> 144</td>\n",
        "      <td> 246</td>\n",
        "    </tr>\n",
        "    <tr>\n",
        "      <th>5</th>\n",
        "      <td> 238</td>\n",
        "      <td> 145</td>\n",
        "      <td> 257</td>\n",
        "      <td> 179</td>\n",
        "      <td> 228</td>\n",
        "      <td> 471</td>\n",
        "      <td> 440</td>\n",
        "      <td> 261</td>\n",
        "      <td> 130</td>\n",
        "      <td> 151</td>\n",
        "    </tr>\n",
        "    <tr>\n",
        "      <th>6</th>\n",
        "      <td> 204</td>\n",
        "      <td> 120</td>\n",
        "      <td> 251</td>\n",
        "      <td> 181</td>\n",
        "      <td> 282</td>\n",
        "      <td> 390</td>\n",
        "      <td> 594</td>\n",
        "      <td> 271</td>\n",
        "      <td>  88</td>\n",
        "      <td> 119</td>\n",
        "    </tr>\n",
        "    <tr>\n",
        "      <th>7</th>\n",
        "      <td> 156</td>\n",
        "      <td> 207</td>\n",
        "      <td> 309</td>\n",
        "      <td> 209</td>\n",
        "      <td> 210</td>\n",
        "      <td> 241</td>\n",
        "      <td> 307</td>\n",
        "      <td> 642</td>\n",
        "      <td> 103</td>\n",
        "      <td> 116</td>\n",
        "    </tr>\n",
        "    <tr>\n",
        "      <th>8</th>\n",
        "      <td>  77</td>\n",
        "      <td> 291</td>\n",
        "      <td> 135</td>\n",
        "      <td> 258</td>\n",
        "      <td> 141</td>\n",
        "      <td> 145</td>\n",
        "      <td> 111</td>\n",
        "      <td> 123</td>\n",
        "      <td> 831</td>\n",
        "      <td> 388</td>\n",
        "    </tr>\n",
        "    <tr>\n",
        "      <th>9</th>\n",
        "      <td> 147</td>\n",
        "      <td> 189</td>\n",
        "      <td> 157</td>\n",
        "      <td> 228</td>\n",
        "      <td> 240</td>\n",
        "      <td> 148</td>\n",
        "      <td> 117</td>\n",
        "      <td> 136</td>\n",
        "      <td> 359</td>\n",
        "      <td> 779</td>\n",
        "    </tr>\n",
        "  </tbody>\n",
        "</table>\n",
        "</div>"
       ],
       "metadata": {},
       "output_type": "pyout",
       "prompt_number": 55,
       "text": [
        "Predicted    0    1    2    3    4    5    6    7    8    9\n",
        "Actual                                                     \n",
        "0          824   96  268  173  279  257  227  168   77  131\n",
        "1           77  816  178  352  116  192  123  221  253  172\n",
        "2          254  177  477  194  275  252  238  368  121  144\n",
        "3          139  299  216  565  183  192  181  215  260  250\n",
        "4          258  125  261  184  534  280  272  196  144  246\n",
        "5          238  145  257  179  228  471  440  261  130  151\n",
        "6          204  120  251  181  282  390  594  271   88  119\n",
        "7          156  207  309  209  210  241  307  642  103  116\n",
        "8           77  291  135  258  141  145  111  123  831  388\n",
        "9          147  189  157  228  240  148  117  136  359  779"
       ]
      }
     ],
     "prompt_number": 55
    }
   ],
   "metadata": {}
  }
 ]
}