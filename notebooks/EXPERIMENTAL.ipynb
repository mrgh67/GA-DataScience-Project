{
 "metadata": {
  "name": "",
  "signature": "sha256:23b70399975d34be4d2df2976f530968d3dbc36919c2f3dd1333dbd4307f8770"
 },
 "nbformat": 3,
 "nbformat_minor": 0,
 "worksheets": [
  {
   "cells": [
    {
     "cell_type": "code",
     "collapsed": false,
     "input": [
      "import os, sys, inspect\n",
      "from IPython.display import Image\n",
      "from IPython.display import display\n",
      "from IPython.display import clear_output\n",
      "import time\n",
      "import hello"
     ],
     "language": "python",
     "metadata": {},
     "outputs": [],
     "prompt_number": 1
    },
    {
     "cell_type": "code",
     "collapsed": false,
     "input": [
      "cmd_subfolder = os.path.realpath(os.path.abspath(os.path.join(os.path.split(inspect.getfile( inspect.currentframe() ))[0],\"notebooks/GA-DataScience-Project/ds/\")))\n",
      "print cmd_subfolder\n",
      "if cmd_subfolder not in sys.path:\n",
      "     sys.path.insert(0, cmd_subfolder)"
     ],
     "language": "python",
     "metadata": {},
     "outputs": [
      {
       "output_type": "stream",
       "stream": "stdout",
       "text": [
        "/home/vagrant/notebooks/GA-DataScience-Project/ds\n"
       ]
      }
     ],
     "prompt_number": 3
    },
    {
     "cell_type": "code",
     "collapsed": false,
     "input": [
      "data = hello.getData(machine=\"laptop\")\n",
      "pp = hello.preProcess()\n",
      "gfe = hello.gaborFeatureExtraction()\n",
      "viz = hello.vizFeatures()\n",
      "clas = hello.objectClassification()\n",
      "dR = hello.dimReduction()"
     ],
     "language": "python",
     "metadata": {},
     "outputs": [
      {
       "output_type": "stream",
       "stream": "stdout",
       "text": [
        "You are working on laptop\n"
       ]
      }
     ],
     "prompt_number": 6
    },
    {
     "cell_type": "code",
     "collapsed": false,
     "input": [
      "lr = data.retrieveData(\"LogReg_2014-12-04_12-08-25.pik\", data.getPath(\"resultsT\"))\n",
      "lr['LogReg_clf'].trainData=0\n",
      "lr['LogReg_clf'].testData=0"
     ],
     "language": "python",
     "metadata": {},
     "outputs": [],
     "prompt_number": 7
    },
    {
     "cell_type": "code",
     "collapsed": false,
     "input": [
      "for i in np.arange(6435, 6454):\n",
      "    fileName = data.getPath(\"test\")+str(i)+\".png\"\n",
      "    print str(i)+\".png\"\n",
      "    j = Image(filename=fileName, width = 256, height=2564)\n",
      "    k = Image(filename=fileName)\n",
      "    clas.runTenClass(i, lr['LogReg_clf'])    \n",
      "    display(k)\n",
      "    display(j)\n",
      "    time.sleep(7)\n",
      "    clear_output()"
     ],
     "language": "python",
     "metadata": {},
     "outputs": [],
     "prompt_number": 11
    }
   ],
   "metadata": {}
  }
 ]
}